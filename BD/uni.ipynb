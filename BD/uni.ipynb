{
 "cells": [
  {
   "cell_type": "code",
   "execution_count": null,
   "metadata": {},
   "outputs": [],
   "source": [
    "import sqlite3\n",
    "from sqlite3 import Error\n",
    "\n",
    "conn = None\n",
    "\n",
    "try:\n",
    "    conn = sqlite3.connect('ejemplo.db')\n",
    "except Error as e:\n",
    "    print(e)\n",
    "\n",
    "cur = conn.cursor()\n",
    "cur.execute('SELECT * FROM empleado;')\n",
    "\n",
    "rows = cur.fetchall()\n",
    "for row in rows:\n",
    "    print(row)"
   ]
  }
 ],
 "metadata": {
  "language_info": {
   "name": "python"
  },
  "orig_nbformat": 4
 },
 "nbformat": 4,
 "nbformat_minor": 2
}
