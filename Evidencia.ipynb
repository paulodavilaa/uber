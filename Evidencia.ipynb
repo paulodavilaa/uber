{
 "cells": [
  {
   "cell_type": "code",
   "execution_count": 1,
   "metadata": {},
   "outputs": [
    {
     "ename": "ModuleNotFoundError",
     "evalue": "No module named 'mysql'",
     "output_type": "error",
     "traceback": [
      "\u001b[0;31m---------------------------------------------------------------------------\u001b[0m",
      "\u001b[0;31mModuleNotFoundError\u001b[0m                       Traceback (most recent call last)",
      "\u001b[1;32m/Users/paulodavila/Downloads/Paulo POO/MTY.TC1030.12.2111.43311.Paulo/programaspython/Evidencia.ipynb Cell 1\u001b[0m in \u001b[0;36m<cell line: 1>\u001b[0;34m()\u001b[0m\n\u001b[0;32m----> <a href='vscode-notebook-cell:/Users/paulodavila/Downloads/Paulo%20POO/MTY.TC1030.12.2111.43311.Paulo/programaspython/Evidencia.ipynb#W0sZmlsZQ%3D%3D?line=0'>1</a>\u001b[0m \u001b[39mimport\u001b[39;00m \u001b[39mmysql\u001b[39;00m\u001b[39m.\u001b[39;00m\u001b[39mconnector\u001b[39;00m\n\u001b[1;32m      <a href='vscode-notebook-cell:/Users/paulodavila/Downloads/Paulo%20POO/MTY.TC1030.12.2111.43311.Paulo/programaspython/Evidencia.ipynb#W0sZmlsZQ%3D%3D?line=1'>2</a>\u001b[0m \u001b[39mimport\u001b[39;00m \u001b[39mpandas\u001b[39;00m \u001b[39mas\u001b[39;00m \u001b[39mpd\u001b[39;00m\n\u001b[1;32m      <a href='vscode-notebook-cell:/Users/paulodavila/Downloads/Paulo%20POO/MTY.TC1030.12.2111.43311.Paulo/programaspython/Evidencia.ipynb#W0sZmlsZQ%3D%3D?line=2'>3</a>\u001b[0m \u001b[39mfrom\u001b[39;00m \u001b[39mconfig\u001b[39;00m \u001b[39mimport\u001b[39;00m \u001b[39m*\u001b[39m\n",
      "\u001b[0;31mModuleNotFoundError\u001b[0m: No module named 'mysql'"
     ]
    }
   ],
   "source": [
    "import mysql.connector\n",
    "import pandas as pd\n",
    "from config import *\n",
    "from statsmodels.formula.api import ols\n",
    "from sklearn.linear_model import LinearRegression\n",
    "from sklearn.tree import DecisionTreeRegressor\n",
    "import seaborn as sns\n",
    "import numpy as np\n",
    "import matplotlib.pyplot as plt\n",
    "import statsmodels.api as sm\n",
    "from sklearn.metrics import mean_squared_error"
   ]
  },
  {
   "cell_type": "code",
   "execution_count": 2,
   "metadata": {},
   "outputs": [],
   "source": [
    "my_user='tec_A00827376'\n",
    "secret='baBU0A1r!X3L2UU0'\n",
    "config = {\n",
    "    'user': my_user,\n",
    "    'password': secret,\n",
    "    'host': 'topline.dwh.suite.ghp.mx',\n",
    "    'database': 'dwh',\n",
    "    'raise_on_warnings': True\n",
    "}\n",
    "\n",
    "cnx = mysql.connector.connect(**config)"
   ]
  },
  {
   "cell_type": "code",
   "execution_count": 3,
   "metadata": {},
   "outputs": [
    {
     "name": "stderr",
     "output_type": "stream",
     "text": [
      "e:\\Programas\\Anaconda\\lib\\site-packages\\pandas\\io\\sql.py:761: UserWarning: pandas only support SQLAlchemy connectable(engine/connection) ordatabase string URI or sqlite3 DBAPI2 connectionother DBAPI2 objects are not tested, please consider using SQLAlchemy\n",
      "  warnings.warn(\n",
      "e:\\Programas\\Anaconda\\lib\\site-packages\\pandas\\io\\sql.py:761: UserWarning: pandas only support SQLAlchemy connectable(engine/connection) ordatabase string URI or sqlite3 DBAPI2 connectionother DBAPI2 objects are not tested, please consider using SQLAlchemy\n",
      "  warnings.warn(\n",
      "e:\\Programas\\Anaconda\\lib\\site-packages\\pandas\\io\\sql.py:761: UserWarning: pandas only support SQLAlchemy connectable(engine/connection) ordatabase string URI or sqlite3 DBAPI2 connectionother DBAPI2 objects are not tested, please consider using SQLAlchemy\n",
      "  warnings.warn(\n",
      "e:\\Programas\\Anaconda\\lib\\site-packages\\pandas\\io\\sql.py:761: UserWarning: pandas only support SQLAlchemy connectable(engine/connection) ordatabase string URI or sqlite3 DBAPI2 connectionother DBAPI2 objects are not tested, please consider using SQLAlchemy\n",
      "  warnings.warn(\n",
      "e:\\Programas\\Anaconda\\lib\\site-packages\\pandas\\io\\sql.py:761: UserWarning: pandas only support SQLAlchemy connectable(engine/connection) ordatabase string URI or sqlite3 DBAPI2 connectionother DBAPI2 objects are not tested, please consider using SQLAlchemy\n",
      "  warnings.warn(\n",
      "e:\\Programas\\Anaconda\\lib\\site-packages\\pandas\\io\\sql.py:761: UserWarning: pandas only support SQLAlchemy connectable(engine/connection) ordatabase string URI or sqlite3 DBAPI2 connectionother DBAPI2 objects are not tested, please consider using SQLAlchemy\n",
      "  warnings.warn(\n",
      "e:\\Programas\\Anaconda\\lib\\site-packages\\pandas\\io\\sql.py:761: UserWarning: pandas only support SQLAlchemy connectable(engine/connection) ordatabase string URI or sqlite3 DBAPI2 connectionother DBAPI2 objects are not tested, please consider using SQLAlchemy\n",
      "  warnings.warn(\n",
      "e:\\Programas\\Anaconda\\lib\\site-packages\\pandas\\io\\sql.py:761: UserWarning: pandas only support SQLAlchemy connectable(engine/connection) ordatabase string URI or sqlite3 DBAPI2 connectionother DBAPI2 objects are not tested, please consider using SQLAlchemy\n",
      "  warnings.warn(\n",
      "e:\\Programas\\Anaconda\\lib\\site-packages\\pandas\\io\\sql.py:761: UserWarning: pandas only support SQLAlchemy connectable(engine/connection) ordatabase string URI or sqlite3 DBAPI2 connectionother DBAPI2 objects are not tested, please consider using SQLAlchemy\n",
      "  warnings.warn(\n"
     ]
    }
   ],
   "source": [
    "DM_Chains = pd.read_sql(\"SELECT * FROM  DM_Chains\", cnx)\n",
    "\n",
    "DM_Venues = pd.read_sql(\"SELECT * FROM  DM_Venues\", cnx)\n",
    "\n",
    "DM_Brands = pd.read_sql(\"SELECT * FROM  DM_Brands\", cnx)\n",
    "\n",
    "DM_Verticals = pd.read_sql(\"SELECT * FROM  DM_Verticals\", cnx)\n",
    "\n",
    "DM_Cities = pd.read_sql(\"SELECT * FROM  DM_Cities\", cnx)\n",
    "\n",
    "DM_States = pd.read_sql(\"SELECT * FROM  DM_States\", cnx)\n",
    "\n",
    "DM_Countries = pd.read_sql(\"SELECT * FROM  DM_Countries\", cnx)\n",
    "\n",
    "DM_Business_Dates = pd.read_sql(\"SELECT * FROM  DM_Business_Dates\", cnx)\n",
    "\n",
    "factTable = pd.read_sql(\"SELECT * FROM  FT_Nights\", cnx)"
   ]
  },
  {
   "cell_type": "code",
   "execution_count": 4,
   "metadata": {},
   "outputs": [],
   "source": [
    "DM_Brands.rename(columns = {'name':'brand_name'}, inplace= True)\n",
    "\n",
    "DM_Chains.rename(columns = {'name':'chain_name'}, inplace= True)\n",
    "\n",
    "DM_Cities.rename(columns = {'name':'city_name'}, inplace= True)\n",
    "\n",
    "DM_Countries.rename(columns = {'name':'country_name','iso_code':'country_iso_code'}, inplace= True)\n",
    "\n",
    "DM_States.rename(columns = {'name':'state_name','iso_code':'state_iso_code'}, inplace= True)\n",
    "\n",
    "DM_Venues.rename(columns = {'name':'venue_name'}, inplace= True)\n",
    "\n",
    "DM_Verticals.rename(columns = {'name':'vertical_name'}, inplace= True)\n"
   ]
  },
  {
   "cell_type": "code",
   "execution_count": 5,
   "metadata": {},
   "outputs": [],
   "source": [
    "df = factTable.merge(DM_Venues, on='venue_id')\n",
    "\n",
    "df = df.merge(DM_Brands, on=\"brand_id\")\n",
    "\n",
    "df = df.merge(DM_Chains, on=\"chain_id\")\n",
    "\n",
    "df = df.merge(DM_Verticals, on=\"vertical_id\")\n",
    "\n",
    "df = df.merge(DM_Cities, on=\"city_id\")\n",
    "\n",
    "df = df.merge(DM_States, on=\"state_id\")\n",
    "\n",
    "df = df.merge(DM_Countries, on=\"country_id\")\n",
    "\n",
    "df = df.merge(DM_Business_Dates, on=\"business_date_id\")"
   ]
  },
  {
   "cell_type": "code",
   "execution_count": 6,
   "metadata": {},
   "outputs": [],
   "source": [
    "df = df[df.found != 0]\n",
    "df = df[df.active != 0]"
   ]
  },
  {
   "cell_type": "code",
   "execution_count": 7,
   "metadata": {},
   "outputs": [],
   "source": [
    "datos = df.drop(['week_day_name', 'month_name_short','month_name','iso_week_year','available_rooms','country_id','country_iso_code','day', 'month', 'year', 'week_day',\n",
    " 'day_of_year','venue_id', 'business_date_id', 'found','currency_id','brand_id','vertical_id', 'region_id', 'city_id','chain_id', 'state_id','state_iso_code', \n",
    " 'iso_week_number','quarter', 'semester', 'incode','latitude','longitude'],axis= 1)"
   ]
  },
  {
   "cell_type": "code",
   "execution_count": 8,
   "metadata": {},
   "outputs": [],
   "source": [
    "datos = datos[datos[\"venue_name\"].str.contains(\"Wyndham\") == True]"
   ]
  },
  {
   "cell_type": "code",
   "execution_count": 9,
   "metadata": {},
   "outputs": [
    {
     "data": {
      "text/plain": [
       "array(['Wyndham Garden Playa del Carmen',\n",
       "       'Wyndham Garden Guadalajara Andares',\n",
       "       'Wyndham Garden Monterrey Valle Real',\n",
       "       'Microtel Inn & Suites by Wyndham Chihuahua',\n",
       "       'Microtel Inn & Suites by Wyndham Ciudad Juárez',\n",
       "       'Microtel Inn & Suites by Wyndham Toluca'], dtype=object)"
      ]
     },
     "execution_count": 9,
     "metadata": {},
     "output_type": "execute_result"
    }
   ],
   "source": [
    "datos.venue_name.unique()"
   ]
  },
  {
   "cell_type": "markdown",
   "metadata": {},
   "source": [
    "## Exploración de datos"
   ]
  },
  {
   "cell_type": "code",
   "execution_count": 10,
   "metadata": {},
   "outputs": [
    {
     "data": {
      "text/html": [
       "<div>\n",
       "<style scoped>\n",
       "    .dataframe tbody tr th:only-of-type {\n",
       "        vertical-align: middle;\n",
       "    }\n",
       "\n",
       "    .dataframe tbody tr th {\n",
       "        vertical-align: top;\n",
       "    }\n",
       "\n",
       "    .dataframe thead th {\n",
       "        text-align: right;\n",
       "    }\n",
       "</style>\n",
       "<table border=\"1\" class=\"dataframe\">\n",
       "  <thead>\n",
       "    <tr style=\"text-align: right;\">\n",
       "      <th></th>\n",
       "      <th>night_id</th>\n",
       "      <th>rooms_available</th>\n",
       "      <th>rooms_occupied</th>\n",
       "      <th>rooms_revenue</th>\n",
       "      <th>compset_rooms_available</th>\n",
       "      <th>compset_rooms_occupied</th>\n",
       "      <th>compset_rooms_revenue</th>\n",
       "      <th>active</th>\n",
       "    </tr>\n",
       "  </thead>\n",
       "  <tbody>\n",
       "    <tr>\n",
       "      <th>count</th>\n",
       "      <td>5205.000000</td>\n",
       "      <td>5205.000000</td>\n",
       "      <td>5205.000000</td>\n",
       "      <td>5205.000000</td>\n",
       "      <td>5205.000000</td>\n",
       "      <td>5205.000000</td>\n",
       "      <td>5.205000e+03</td>\n",
       "      <td>5205.0</td>\n",
       "    </tr>\n",
       "    <tr>\n",
       "      <th>mean</th>\n",
       "      <td>23030.120461</td>\n",
       "      <td>132.760231</td>\n",
       "      <td>50.185975</td>\n",
       "      <td>52290.286013</td>\n",
       "      <td>656.075889</td>\n",
       "      <td>254.542555</td>\n",
       "      <td>2.677102e+05</td>\n",
       "      <td>1.0</td>\n",
       "    </tr>\n",
       "    <tr>\n",
       "      <th>std</th>\n",
       "      <td>12276.225359</td>\n",
       "      <td>44.673215</td>\n",
       "      <td>37.014248</td>\n",
       "      <td>47627.971030</td>\n",
       "      <td>177.814075</td>\n",
       "      <td>158.810078</td>\n",
       "      <td>2.108280e+05</td>\n",
       "      <td>0.0</td>\n",
       "    </tr>\n",
       "    <tr>\n",
       "      <th>min</th>\n",
       "      <td>8821.000000</td>\n",
       "      <td>0.000000</td>\n",
       "      <td>0.000000</td>\n",
       "      <td>-9028.640000</td>\n",
       "      <td>0.000000</td>\n",
       "      <td>0.000000</td>\n",
       "      <td>-3.266100e+03</td>\n",
       "      <td>1.0</td>\n",
       "    </tr>\n",
       "    <tr>\n",
       "      <th>25%</th>\n",
       "      <td>12773.000000</td>\n",
       "      <td>108.000000</td>\n",
       "      <td>22.000000</td>\n",
       "      <td>18179.760000</td>\n",
       "      <td>586.000000</td>\n",
       "      <td>145.000000</td>\n",
       "      <td>1.239207e+05</td>\n",
       "      <td>1.0</td>\n",
       "    </tr>\n",
       "    <tr>\n",
       "      <th>50%</th>\n",
       "      <td>17602.000000</td>\n",
       "      <td>113.000000</td>\n",
       "      <td>45.000000</td>\n",
       "      <td>37702.380000</td>\n",
       "      <td>595.000000</td>\n",
       "      <td>236.000000</td>\n",
       "      <td>2.164067e+05</td>\n",
       "      <td>1.0</td>\n",
       "    </tr>\n",
       "    <tr>\n",
       "      <th>75%</th>\n",
       "      <td>31251.000000</td>\n",
       "      <td>186.000000</td>\n",
       "      <td>74.000000</td>\n",
       "      <td>75135.120000</td>\n",
       "      <td>766.000000</td>\n",
       "      <td>334.000000</td>\n",
       "      <td>3.511061e+05</td>\n",
       "      <td>1.0</td>\n",
       "    </tr>\n",
       "    <tr>\n",
       "      <th>max</th>\n",
       "      <td>46746.000000</td>\n",
       "      <td>196.000000</td>\n",
       "      <td>177.000000</td>\n",
       "      <td>399920.670000</td>\n",
       "      <td>1009.000000</td>\n",
       "      <td>951.000000</td>\n",
       "      <td>1.623219e+06</td>\n",
       "      <td>1.0</td>\n",
       "    </tr>\n",
       "  </tbody>\n",
       "</table>\n",
       "</div>"
      ],
      "text/plain": [
       "           night_id  rooms_available  rooms_occupied  rooms_revenue  \\\n",
       "count   5205.000000      5205.000000     5205.000000    5205.000000   \n",
       "mean   23030.120461       132.760231       50.185975   52290.286013   \n",
       "std    12276.225359        44.673215       37.014248   47627.971030   \n",
       "min     8821.000000         0.000000        0.000000   -9028.640000   \n",
       "25%    12773.000000       108.000000       22.000000   18179.760000   \n",
       "50%    17602.000000       113.000000       45.000000   37702.380000   \n",
       "75%    31251.000000       186.000000       74.000000   75135.120000   \n",
       "max    46746.000000       196.000000      177.000000  399920.670000   \n",
       "\n",
       "       compset_rooms_available  compset_rooms_occupied  compset_rooms_revenue  \\\n",
       "count              5205.000000             5205.000000           5.205000e+03   \n",
       "mean                656.075889              254.542555           2.677102e+05   \n",
       "std                 177.814075              158.810078           2.108280e+05   \n",
       "min                   0.000000                0.000000          -3.266100e+03   \n",
       "25%                 586.000000              145.000000           1.239207e+05   \n",
       "50%                 595.000000              236.000000           2.164067e+05   \n",
       "75%                 766.000000              334.000000           3.511061e+05   \n",
       "max                1009.000000              951.000000           1.623219e+06   \n",
       "\n",
       "       active  \n",
       "count  5205.0  \n",
       "mean      1.0  \n",
       "std       0.0  \n",
       "min       1.0  \n",
       "25%       1.0  \n",
       "50%       1.0  \n",
       "75%       1.0  \n",
       "max       1.0  "
      ]
     },
     "execution_count": 10,
     "metadata": {},
     "output_type": "execute_result"
    }
   ],
   "source": [
    "datos.describe()"
   ]
  },
  {
   "cell_type": "markdown",
   "metadata": {},
   "source": [
    "## Creación de modelo"
   ]
  },
  {
   "cell_type": "code",
   "execution_count": 11,
   "metadata": {},
   "outputs": [
    {
     "data": {
      "text/html": [
       "<div>\n",
       "<style scoped>\n",
       "    .dataframe tbody tr th:only-of-type {\n",
       "        vertical-align: middle;\n",
       "    }\n",
       "\n",
       "    .dataframe tbody tr th {\n",
       "        vertical-align: top;\n",
       "    }\n",
       "\n",
       "    .dataframe thead th {\n",
       "        text-align: right;\n",
       "    }\n",
       "</style>\n",
       "<table border=\"1\" class=\"dataframe\">\n",
       "  <thead>\n",
       "    <tr style=\"text-align: right;\">\n",
       "      <th></th>\n",
       "      <th>night_id</th>\n",
       "      <th>rooms_available</th>\n",
       "      <th>rooms_occupied</th>\n",
       "      <th>rooms_revenue</th>\n",
       "      <th>compset_rooms_available</th>\n",
       "      <th>compset_rooms_occupied</th>\n",
       "      <th>compset_rooms_revenue</th>\n",
       "      <th>active</th>\n",
       "    </tr>\n",
       "  </thead>\n",
       "  <tbody>\n",
       "    <tr>\n",
       "      <th>night_id</th>\n",
       "      <td>1.000000</td>\n",
       "      <td>-0.395338</td>\n",
       "      <td>-0.288664</td>\n",
       "      <td>-0.319548</td>\n",
       "      <td>0.106411</td>\n",
       "      <td>-0.073157</td>\n",
       "      <td>-0.135673</td>\n",
       "      <td>NaN</td>\n",
       "    </tr>\n",
       "    <tr>\n",
       "      <th>rooms_available</th>\n",
       "      <td>-0.395338</td>\n",
       "      <td>1.000000</td>\n",
       "      <td>0.446854</td>\n",
       "      <td>0.433716</td>\n",
       "      <td>0.119442</td>\n",
       "      <td>0.193882</td>\n",
       "      <td>0.191279</td>\n",
       "      <td>NaN</td>\n",
       "    </tr>\n",
       "    <tr>\n",
       "      <th>rooms_occupied</th>\n",
       "      <td>-0.288664</td>\n",
       "      <td>0.446854</td>\n",
       "      <td>1.000000</td>\n",
       "      <td>0.934125</td>\n",
       "      <td>0.047097</td>\n",
       "      <td>0.763274</td>\n",
       "      <td>0.723661</td>\n",
       "      <td>NaN</td>\n",
       "    </tr>\n",
       "    <tr>\n",
       "      <th>rooms_revenue</th>\n",
       "      <td>-0.319548</td>\n",
       "      <td>0.433716</td>\n",
       "      <td>0.934125</td>\n",
       "      <td>1.000000</td>\n",
       "      <td>0.200215</td>\n",
       "      <td>0.800935</td>\n",
       "      <td>0.832417</td>\n",
       "      <td>NaN</td>\n",
       "    </tr>\n",
       "    <tr>\n",
       "      <th>compset_rooms_available</th>\n",
       "      <td>0.106411</td>\n",
       "      <td>0.119442</td>\n",
       "      <td>0.047097</td>\n",
       "      <td>0.200215</td>\n",
       "      <td>1.000000</td>\n",
       "      <td>0.396244</td>\n",
       "      <td>0.412761</td>\n",
       "      <td>NaN</td>\n",
       "    </tr>\n",
       "    <tr>\n",
       "      <th>compset_rooms_occupied</th>\n",
       "      <td>-0.073157</td>\n",
       "      <td>0.193882</td>\n",
       "      <td>0.763274</td>\n",
       "      <td>0.800935</td>\n",
       "      <td>0.396244</td>\n",
       "      <td>1.000000</td>\n",
       "      <td>0.961643</td>\n",
       "      <td>NaN</td>\n",
       "    </tr>\n",
       "    <tr>\n",
       "      <th>compset_rooms_revenue</th>\n",
       "      <td>-0.135673</td>\n",
       "      <td>0.191279</td>\n",
       "      <td>0.723661</td>\n",
       "      <td>0.832417</td>\n",
       "      <td>0.412761</td>\n",
       "      <td>0.961643</td>\n",
       "      <td>1.000000</td>\n",
       "      <td>NaN</td>\n",
       "    </tr>\n",
       "    <tr>\n",
       "      <th>active</th>\n",
       "      <td>NaN</td>\n",
       "      <td>NaN</td>\n",
       "      <td>NaN</td>\n",
       "      <td>NaN</td>\n",
       "      <td>NaN</td>\n",
       "      <td>NaN</td>\n",
       "      <td>NaN</td>\n",
       "      <td>NaN</td>\n",
       "    </tr>\n",
       "  </tbody>\n",
       "</table>\n",
       "</div>"
      ],
      "text/plain": [
       "                         night_id  rooms_available  rooms_occupied  \\\n",
       "night_id                 1.000000        -0.395338       -0.288664   \n",
       "rooms_available         -0.395338         1.000000        0.446854   \n",
       "rooms_occupied          -0.288664         0.446854        1.000000   \n",
       "rooms_revenue           -0.319548         0.433716        0.934125   \n",
       "compset_rooms_available  0.106411         0.119442        0.047097   \n",
       "compset_rooms_occupied  -0.073157         0.193882        0.763274   \n",
       "compset_rooms_revenue   -0.135673         0.191279        0.723661   \n",
       "active                        NaN              NaN             NaN   \n",
       "\n",
       "                         rooms_revenue  compset_rooms_available  \\\n",
       "night_id                     -0.319548                 0.106411   \n",
       "rooms_available               0.433716                 0.119442   \n",
       "rooms_occupied                0.934125                 0.047097   \n",
       "rooms_revenue                 1.000000                 0.200215   \n",
       "compset_rooms_available       0.200215                 1.000000   \n",
       "compset_rooms_occupied        0.800935                 0.396244   \n",
       "compset_rooms_revenue         0.832417                 0.412761   \n",
       "active                             NaN                      NaN   \n",
       "\n",
       "                         compset_rooms_occupied  compset_rooms_revenue  active  \n",
       "night_id                              -0.073157              -0.135673     NaN  \n",
       "rooms_available                        0.193882               0.191279     NaN  \n",
       "rooms_occupied                         0.763274               0.723661     NaN  \n",
       "rooms_revenue                          0.800935               0.832417     NaN  \n",
       "compset_rooms_available                0.396244               0.412761     NaN  \n",
       "compset_rooms_occupied                 1.000000               0.961643     NaN  \n",
       "compset_rooms_revenue                  0.961643               1.000000     NaN  \n",
       "active                                      NaN                    NaN     NaN  "
      ]
     },
     "execution_count": 11,
     "metadata": {},
     "output_type": "execute_result"
    }
   ],
   "source": [
    "datos.corr()"
   ]
  },
  {
   "cell_type": "code",
   "execution_count": 12,
   "metadata": {},
   "outputs": [],
   "source": [
    "#Declaramos nuestras variables independientes \n",
    "X = pd.DataFrame(datos[['rooms_revenue', 'compset_rooms_available', 'compset_rooms_revenue']])\n",
    "X = sm.add_constant(X)\n",
    "#Definimos la variable dependiente\n",
    "Y = pd.DataFrame(datos['rooms_occupied']) "
   ]
  },
  {
   "cell_type": "code",
   "execution_count": 13,
   "metadata": {},
   "outputs": [],
   "source": [
    "from sklearn.model_selection import train_test_split\n",
    "X_train, X_test, y_train, y_test = train_test_split(X, Y, test_size=0.30, random_state=42)"
   ]
  },
  {
   "cell_type": "markdown",
   "metadata": {},
   "source": [
    "## Modelo lineal1"
   ]
  },
  {
   "cell_type": "code",
   "execution_count": 14,
   "metadata": {},
   "outputs": [],
   "source": [
    "model1 = sm.OLS(y_train,X_train).fit()"
   ]
  },
  {
   "cell_type": "code",
   "execution_count": 15,
   "metadata": {},
   "outputs": [
    {
     "name": "stdout",
     "output_type": "stream",
     "text": [
      "                            OLS Regression Results                            \n",
      "==============================================================================\n",
      "Dep. Variable:         rooms_occupied   R-squared:                       0.896\n",
      "Model:                            OLS   Adj. R-squared:                  0.896\n",
      "Method:                 Least Squares   F-statistic:                 1.044e+04\n",
      "Date:                Tue, 25 Oct 2022   Prob (F-statistic):               0.00\n",
      "Time:                        11:30:49   Log-Likelihood:                -14157.\n",
      "No. Observations:                3643   AIC:                         2.832e+04\n",
      "Df Residuals:                    3639   BIC:                         2.835e+04\n",
      "Df Model:                           3                                         \n",
      "Covariance Type:            nonrobust                                         \n",
      "===========================================================================================\n",
      "                              coef    std err          t      P>|t|      [0.025      0.975]\n",
      "-------------------------------------------------------------------------------------------\n",
      "const                      28.5105      0.778     36.659      0.000      26.986      30.035\n",
      "rooms_revenue               0.0008   7.96e-06    100.448      0.000       0.001       0.001\n",
      "compset_rooms_available    -0.0251      0.001    -19.814      0.000      -0.028      -0.023\n",
      "compset_rooms_revenue   -1.417e-05   1.91e-06     -7.414      0.000   -1.79e-05   -1.04e-05\n",
      "==============================================================================\n",
      "Omnibus:                      681.489   Durbin-Watson:                   2.049\n",
      "Prob(Omnibus):                  0.000   Jarque-Bera (JB):             7800.032\n",
      "Skew:                          -0.545   Prob(JB):                         0.00\n",
      "Kurtosis:                      10.085   Cond. No.                     1.38e+06\n",
      "==============================================================================\n",
      "\n",
      "Notes:\n",
      "[1] Standard Errors assume that the covariance matrix of the errors is correctly specified.\n",
      "[2] The condition number is large, 1.38e+06. This might indicate that there are\n",
      "strong multicollinearity or other numerical problems.\n"
     ]
    }
   ],
   "source": [
    "print(model1.summary())"
   ]
  },
  {
   "cell_type": "code",
   "execution_count": 16,
   "metadata": {},
   "outputs": [
    {
     "data": {
      "text/plain": [
       "158.48179157285247"
      ]
     },
     "execution_count": 16,
     "metadata": {},
     "output_type": "execute_result"
    }
   ],
   "source": [
    "mean_squared_error(y_test,model1.predict(X_test))\n"
   ]
  },
  {
   "cell_type": "markdown",
   "metadata": {},
   "source": [
    "## Modelo Lineal2"
   ]
  },
  {
   "cell_type": "code",
   "execution_count": 17,
   "metadata": {},
   "outputs": [],
   "source": [
    "#Declaramos nuestras variables independientes \n",
    "X = pd.DataFrame(datos[['rooms_revenue', 'rooms_available']])\n",
    "X = sm.add_constant(X)\n",
    "#Definimos la variable dependiente\n",
    "Y = pd.DataFrame(datos['rooms_occupied']) "
   ]
  },
  {
   "cell_type": "code",
   "execution_count": 18,
   "metadata": {},
   "outputs": [],
   "source": [
    "from sklearn.model_selection import train_test_split\n",
    "X_train, X_test, y_train, y_test = train_test_split(X, Y, test_size=0.30, random_state=42)"
   ]
  },
  {
   "cell_type": "code",
   "execution_count": 19,
   "metadata": {},
   "outputs": [
    {
     "name": "stdout",
     "output_type": "stream",
     "text": [
      "[7.1489941] [[0.         0.00070802 0.04486435]] 0.8771943898953448\n"
     ]
    }
   ],
   "source": [
    "model2=LinearRegression()\n",
    "model2.fit(X_train,y_train)\n",
    "print(model2.intercept_, model2.coef_, model2.score(X_train,y_train))"
   ]
  },
  {
   "cell_type": "code",
   "execution_count": 20,
   "metadata": {},
   "outputs": [
    {
     "data": {
      "text/plain": [
       "189.45602598100356"
      ]
     },
     "execution_count": 20,
     "metadata": {},
     "output_type": "execute_result"
    }
   ],
   "source": [
    "mean_squared_error(y_test,model2.predict(X_test))"
   ]
  },
  {
   "cell_type": "markdown",
   "metadata": {},
   "source": [
    "## Regresión no lineal"
   ]
  },
  {
   "cell_type": "code",
   "execution_count": 21,
   "metadata": {},
   "outputs": [],
   "source": [
    "from sklearn.pipeline import Pipeline\n",
    "from sklearn.preprocessing import PolynomialFeatures\n",
    "from sklearn.metrics import mean_squared_error\n",
    "\n",
    "\n",
    "def get_MSE_for_degree_k_model (k):\n",
    "    pipelined_model = Pipeline([\n",
    "        ('transform', PolynomialFeatures(degree=k)),\n",
    "        ('regression',LinearRegression(fit_intercept=True))\n",
    "    ])\n",
    "    pipelined_model.fit(X_train[['rooms_revenue']],y_train)\n",
    "    return mean_squared_error(pipelined_model.predict(X_test[['rooms_revenue']]),y_test)"
   ]
  },
  {
   "cell_type": "code",
   "execution_count": 22,
   "metadata": {},
   "outputs": [
    {
     "data": {
      "text/html": [
       "<div>\n",
       "<style scoped>\n",
       "    .dataframe tbody tr th:only-of-type {\n",
       "        vertical-align: middle;\n",
       "    }\n",
       "\n",
       "    .dataframe tbody tr th {\n",
       "        vertical-align: top;\n",
       "    }\n",
       "\n",
       "    .dataframe thead th {\n",
       "        text-align: right;\n",
       "    }\n",
       "</style>\n",
       "<table border=\"1\" class=\"dataframe\">\n",
       "  <thead>\n",
       "    <tr style=\"text-align: right;\">\n",
       "      <th></th>\n",
       "      <th>k</th>\n",
       "      <th>MSE</th>\n",
       "    </tr>\n",
       "  </thead>\n",
       "  <tbody>\n",
       "    <tr>\n",
       "      <th>0</th>\n",
       "      <td>0</td>\n",
       "      <td>1451.395583</td>\n",
       "    </tr>\n",
       "    <tr>\n",
       "      <th>1</th>\n",
       "      <td>1</td>\n",
       "      <td>191.509976</td>\n",
       "    </tr>\n",
       "    <tr>\n",
       "      <th>2</th>\n",
       "      <td>2</td>\n",
       "      <td>148.839867</td>\n",
       "    </tr>\n",
       "    <tr>\n",
       "      <th>3</th>\n",
       "      <td>3</td>\n",
       "      <td>143.046668</td>\n",
       "    </tr>\n",
       "    <tr>\n",
       "      <th>4</th>\n",
       "      <td>4</td>\n",
       "      <td>246.877123</td>\n",
       "    </tr>\n",
       "    <tr>\n",
       "      <th>5</th>\n",
       "      <td>5</td>\n",
       "      <td>430.106203</td>\n",
       "    </tr>\n",
       "    <tr>\n",
       "      <th>6</th>\n",
       "      <td>6</td>\n",
       "      <td>656.009146</td>\n",
       "    </tr>\n",
       "    <tr>\n",
       "      <th>7</th>\n",
       "      <td>7</td>\n",
       "      <td>921.185601</td>\n",
       "    </tr>\n",
       "    <tr>\n",
       "      <th>8</th>\n",
       "      <td>8</td>\n",
       "      <td>1192.812166</td>\n",
       "    </tr>\n",
       "    <tr>\n",
       "      <th>9</th>\n",
       "      <td>9</td>\n",
       "      <td>1419.948556</td>\n",
       "    </tr>\n",
       "  </tbody>\n",
       "</table>\n",
       "</div>"
      ],
      "text/plain": [
       "   k          MSE\n",
       "0  0  1451.395583\n",
       "1  1   191.509976\n",
       "2  2   148.839867\n",
       "3  3   143.046668\n",
       "4  4   246.877123\n",
       "5  5   430.106203\n",
       "6  6   656.009146\n",
       "7  7   921.185601\n",
       "8  8  1192.812166\n",
       "9  9  1419.948556"
      ]
     },
     "execution_count": 22,
     "metadata": {},
     "output_type": "execute_result"
    }
   ],
   "source": [
    "ks=np.array(range(0,10))\n",
    "MSEs = [get_MSE_for_degree_k_model(k) for k in ks]\n",
    "MSEs_and_k =pd.DataFrame({'k':ks,'MSE':MSEs})\n",
    "MSEs_and_k"
   ]
  },
  {
   "cell_type": "markdown",
   "metadata": {},
   "source": [
    "### Se usara el modelo cúbico"
   ]
  },
  {
   "cell_type": "code",
   "execution_count": 23,
   "metadata": {},
   "outputs": [],
   "source": [
    "X = pd.DataFrame(X_train['rooms_revenue'])"
   ]
  },
  {
   "cell_type": "code",
   "execution_count": 24,
   "metadata": {},
   "outputs": [],
   "source": [
    "X['x2']= X['rooms_revenue']**2\n",
    "X['x3']= X['rooms_revenue']**3"
   ]
  },
  {
   "cell_type": "code",
   "execution_count": 25,
   "metadata": {},
   "outputs": [
    {
     "data": {
      "text/html": [
       "<div>\n",
       "<style scoped>\n",
       "    .dataframe tbody tr th:only-of-type {\n",
       "        vertical-align: middle;\n",
       "    }\n",
       "\n",
       "    .dataframe tbody tr th {\n",
       "        vertical-align: top;\n",
       "    }\n",
       "\n",
       "    .dataframe thead th {\n",
       "        text-align: right;\n",
       "    }\n",
       "</style>\n",
       "<table border=\"1\" class=\"dataframe\">\n",
       "  <thead>\n",
       "    <tr style=\"text-align: right;\">\n",
       "      <th></th>\n",
       "      <th>rooms_revenue</th>\n",
       "      <th>x2</th>\n",
       "      <th>x3</th>\n",
       "    </tr>\n",
       "  </thead>\n",
       "  <tbody>\n",
       "    <tr>\n",
       "      <th>726335</th>\n",
       "      <td>19285.00</td>\n",
       "      <td>3.719112e+08</td>\n",
       "      <td>7.172308e+12</td>\n",
       "    </tr>\n",
       "    <tr>\n",
       "      <th>741345</th>\n",
       "      <td>65886.67</td>\n",
       "      <td>4.341053e+09</td>\n",
       "      <td>2.860175e+14</td>\n",
       "    </tr>\n",
       "    <tr>\n",
       "      <th>618107</th>\n",
       "      <td>87094.10</td>\n",
       "      <td>7.585382e+09</td>\n",
       "      <td>6.606420e+14</td>\n",
       "    </tr>\n",
       "    <tr>\n",
       "      <th>748550</th>\n",
       "      <td>36560.07</td>\n",
       "      <td>1.336639e+09</td>\n",
       "      <td>4.886761e+13</td>\n",
       "    </tr>\n",
       "    <tr>\n",
       "      <th>332351</th>\n",
       "      <td>16175.30</td>\n",
       "      <td>2.616403e+08</td>\n",
       "      <td>4.232111e+12</td>\n",
       "    </tr>\n",
       "    <tr>\n",
       "      <th>...</th>\n",
       "      <td>...</td>\n",
       "      <td>...</td>\n",
       "      <td>...</td>\n",
       "    </tr>\n",
       "    <tr>\n",
       "      <th>59963</th>\n",
       "      <td>85578.64</td>\n",
       "      <td>7.323704e+09</td>\n",
       "      <td>6.267526e+14</td>\n",
       "    </tr>\n",
       "    <tr>\n",
       "      <th>609570</th>\n",
       "      <td>53961.19</td>\n",
       "      <td>2.911810e+09</td>\n",
       "      <td>1.571247e+14</td>\n",
       "    </tr>\n",
       "    <tr>\n",
       "      <th>738862</th>\n",
       "      <td>36578.36</td>\n",
       "      <td>1.337976e+09</td>\n",
       "      <td>4.894098e+13</td>\n",
       "    </tr>\n",
       "    <tr>\n",
       "      <th>751897</th>\n",
       "      <td>28248.29</td>\n",
       "      <td>7.979659e+08</td>\n",
       "      <td>2.254117e+13</td>\n",
       "    </tr>\n",
       "    <tr>\n",
       "      <th>151141</th>\n",
       "      <td>0.00</td>\n",
       "      <td>0.000000e+00</td>\n",
       "      <td>0.000000e+00</td>\n",
       "    </tr>\n",
       "  </tbody>\n",
       "</table>\n",
       "<p>3643 rows × 3 columns</p>\n",
       "</div>"
      ],
      "text/plain": [
       "        rooms_revenue            x2            x3\n",
       "726335       19285.00  3.719112e+08  7.172308e+12\n",
       "741345       65886.67  4.341053e+09  2.860175e+14\n",
       "618107       87094.10  7.585382e+09  6.606420e+14\n",
       "748550       36560.07  1.336639e+09  4.886761e+13\n",
       "332351       16175.30  2.616403e+08  4.232111e+12\n",
       "...               ...           ...           ...\n",
       "59963        85578.64  7.323704e+09  6.267526e+14\n",
       "609570       53961.19  2.911810e+09  1.571247e+14\n",
       "738862       36578.36  1.337976e+09  4.894098e+13\n",
       "751897       28248.29  7.979659e+08  2.254117e+13\n",
       "151141           0.00  0.000000e+00  0.000000e+00\n",
       "\n",
       "[3643 rows x 3 columns]"
      ]
     },
     "execution_count": 25,
     "metadata": {},
     "output_type": "execute_result"
    }
   ],
   "source": [
    "X"
   ]
  },
  {
   "cell_type": "code",
   "execution_count": 26,
   "metadata": {},
   "outputs": [
    {
     "name": "stdout",
     "output_type": "stream",
     "text": [
      "[3.32023059] [[ 1.16657195e-03 -3.50067205e-09  5.02133199e-15]] 0.903308922231241\n"
     ]
    }
   ],
   "source": [
    "model3=LinearRegression()\n",
    "model3.fit(X[['rooms_revenue','x2','x3']],y_train)\n",
    "print(model3.intercept_, model3.coef_, model3.score(X[['rooms_revenue','x2','x3']],y_train))"
   ]
  },
  {
   "cell_type": "code",
   "execution_count": 27,
   "metadata": {},
   "outputs": [],
   "source": [
    "X_test = pd.DataFrame(X_test['rooms_revenue'])\n",
    "X_test['x2']= X_test['rooms_revenue']**2\n",
    "X_test['x3']= X_test['rooms_revenue']**3"
   ]
  },
  {
   "cell_type": "code",
   "execution_count": 28,
   "metadata": {},
   "outputs": [
    {
     "data": {
      "text/plain": [
       "143.0467127913151"
      ]
     },
     "execution_count": 28,
     "metadata": {},
     "output_type": "execute_result"
    }
   ],
   "source": [
    "mean_squared_error(y_test,model3.predict(X_test[['rooms_revenue','x2','x3']]))"
   ]
  },
  {
   "cell_type": "markdown",
   "metadata": {},
   "source": [
    "### Análisis ANOVA"
   ]
  },
  {
   "cell_type": "code",
   "execution_count": 29,
   "metadata": {},
   "outputs": [],
   "source": [
    "from statsmodels.formula.api import ols\n",
    "model_ols1 = ols('rooms_occupied ~ C(rooms_revenue)', data=datos).fit()"
   ]
  },
  {
   "cell_type": "code",
   "execution_count": 37,
   "metadata": {},
   "outputs": [
    {
     "data": {
      "text/html": [
       "<div>\n",
       "<style scoped>\n",
       "    .dataframe tbody tr th:only-of-type {\n",
       "        vertical-align: middle;\n",
       "    }\n",
       "\n",
       "    .dataframe tbody tr th {\n",
       "        vertical-align: top;\n",
       "    }\n",
       "\n",
       "    .dataframe thead th {\n",
       "        text-align: right;\n",
       "    }\n",
       "</style>\n",
       "<table border=\"1\" class=\"dataframe\">\n",
       "  <thead>\n",
       "    <tr style=\"text-align: right;\">\n",
       "      <th></th>\n",
       "      <th>df</th>\n",
       "      <th>sum_sq</th>\n",
       "      <th>mean_sq</th>\n",
       "      <th>F</th>\n",
       "      <th>PR(&gt;F)</th>\n",
       "    </tr>\n",
       "  </thead>\n",
       "  <tbody>\n",
       "    <tr>\n",
       "      <th>C(rooms_revenue)</th>\n",
       "      <td>4682.0</td>\n",
       "      <td>7.129029e+06</td>\n",
       "      <td>1522.646086</td>\n",
       "      <td>1081.389465</td>\n",
       "      <td>0.0</td>\n",
       "    </tr>\n",
       "    <tr>\n",
       "      <th>Residual</th>\n",
       "      <td>522.0</td>\n",
       "      <td>7.350000e+02</td>\n",
       "      <td>1.408046</td>\n",
       "      <td>NaN</td>\n",
       "      <td>NaN</td>\n",
       "    </tr>\n",
       "  </tbody>\n",
       "</table>\n",
       "</div>"
      ],
      "text/plain": [
       "                      df        sum_sq      mean_sq            F  PR(>F)\n",
       "C(rooms_revenue)  4682.0  7.129029e+06  1522.646086  1081.389465     0.0\n",
       "Residual           522.0  7.350000e+02     1.408046          NaN     NaN"
      ]
     },
     "execution_count": 37,
     "metadata": {},
     "output_type": "execute_result"
    }
   ],
   "source": [
    "anova_table1 = sm.stats.anova_lm(model_ols1)\n",
    "anova_table1"
   ]
  },
  {
   "cell_type": "code",
   "execution_count": 35,
   "metadata": {},
   "outputs": [
    {
     "ename": "AttributeError",
     "evalue": "'LinearRegression' object has no attribute 'model'",
     "output_type": "error",
     "traceback": [
      "\u001b[1;31m---------------------------------------------------------------------------\u001b[0m",
      "\u001b[1;31mAttributeError\u001b[0m                            Traceback (most recent call last)",
      "\u001b[1;32me:\\Documentos\\Analítica de Datos e Inteligencia Artificial\\VisualStudio\\forecaster_DWH\\Evidencia.ipynb Celda 38\u001b[0m in \u001b[0;36m<cell line: 1>\u001b[1;34m()\u001b[0m\n\u001b[1;32m----> <a href='vscode-notebook-cell:/e%3A/Documentos/Anal%C3%ADtica%20de%20Datos%20e%20Inteligencia%20Artificial/VisualStudio/forecaster_DWH/Evidencia.ipynb#X55sZmlsZQ%3D%3D?line=0'>1</a>\u001b[0m anova_table \u001b[39m=\u001b[39m sm\u001b[39m.\u001b[39;49mstats\u001b[39m.\u001b[39;49manova_lm(model2)\n\u001b[0;32m      <a href='vscode-notebook-cell:/e%3A/Documentos/Anal%C3%ADtica%20de%20Datos%20e%20Inteligencia%20Artificial/VisualStudio/forecaster_DWH/Evidencia.ipynb#X55sZmlsZQ%3D%3D?line=1'>2</a>\u001b[0m anova_table\n",
      "File \u001b[1;32me:\\Programas\\Anaconda\\lib\\site-packages\\statsmodels\\stats\\anova.py:349\u001b[0m, in \u001b[0;36manova_lm\u001b[1;34m(*args, **kwargs)\u001b[0m\n\u001b[0;32m    347\u001b[0m \u001b[39mif\u001b[39;00m \u001b[39mlen\u001b[39m(args) \u001b[39m==\u001b[39m \u001b[39m1\u001b[39m:\n\u001b[0;32m    348\u001b[0m     model \u001b[39m=\u001b[39m args[\u001b[39m0\u001b[39m]\n\u001b[1;32m--> 349\u001b[0m     \u001b[39mreturn\u001b[39;00m anova_single(model, \u001b[39m*\u001b[39m\u001b[39m*\u001b[39mkwargs)\n\u001b[0;32m    351\u001b[0m \u001b[39mif\u001b[39;00m typ \u001b[39mnot\u001b[39;00m \u001b[39min\u001b[39;00m [\u001b[39m1\u001b[39m, \u001b[39m\"\u001b[39m\u001b[39mI\u001b[39m\u001b[39m\"\u001b[39m]:\n\u001b[0;32m    352\u001b[0m     \u001b[39mraise\u001b[39;00m \u001b[39mValueError\u001b[39;00m(\u001b[39m\"\u001b[39m\u001b[39mMultiple models only supported for type I. \u001b[39m\u001b[39m\"\u001b[39m\n\u001b[0;32m    353\u001b[0m                      \u001b[39m\"\u001b[39m\u001b[39mGot type \u001b[39m\u001b[39m%s\u001b[39;00m\u001b[39m\"\u001b[39m \u001b[39m%\u001b[39m \u001b[39mstr\u001b[39m(typ))\n",
      "File \u001b[1;32me:\\Programas\\Anaconda\\lib\\site-packages\\statsmodels\\stats\\anova.py:61\u001b[0m, in \u001b[0;36manova_single\u001b[1;34m(model, **kwargs)\u001b[0m\n\u001b[0;32m     58\u001b[0m \u001b[39mif\u001b[39;00m robust:\n\u001b[0;32m     59\u001b[0m     robust \u001b[39m=\u001b[39m robust\u001b[39m.\u001b[39mlower()\n\u001b[1;32m---> 61\u001b[0m endog \u001b[39m=\u001b[39m model\u001b[39m.\u001b[39;49mmodel\u001b[39m.\u001b[39mendog\n\u001b[0;32m     62\u001b[0m exog \u001b[39m=\u001b[39m model\u001b[39m.\u001b[39mmodel\u001b[39m.\u001b[39mexog\n\u001b[0;32m     63\u001b[0m nobs \u001b[39m=\u001b[39m exog\u001b[39m.\u001b[39mshape[\u001b[39m0\u001b[39m]\n",
      "\u001b[1;31mAttributeError\u001b[0m: 'LinearRegression' object has no attribute 'model'"
     ]
    }
   ],
   "source": [
    "anova_table = sm.stats.anova_lm(model2)\n",
    "anova_table"
   ]
  },
  {
   "cell_type": "code",
   "execution_count": 30,
   "metadata": {},
   "outputs": [],
   "source": [
    "model_ols2 = ols('rooms_occupied ~ C(rooms_revenue) + C(compset_rooms_revenue) + C(rooms_revenue):C(compset_rooms_revenue)', data=datos).fit()"
   ]
  },
  {
   "cell_type": "code",
   "execution_count": null,
   "metadata": {},
   "outputs": [],
   "source": [
    "anova_table2 = sm.stats.anova_lm(model_ols2)\n",
    "anova_table2"
   ]
  }
 ],
 "metadata": {
  "kernelspec": {
   "display_name": "Python 3.10.6 64-bit",
   "language": "python",
   "name": "python3"
  },
  "language_info": {
   "codemirror_mode": {
    "name": "ipython",
    "version": 3
   },
   "file_extension": ".py",
   "mimetype": "text/x-python",
   "name": "python",
   "nbconvert_exporter": "python",
   "pygments_lexer": "ipython3",
   "version": "3.10.6"
  },
  "orig_nbformat": 4,
  "vscode": {
   "interpreter": {
    "hash": "aee8b7b246df8f9039afb4144a1f6fd8d2ca17a180786b69acc140d282b71a49"
   }
  }
 },
 "nbformat": 4,
 "nbformat_minor": 2
}
