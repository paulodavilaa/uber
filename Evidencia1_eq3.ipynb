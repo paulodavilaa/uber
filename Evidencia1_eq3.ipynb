{
 "cells": [
  {
   "cell_type": "code",
   "execution_count": 276,
   "metadata": {},
   "outputs": [],
   "source": [
    "import mysql.connector\n",
    "import pandas as pd\n",
    "from config import *\n",
    "from statsmodels.formula.api import ols\n",
    "from sklearn.linear_model import LinearRegression\n",
    "from sklearn.tree import DecisionTreeRegressor\n",
    "import seaborn as sns\n",
    "import numpy as np\n",
    "import matplotlib.pyplot as plt\n",
    "import statsmodels.api as sm\n",
    "from sklearn.metrics import mean_squared_error\n",
    "\n",
    "\n",
    "from statsmodels.tsa.seasonal import seasonal_decompose\n",
    "from statsmodels.formula.api import ols\n",
    "from scipy.stats import f_oneway\n",
    "import scipy.stats as stats\n",
    "from bioinfokit.analys import stat\n"
   ]
  },
  {
   "cell_type": "code",
   "execution_count": 277,
   "metadata": {},
   "outputs": [],
   "source": [
    "my_user='tec_A00827467'\n",
    "secret='K2CEKmYT1Z#qb02R'\n",
    "config = {\n",
    "    'user': my_user,\n",
    "    'password': secret,\n",
    "    'host': 'topline.dwh.suite.ghp.mx',\n",
    "    'database': 'dwh',\n",
    "    'raise_on_warnings': True\n",
    "}\n",
    "\n",
    "cnx = mysql.connector.connect(**config)"
   ]
  },
  {
   "cell_type": "code",
   "execution_count": 278,
   "metadata": {},
   "outputs": [
    {
     "name": "stderr",
     "output_type": "stream",
     "text": [
      "C:\\Users\\Asus\\anaconda3\\lib\\site-packages\\pandas\\io\\sql.py:761: UserWarning: pandas only support SQLAlchemy connectable(engine/connection) ordatabase string URI or sqlite3 DBAPI2 connectionother DBAPI2 objects are not tested, please consider using SQLAlchemy\n",
      "  warnings.warn(\n",
      "C:\\Users\\Asus\\anaconda3\\lib\\site-packages\\pandas\\io\\sql.py:761: UserWarning: pandas only support SQLAlchemy connectable(engine/connection) ordatabase string URI or sqlite3 DBAPI2 connectionother DBAPI2 objects are not tested, please consider using SQLAlchemy\n",
      "  warnings.warn(\n",
      "C:\\Users\\Asus\\anaconda3\\lib\\site-packages\\pandas\\io\\sql.py:761: UserWarning: pandas only support SQLAlchemy connectable(engine/connection) ordatabase string URI or sqlite3 DBAPI2 connectionother DBAPI2 objects are not tested, please consider using SQLAlchemy\n",
      "  warnings.warn(\n",
      "C:\\Users\\Asus\\anaconda3\\lib\\site-packages\\pandas\\io\\sql.py:761: UserWarning: pandas only support SQLAlchemy connectable(engine/connection) ordatabase string URI or sqlite3 DBAPI2 connectionother DBAPI2 objects are not tested, please consider using SQLAlchemy\n",
      "  warnings.warn(\n",
      "C:\\Users\\Asus\\anaconda3\\lib\\site-packages\\pandas\\io\\sql.py:761: UserWarning: pandas only support SQLAlchemy connectable(engine/connection) ordatabase string URI or sqlite3 DBAPI2 connectionother DBAPI2 objects are not tested, please consider using SQLAlchemy\n",
      "  warnings.warn(\n",
      "C:\\Users\\Asus\\anaconda3\\lib\\site-packages\\pandas\\io\\sql.py:761: UserWarning: pandas only support SQLAlchemy connectable(engine/connection) ordatabase string URI or sqlite3 DBAPI2 connectionother DBAPI2 objects are not tested, please consider using SQLAlchemy\n",
      "  warnings.warn(\n",
      "C:\\Users\\Asus\\anaconda3\\lib\\site-packages\\pandas\\io\\sql.py:761: UserWarning: pandas only support SQLAlchemy connectable(engine/connection) ordatabase string URI or sqlite3 DBAPI2 connectionother DBAPI2 objects are not tested, please consider using SQLAlchemy\n",
      "  warnings.warn(\n",
      "C:\\Users\\Asus\\anaconda3\\lib\\site-packages\\pandas\\io\\sql.py:761: UserWarning: pandas only support SQLAlchemy connectable(engine/connection) ordatabase string URI or sqlite3 DBAPI2 connectionother DBAPI2 objects are not tested, please consider using SQLAlchemy\n",
      "  warnings.warn(\n",
      "C:\\Users\\Asus\\anaconda3\\lib\\site-packages\\pandas\\io\\sql.py:761: UserWarning: pandas only support SQLAlchemy connectable(engine/connection) ordatabase string URI or sqlite3 DBAPI2 connectionother DBAPI2 objects are not tested, please consider using SQLAlchemy\n",
      "  warnings.warn(\n"
     ]
    }
   ],
   "source": [
    "DM_Chains = pd.read_sql(\"SELECT * FROM  DM_Chains\", cnx)\n",
    "\n",
    "DM_Venues = pd.read_sql(\"SELECT * FROM  DM_Venues\", cnx)\n",
    "\n",
    "DM_Brands = pd.read_sql(\"SELECT * FROM  DM_Brands\", cnx)\n",
    "\n",
    "DM_Verticals = pd.read_sql(\"SELECT * FROM  DM_Verticals\", cnx)\n",
    "\n",
    "DM_Cities = pd.read_sql(\"SELECT * FROM  DM_Cities\", cnx)\n",
    "\n",
    "DM_States = pd.read_sql(\"SELECT * FROM  DM_States\", cnx)\n",
    "\n",
    "DM_Countries = pd.read_sql(\"SELECT * FROM  DM_Countries\", cnx)\n",
    "\n",
    "DM_Business_Dates = pd.read_sql(\"SELECT * FROM  DM_Business_Dates\", cnx)\n",
    "\n",
    "factTable = pd.read_sql(\"SELECT * FROM  FT_Nights\", cnx)"
   ]
  },
  {
   "cell_type": "code",
   "execution_count": 279,
   "metadata": {},
   "outputs": [],
   "source": [
    "DM_Brands.rename(columns = {'name':'brand_name'}, inplace= True)\n",
    "\n",
    "DM_Chains.rename(columns = {'name':'chain_name'}, inplace= True)\n",
    "\n",
    "DM_Cities.rename(columns = {'name':'city_name'}, inplace= True)\n",
    "\n",
    "DM_Countries.rename(columns = {'name':'country_name','iso_code':'country_iso_code'}, inplace= True)\n",
    "\n",
    "DM_States.rename(columns = {'name':'state_name','iso_code':'state_iso_code'}, inplace= True)\n",
    "\n",
    "DM_Venues.rename(columns = {'name':'venue_name'}, inplace= True)\n",
    "\n",
    "DM_Verticals.rename(columns = {'name':'vertical_name'}, inplace= True)\n"
   ]
  },
  {
   "cell_type": "code",
   "execution_count": 280,
   "metadata": {},
   "outputs": [],
   "source": [
    "df = factTable.merge(DM_Venues, on='venue_id')\n",
    "\n",
    "df = df.merge(DM_Brands, on=\"brand_id\")\n",
    "\n",
    "df = df.merge(DM_Chains, on=\"chain_id\")\n",
    "\n",
    "df = df.merge(DM_Verticals, on=\"vertical_id\")\n",
    "\n",
    "df = df.merge(DM_Cities, on=\"city_id\")\n",
    "\n",
    "df = df.merge(DM_States, on=\"state_id\")\n",
    "\n",
    "df = df.merge(DM_Countries, on=\"country_id\")\n",
    "\n",
    "df = df.merge(DM_Business_Dates, on=\"business_date_id\")"
   ]
  },
  {
   "cell_type": "code",
   "execution_count": 281,
   "metadata": {},
   "outputs": [],
   "source": [
    "df = df[df.found != 0]\n",
    "df = df[df.active != 0]"
   ]
  },
  {
   "cell_type": "code",
   "execution_count": 282,
   "metadata": {},
   "outputs": [],
   "source": [
    "datos = df.drop(['week_day_name', 'month_name_short','month_name','iso_week_year','available_rooms','country_id','country_iso_code','day', 'month', 'year', 'week_day',\n",
    " 'day_of_year','venue_id', 'business_date_id', 'found','currency_id','brand_id','vertical_id', 'region_id', 'city_id', 'state_id','state_iso_code', \n",
    " 'iso_week_number','quarter', 'semester', 'incode','latitude','longitude'],axis= 1)"
   ]
  },
  {
   "cell_type": "code",
   "execution_count": 283,
   "metadata": {},
   "outputs": [],
   "source": [
    "datos = datos[datos[\"venue_name\"].str.contains(\"Wyndham\") == True]"
   ]
  },
  {
   "cell_type": "code",
   "execution_count": 284,
   "metadata": {},
   "outputs": [
    {
     "data": {
      "text/plain": [
       "array(['Wyndham Garden Playa del Carmen',\n",
       "       'Wyndham Garden Guadalajara Andares',\n",
       "       'Wyndham Garden Monterrey Valle Real',\n",
       "       'Microtel Inn & Suites by Wyndham Chihuahua',\n",
       "       'Microtel Inn & Suites by Wyndham Ciudad Juárez',\n",
       "       'Microtel Inn & Suites by Wyndham Toluca'], dtype=object)"
      ]
     },
     "execution_count": 284,
     "metadata": {},
     "output_type": "execute_result"
    }
   ],
   "source": [
    "datos.venue_name.unique()"
   ]
  },
  {
   "cell_type": "markdown",
   "metadata": {},
   "source": [
    "## Exploración de datos"
   ]
  },
  {
   "cell_type": "code",
   "execution_count": 285,
   "metadata": {},
   "outputs": [
    {
     "data": {
      "text/html": [
       "<div>\n",
       "<style scoped>\n",
       "    .dataframe tbody tr th:only-of-type {\n",
       "        vertical-align: middle;\n",
       "    }\n",
       "\n",
       "    .dataframe tbody tr th {\n",
       "        vertical-align: top;\n",
       "    }\n",
       "\n",
       "    .dataframe thead th {\n",
       "        text-align: right;\n",
       "    }\n",
       "</style>\n",
       "<table border=\"1\" class=\"dataframe\">\n",
       "  <thead>\n",
       "    <tr style=\"text-align: right;\">\n",
       "      <th></th>\n",
       "      <th>night_id</th>\n",
       "      <th>rooms_available</th>\n",
       "      <th>rooms_occupied</th>\n",
       "      <th>rooms_revenue</th>\n",
       "      <th>compset_rooms_available</th>\n",
       "      <th>compset_rooms_occupied</th>\n",
       "      <th>compset_rooms_revenue</th>\n",
       "      <th>active</th>\n",
       "      <th>chain_id</th>\n",
       "    </tr>\n",
       "  </thead>\n",
       "  <tbody>\n",
       "    <tr>\n",
       "      <th>count</th>\n",
       "      <td>5205.000000</td>\n",
       "      <td>5205.000000</td>\n",
       "      <td>5205.000000</td>\n",
       "      <td>5205.000000</td>\n",
       "      <td>5205.000000</td>\n",
       "      <td>5205.000000</td>\n",
       "      <td>5.205000e+03</td>\n",
       "      <td>5205.0</td>\n",
       "      <td>5205.0</td>\n",
       "    </tr>\n",
       "    <tr>\n",
       "      <th>mean</th>\n",
       "      <td>23030.120461</td>\n",
       "      <td>132.760231</td>\n",
       "      <td>50.185975</td>\n",
       "      <td>52290.286013</td>\n",
       "      <td>656.075889</td>\n",
       "      <td>254.542555</td>\n",
       "      <td>2.677102e+05</td>\n",
       "      <td>1.0</td>\n",
       "      <td>3.0</td>\n",
       "    </tr>\n",
       "    <tr>\n",
       "      <th>std</th>\n",
       "      <td>12276.225359</td>\n",
       "      <td>44.673215</td>\n",
       "      <td>37.014248</td>\n",
       "      <td>47627.971030</td>\n",
       "      <td>177.814075</td>\n",
       "      <td>158.810078</td>\n",
       "      <td>2.108280e+05</td>\n",
       "      <td>0.0</td>\n",
       "      <td>0.0</td>\n",
       "    </tr>\n",
       "    <tr>\n",
       "      <th>min</th>\n",
       "      <td>8821.000000</td>\n",
       "      <td>0.000000</td>\n",
       "      <td>0.000000</td>\n",
       "      <td>-9028.640000</td>\n",
       "      <td>0.000000</td>\n",
       "      <td>0.000000</td>\n",
       "      <td>-3.266100e+03</td>\n",
       "      <td>1.0</td>\n",
       "      <td>3.0</td>\n",
       "    </tr>\n",
       "    <tr>\n",
       "      <th>25%</th>\n",
       "      <td>12773.000000</td>\n",
       "      <td>108.000000</td>\n",
       "      <td>22.000000</td>\n",
       "      <td>18179.760000</td>\n",
       "      <td>586.000000</td>\n",
       "      <td>145.000000</td>\n",
       "      <td>1.239207e+05</td>\n",
       "      <td>1.0</td>\n",
       "      <td>3.0</td>\n",
       "    </tr>\n",
       "    <tr>\n",
       "      <th>50%</th>\n",
       "      <td>17602.000000</td>\n",
       "      <td>113.000000</td>\n",
       "      <td>45.000000</td>\n",
       "      <td>37702.380000</td>\n",
       "      <td>595.000000</td>\n",
       "      <td>236.000000</td>\n",
       "      <td>2.164067e+05</td>\n",
       "      <td>1.0</td>\n",
       "      <td>3.0</td>\n",
       "    </tr>\n",
       "    <tr>\n",
       "      <th>75%</th>\n",
       "      <td>31251.000000</td>\n",
       "      <td>186.000000</td>\n",
       "      <td>74.000000</td>\n",
       "      <td>75135.120000</td>\n",
       "      <td>766.000000</td>\n",
       "      <td>334.000000</td>\n",
       "      <td>3.511061e+05</td>\n",
       "      <td>1.0</td>\n",
       "      <td>3.0</td>\n",
       "    </tr>\n",
       "    <tr>\n",
       "      <th>max</th>\n",
       "      <td>46746.000000</td>\n",
       "      <td>196.000000</td>\n",
       "      <td>177.000000</td>\n",
       "      <td>399920.670000</td>\n",
       "      <td>1009.000000</td>\n",
       "      <td>951.000000</td>\n",
       "      <td>1.623219e+06</td>\n",
       "      <td>1.0</td>\n",
       "      <td>3.0</td>\n",
       "    </tr>\n",
       "  </tbody>\n",
       "</table>\n",
       "</div>"
      ],
      "text/plain": [
       "           night_id  rooms_available  rooms_occupied  rooms_revenue  \\\n",
       "count   5205.000000      5205.000000     5205.000000    5205.000000   \n",
       "mean   23030.120461       132.760231       50.185975   52290.286013   \n",
       "std    12276.225359        44.673215       37.014248   47627.971030   \n",
       "min     8821.000000         0.000000        0.000000   -9028.640000   \n",
       "25%    12773.000000       108.000000       22.000000   18179.760000   \n",
       "50%    17602.000000       113.000000       45.000000   37702.380000   \n",
       "75%    31251.000000       186.000000       74.000000   75135.120000   \n",
       "max    46746.000000       196.000000      177.000000  399920.670000   \n",
       "\n",
       "       compset_rooms_available  compset_rooms_occupied  compset_rooms_revenue  \\\n",
       "count              5205.000000             5205.000000           5.205000e+03   \n",
       "mean                656.075889              254.542555           2.677102e+05   \n",
       "std                 177.814075              158.810078           2.108280e+05   \n",
       "min                   0.000000                0.000000          -3.266100e+03   \n",
       "25%                 586.000000              145.000000           1.239207e+05   \n",
       "50%                 595.000000              236.000000           2.164067e+05   \n",
       "75%                 766.000000              334.000000           3.511061e+05   \n",
       "max                1009.000000              951.000000           1.623219e+06   \n",
       "\n",
       "       active  chain_id  \n",
       "count  5205.0    5205.0  \n",
       "mean      1.0       3.0  \n",
       "std       0.0       0.0  \n",
       "min       1.0       3.0  \n",
       "25%       1.0       3.0  \n",
       "50%       1.0       3.0  \n",
       "75%       1.0       3.0  \n",
       "max       1.0       3.0  "
      ]
     },
     "execution_count": 285,
     "metadata": {},
     "output_type": "execute_result"
    }
   ],
   "source": [
    "datos.describe()"
   ]
  },
  {
   "cell_type": "code",
   "execution_count": 286,
   "metadata": {},
   "outputs": [
    {
     "data": {
      "text/plain": [
       "night_id                     int64\n",
       "rooms_available              int64\n",
       "rooms_occupied               int64\n",
       "rooms_revenue              float64\n",
       "compset_rooms_available      int64\n",
       "compset_rooms_occupied       int64\n",
       "compset_rooms_revenue      float64\n",
       "venue_name                  object\n",
       "active                       int64\n",
       "postal_code                 object\n",
       "brand_name                  object\n",
       "chain_id                     int64\n",
       "chain_name                  object\n",
       "vertical_name               object\n",
       "city_name                   object\n",
       "state_name                  object\n",
       "country_name                object\n",
       "business_date               object\n",
       "dtype: object"
      ]
     },
     "execution_count": 286,
     "metadata": {},
     "output_type": "execute_result"
    }
   ],
   "source": [
    "datos.dtypes"
   ]
  },
  {
   "cell_type": "code",
   "execution_count": 290,
   "metadata": {},
   "outputs": [
    {
     "data": {
      "image/png": "[encoded data removed]",
      "text/plain": [
       "<Figure size 432x288 with 1 Axes>"
      ]
     },
     "metadata": {
      "needs_background": "light"
     },
     "output_type": "display_data"
    }
   ],
   "source": [
    "datos['rooms_revenue'].plot(kind = 'box', title = 'Boxplot de Ingresos por cuartos')\n",
    "plt.show(); "
   ]
  },
  {
   "cell_type": "code",
   "execution_count": 291,
   "metadata": {},
   "outputs": [
    {
     "data": {
      "image/png": "[encoded data removed]",
      "text/plain": [
       "<Figure size 432x288 with 1 Axes>"
      ]
     },
     "metadata": {
      "needs_background": "light"
     },
     "output_type": "display_data"
    }
   ],
   "source": [
    "datos['rooms_revenue'].plot(kind = 'hist', color = 'slateblue', edgecolor = 'black', \n",
    "                linewidth = 1.2, title = 'Histograma de Ingresos por cuartos')\n",
    "plt.show();"
   ]
  },
  {
   "cell_type": "code",
   "execution_count": 292,
   "metadata": {},
   "outputs": [
    {
     "data": {
      "image/png": "[encoded data removed]",
      "text/plain": [
       "<Figure size 432x288 with 1 Axes>"
      ]
     },
     "metadata": {
      "needs_background": "light"
     },
     "output_type": "display_data"
    }
   ],
   "source": [
    "datos['compset_rooms_available'].plot(kind = 'box', title = 'Boxplot de Cuartos disponibles de la competencia')\n",
    "plt.show(); "
   ]
  },
  {
   "cell_type": "code",
   "execution_count": 293,
   "metadata": {},
   "outputs": [
    {
     "data": {
      "image/png": "[encoded data removed]",
      "text/plain": [
       "<Figure size 432x288 with 1 Axes>"
      ]
     },
     "metadata": {
      "needs_background": "light"
     },
     "output_type": "display_data"
    }
   ],
   "source": [
    "datos['compset_rooms_available'].plot(kind = 'hist', color = 'slateblue', edgecolor = 'black', \n",
    "                linewidth = 1.2, title = 'Histograma de Cuartos disponibles de la competencia')\n",
    "plt.show();"
   ]
  },
  {
   "cell_type": "code",
   "execution_count": 294,
   "metadata": {},
   "outputs": [
    {
     "data": {
      "image/png": "[encoded data removed]",
      "text/plain": [
       "<Figure size 432x288 with 1 Axes>"
      ]
     },
     "metadata": {
      "needs_background": "light"
     },
     "output_type": "display_data"
    }
   ],
   "source": [
    "datos['compset_rooms_revenue'].plot(kind = 'box', title = 'Boxplot de Ingresos por cuartos de la competencia')\n",
    "plt.show(); "
   ]
  },
  {
   "cell_type": "code",
   "execution_count": 295,
   "metadata": {},
   "outputs": [
    {
     "data": {
      "image/png": "[encoded data removed]",
      "text/plain": [
       "<Figure size 432x288 with 1 Axes>"
      ]
     },
     "metadata": {
      "needs_background": "light"
     },
     "output_type": "display_data"
    }
   ],
   "source": [
    "datos['compset_rooms_revenue'].plot(kind = 'hist', color = 'slateblue', edgecolor = 'black', \n",
    "                linewidth = 1.2, title = 'Histograma de Ingresos por cuartos de la competencia')\n",
    "plt.show();"
   ]
  },
  {
   "cell_type": "code",
   "execution_count": 296,
   "metadata": {},
   "outputs": [
    {
     "data": {
      "image/png": "[encoded data removed]",
      "text/plain": [
       "<Figure size 432x288 with 1 Axes>"
      ]
     },
     "metadata": {
      "needs_background": "light"
     },
     "output_type": "display_data"
    }
   ],
   "source": [
    "datos['rooms_available'].plot(kind = 'box', title = 'Boxplot de Cuartos disponibles')\n",
    "plt.show(); "
   ]
  },
  {
   "cell_type": "code",
   "execution_count": 297,
   "metadata": {},
   "outputs": [
    {
     "data": {
      "image/png": "[encoded data removed]",
      "text/plain": [
       "<Figure size 432x288 with 1 Axes>"
      ]
     },
     "metadata": {
      "needs_background": "light"
     },
     "output_type": "display_data"
    }
   ],
   "source": [
    "datos['rooms_available'].plot(kind = 'hist', color = 'slateblue', edgecolor = 'black', \n",
    "                linewidth = 1.2, title = 'Histograma de Cuartos disponibles')\n",
    "plt.show();"
   ]
  },
  {
   "cell_type": "markdown",
   "metadata": {},
   "source": [
    "## Creación de modelo"
   ]
  },
  {
   "cell_type": "code",
   "execution_count": null,
   "metadata": {},
   "outputs": [],
   "source": [
    "datos.corr()"
   ]
  },
  {
   "cell_type": "code",
   "execution_count": null,
   "metadata": {},
   "outputs": [],
   "source": [
    "#Declaramos nuestras variables independientes \n",
    "X = pd.DataFrame(datos[['rooms_revenue', 'compset_rooms_available', 'compset_rooms_revenue']])\n",
    "X = sm.add_constant(X)\n",
    "#Definimos la variable dependiente\n",
    "Y = pd.DataFrame(datos['rooms_occupied']) "
   ]
  },
  {
   "cell_type": "code",
   "execution_count": null,
   "metadata": {},
   "outputs": [],
   "source": [
    "from sklearn.model_selection import train_test_split\n",
    "X_train, X_test, y_train, y_test = train_test_split(X, Y, test_size=0.30, random_state=42)"
   ]
  },
  {
   "cell_type": "markdown",
   "metadata": {},
   "source": [
    "## Modelo lineal1"
   ]
  },
  {
   "cell_type": "code",
   "execution_count": null,
   "metadata": {},
   "outputs": [],
   "source": [
    "model1 = sm.OLS(y_train,X_train).fit()"
   ]
  },
  {
   "cell_type": "code",
   "execution_count": null,
   "metadata": {},
   "outputs": [],
   "source": [
    "print(model1.summary())"
   ]
  },
  {
   "cell_type": "code",
   "execution_count": null,
   "metadata": {},
   "outputs": [],
   "source": [
    "mean_squared_error(y_test,model1.predict(X_test))\n"
   ]
  },
  {
   "cell_type": "markdown",
   "metadata": {},
   "source": [
    "## Modelo Lineal2"
   ]
  },
  {
   "cell_type": "code",
   "execution_count": null,
   "metadata": {},
   "outputs": [],
   "source": [
    "#Declaramos nuestras variables independientes \n",
    "X = pd.DataFrame(datos[['rooms_revenue', 'rooms_available']])\n",
    "X = sm.add_constant(X)\n",
    "#Definimos la variable dependiente\n",
    "Y = pd.DataFrame(datos['rooms_occupied']) "
   ]
  },
  {
   "cell_type": "code",
   "execution_count": null,
   "metadata": {},
   "outputs": [],
   "source": [
    "from sklearn.model_selection import train_test_split\n",
    "X_train, X_test, y_train, y_test = train_test_split(X, Y, test_size=0.30, random_state=42)"
   ]
  },
  {
   "cell_type": "code",
   "execution_count": null,
   "metadata": {},
   "outputs": [],
   "source": [
    "model2=LinearRegression()\n",
    "model2.fit(X_train,y_train)\n",
    "print(model2.intercept_, model2.coef_, model2.score(X_train,y_train))"
   ]
  },
  {
   "cell_type": "code",
   "execution_count": null,
   "metadata": {},
   "outputs": [],
   "source": [
    "mean_squared_error(y_test,model2.predict(X_test))"
   ]
  },
  {
   "cell_type": "markdown",
   "metadata": {},
   "source": [
    "## Regresión no lineal"
   ]
  },
  {
   "cell_type": "markdown",
   "metadata": {},
   "source": [
    "### Regresión cuadrada"
   ]
  },
  {
   "cell_type": "code",
   "execution_count": null,
   "metadata": {},
   "outputs": [],
   "source": [
    "sns.scatterplot(x=datos['rooms_revenue'], y=datos['rooms_occupied'])"
   ]
  },
  {
   "cell_type": "code",
   "execution_count": null,
   "metadata": {},
   "outputs": [],
   "source": [
    "X = pd.DataFrame(X_train['rooms_revenue'])\n",
    "X['x2']= X['rooms_revenue']**2\n",
    "X"
   ]
  },
  {
   "cell_type": "code",
   "execution_count": null,
   "metadata": {},
   "outputs": [],
   "source": [
    "model3=LinearRegression()\n",
    "model3.fit(X[['rooms_revenue','x2']],y_train)\n",
    "print(model3.intercept_, model3.coef_, model3.score(X[['rooms_revenue','x2']],y_train))"
   ]
  },
  {
   "cell_type": "code",
   "execution_count": null,
   "metadata": {},
   "outputs": [],
   "source": [
    "X_test = pd.DataFrame(X_test['rooms_revenue'])\n",
    "X_test['x2']= X_test['rooms_revenue']**2\n",
    "mean_squared_error(y_test,model3.predict(X_test[['rooms_revenue','x2']]))"
   ]
  },
  {
   "cell_type": "markdown",
   "metadata": {},
   "source": [
    "### Cálculo del mejor modelo no lineal"
   ]
  },
  {
   "cell_type": "code",
   "execution_count": null,
   "metadata": {},
   "outputs": [],
   "source": [
    "from sklearn.pipeline import Pipeline\n",
    "from sklearn.preprocessing import PolynomialFeatures\n",
    "from sklearn.metrics import mean_squared_error\n",
    "\n",
    "\n",
    "def get_MSE_for_degree_k_model (k):\n",
    "    pipelined_model = Pipeline([\n",
    "        ('transform', PolynomialFeatures(degree=k)),\n",
    "        ('regression',LinearRegression(fit_intercept=True))\n",
    "    ])\n",
    "    pipelined_model.fit(X_train[['rooms_revenue']],y_train)\n",
    "    return mean_squared_error(pipelined_model.predict(X_test[['rooms_revenue']]),y_test)"
   ]
  },
  {
   "cell_type": "code",
   "execution_count": null,
   "metadata": {},
   "outputs": [],
   "source": [
    "ks=np.array(range(0,10))\n",
    "MSEs = [get_MSE_for_degree_k_model(k) for k in ks]\n",
    "MSEs_and_k =pd.DataFrame({'k':ks,'MSE':MSEs})\n",
    "MSEs_and_k"
   ]
  },
  {
   "cell_type": "markdown",
   "metadata": {},
   "source": [
    "### Se usara el modelo cúbico"
   ]
  },
  {
   "cell_type": "code",
   "execution_count": null,
   "metadata": {},
   "outputs": [],
   "source": [
    "X = pd.DataFrame(X_train['rooms_revenue'])"
   ]
  },
  {
   "cell_type": "code",
   "execution_count": null,
   "metadata": {},
   "outputs": [],
   "source": [
    "X['x2']= X['rooms_revenue']**2\n",
    "X['x3']= X['rooms_revenue']**3"
   ]
  },
  {
   "cell_type": "code",
   "execution_count": null,
   "metadata": {},
   "outputs": [],
   "source": [
    "X"
   ]
  },
  {
   "cell_type": "code",
   "execution_count": null,
   "metadata": {},
   "outputs": [],
   "source": [
    "model3=LinearRegression()\n",
    "model3.fit(X[['rooms_revenue','x2','x3']],y_train)\n",
    "print(model3.intercept_, model3.coef_, model3.score(X[['rooms_revenue','x2','x3']],y_train))"
   ]
  },
  {
   "cell_type": "code",
   "execution_count": null,
   "metadata": {},
   "outputs": [],
   "source": [
    "X_test = pd.DataFrame(X_test['rooms_revenue'])\n",
    "X_test['x2']= X_test['rooms_revenue']**2\n",
    "X_test['x3']= X_test['rooms_revenue']**3"
   ]
  },
  {
   "cell_type": "code",
   "execution_count": null,
   "metadata": {},
   "outputs": [],
   "source": [
    "mean_squared_error(y_test,model3.predict(X_test[['rooms_revenue','x2','x3']]))"
   ]
  },
  {
   "cell_type": "markdown",
   "metadata": {},
   "source": [
    "### Prueba ANOVA y Tukey"
   ]
  },
  {
   "cell_type": "code",
   "execution_count": null,
   "metadata": {},
   "outputs": [],
   "source": [
    "model=ols('rooms_occupied ~ C(rooms_revenue) + C(compset_rooms_available) + C(compset_rooms_revenue)',data=datos).fit()\n",
    "#('rooms_occupied ~ C(rooms_revenue) + C(compset_rooms_available) + C(compset_rooms_revenue) + C(city_name) + C(rooms_revenue):C(city_name) + C(compset_rooms_available):C(city_name) + C(compset_rooms_revenue):C(city_name)'\n",
    "anova_table=sm.stats.anova_lm(model, typ=2)\n",
    "anova_table"
   ]
  },
  {
   "cell_type": "code",
   "execution_count": null,
   "metadata": {},
   "outputs": [],
   "source": [
    "res=stat()\n",
    "res.tukey_hsd(df=datos, res_var='rooms_occupied', xfac_var='city_name', anova_model='rooms_occupied ~ C(rooms_revenue): + C(compset_rooms_available) + C(compset_rooms_revenue)')\n",
    "res.tukey_summary"
   ]
  }
 ],
 "metadata": {
  "kernelspec": {
   "display_name": "Python 3.9.12 ('base')",
   "language": "python",
   "name": "python3"
  },
  "language_info": {
   "codemirror_mode": {
    "name": "ipython",
    "version": 3
   },
   "file_extension": ".py",
   "mimetype": "text/x-python",
   "name": "python",
   "nbconvert_exporter": "python",
   "pygments_lexer": "ipython3",
   "version": "3.9.12"
  },
  "vscode": {
   "interpreter": {
    "hash": "96229f2b646dd0d682fb160c48af64215566d3cccf239ea27a327aabd5019252"
   }
  }
 },
 "nbformat": 4,
 "nbformat_minor": 2
}
