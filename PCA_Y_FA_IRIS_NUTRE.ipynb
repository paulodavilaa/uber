{
 "cells": [
  {
   "cell_type": "markdown",
   "metadata": {
    "id": "_i6wKIlnwm8H"
   },
   "source": [
    "# TEMA 1: Reducción de Dimensionalidad e Ingeniería de Características"
   ]
  },
  {
   "cell_type": "code",
   "execution_count": 1,
   "metadata": {
    "colab": {
     "base_uri": "https://localhost:8080/"
    },
    "executionInfo": {
     "elapsed": 5293,
     "status": "ok",
     "timestamp": 1628632140879,
     "user": {
      "displayName": "Ana Luisa Masetto Herrera",
      "photoUrl": "https://lh3.googleusercontent.com/a-/AOh14GiHaML-9F5te0HrNsLkfqwvcxF6fws3azlUl6bp=s64",
      "userId": "07058712827475709960"
     },
     "user_tz": 300
    },
    "id": "Qay7CzI4Cgz9",
    "outputId": "30be3c0c-469b-4321-d2f5-e935128957bd"
   },
   "outputs": [],
   "source": [
    "#pip install sklearn"
   ]
  },
  {
   "cell_type": "markdown",
   "metadata": {
    "id": "np7TMDXE6nSW"
   },
   "source": [
    "## **Subtema 1.1 Análisis de Componentes Principales - Código**"
   ]
  },
  {
   "cell_type": "markdown",
   "metadata": {
    "id": "U4CrLRTHDdNw"
   },
   "source": [
    "![pca.PNG](data:image/png;base64,iVBORw0KGgoAAAANSUhEUgAAAz4AAAGyCAYAAAAlJhFSAAAAAXNSR0IArs4c6QAAAARnQU1BAACxjwv8YQUAAAAJcEhZcwAAEnQAABJ0Ad5mH3gAAFjxSURBVHhe7b19sCVnfeenvIxmNDsaw3pVXmtjy/Y4Wq/+IopWu6XEKTuT8mxZdtmq2o0qWq8XnMIbDQ4LFmuyEjKxsSyPX5bZEBMyLAhswRiIB3A04AETDIPegEECBUZIzEiMkZBkYTmFPU62sun093b/Lo9az+/pc06f7n66z+dT9al7z+lzz+s93c/n9Mu5oAAAAAAAAJg5hA8AAAAAAMwewgcAAAAAAGYP4QMAAAAAALOH8AEAAAAAgNlD+AAAAAAAwOwhfAAAAAAAYPYQPgAAAAAAMHsIHwAAAAAAmD2EDwAAAAAAzB7CBwAAAAAAZg/hAwAAAAAAs4fwAQAAAACA2UP4AAAAAADA7CF8AAAAAABg9hA+AAAAAAAwewgfAAAAAACYPYQPAAAAAADMHsIHAAAAAABmD+EDAAAAAACzh/ABAAAAAIDZQ/gAAAAAAMDsIXwAAAAAAGD2ED4AAAAAADB7CB8AAAAAAJg9hA8AAAAAAMwewgcAAAAAAGYP4QMAAAAAALOH8AEAAAAAgNlD+AAAAAAAwOwhfABW5Prrry8uuOCCrZ8pHnzwwa3LSf0OAAAAAMND+EBWHDp0aDsSzpw5U5/7fCw4Dhw4UJ+zOidPnixe/OIXb7lslOj2F7kfug17TPodAABgTLS8u/HGG7eWfbZ80rKVZRTMHcIHsuL48ePbM+G3vOUt9bnf4tlnn92efvPNN9fnrk4YWsvO8AkfAACYGkePHt1eJsUEmDP8h0N22CdQV111VX3OtwjDaB2bjSlEbI2Pt4bJg/ABAIApES6PtIy1ZZI+VFQQaVkI3bAPVHku84TwgezQ6nebMTdjxKbt27evPmc8CB8AAJgStqm4XPbDPliMcEsSyA9eFciOcK2OPoEKsbVBtpmbNoezADE1Yw/XBul3na/L6boVTTqt822anbbLK7DsclK/a2YWEoaPptnl9TO831746BO28O9k877rMnqs4XU37wcAAMAihMuaNhRGzf2AtJbIWy7b5e2yWjbactaWl7psczN1izEtH1PLUhFbbtpyUdMMu04t85vXqfNCFlkW63edr8eh+2nXL/WY7bbD5yrUrmuR29JlWO73B+EDWWIzD80QDJvxSJtJ2Omm+nubEVl4NGdIOt+m2WmhGUx4udBw5mMzck+bucZuQ2gBEl7e1P20xxcuRELDmSQAAEAb4bKobSCtiPEG8TL8ezsvdnnvOmLLUm+ZGIaKdxmp6zHC0GpeToZruxZZFttz512fltXCm27Xw3J/fAgfyJLwjW8Bo09AdFqffhg6L5wpasZgf2eREc7s9bea4ek6ZTjNLq/r05qkcMZon+7EZqzSDsQQXp9FW+w29CmWToczO90fu06bidrf2Sdkuk+6DDNAAABYhnBZ1BY+tszTMsqWW1r+hAN3Wzbb6fCy9vdSf2PLXVuL0bYsDZfldllNa15O1xmOF2w8ELtOTbPz7PEvuiwOn7vw8YS3Y+i6m+cJlvt5QPhAloQzKFvVbTNcmxkIzQg0g9WMxC5vxmIkjCQRTrMZttCMK/bJjG7HsJmVfoaEM3wRu43wMjHtOu02dLuaKTLjAwCAVQiXRW3hY5cLl7ciXDbb8sxOh9cZW+4JXZ/OCz/AXHRZapfTsjlE8WCXs/vgXWfzcosui73Ho+ux843YeYLlfh4QPpAtFjOaWegTD5s52ExA58WCx7QZmzfDErFpNmP2NLwZa3OmF7sN+1tPPWZhn/SE03RaM3oAAIBFCQPBljEedjlbjhqx5VnssrHLiVgULLos9S4n7HJ2H7zLepfztOdpmccTO08selss9/vl+a8KQEbY6mvFja3iDj8lCmcu4YzIzrMZmzfDErFpdlozIZvRxGZkNmPSzxD9nc7X/Rax27C/bX5y5aHYC4Os+SkcAABAG+GWDBpge3jLmq5rfLosS73lZpc1Pt51Nlnm8cTOE4velsFyvx8IH8iWcAYbe+OHMxebgYfn2YzNm2GJ2DQ7bdvbauYTLiwMm4nJ2GZ1qU+KLOSk/a3Qbel67TyFnm3qp5m73Q+7bgAAgEWx/Uyklie2TNLyRdPsw0Vbvik67DJaztoyyGJE2PXZMlfElnsiFgWLLkvDv7XL6X7bh6TStgix69TPELuc3ddFl8XLPJ7wPN0/G58selss9/uF8IGs0czVZhTSZmoinBHFtBmbN8MSsWnhTDimYZdr3kfT7mvsNjQz08wtvHyozQBj02RzXyUAAIBFCEMhpgiXWzHDZZCdZ8tcEVvuiVgotC1zbVmq5aa3vJXhB6N2nfoZYpe1+7rosniZxxPGpam/YbmfB4QPZE24mlefejSxT6g0XTNEXd5meDYT0UzTriMMJxGbppmTrWKXul1dl34PP+Wyy2hmpNu1GXL4KZrwbl+3owVQOCPUfbdPeoSu2z7tkfqdmR8AAHRBy5kwOLT80jItXL5oeaXzwtjQ6XD5Jmy6LXOFt9yzUAiXpWGkaLq3LBWx5aYuFy43hS2f9TPErtvCRyyyLPYej40NZEg4JtD16jYEy/3xIXwAAAAAYBTC8AHoG8IHAAAAAEaB8IEhIXwgK2zVLrYLAACwKLHlCE5L6A7PIgAAAACMgrc/DkAfED4AAAAAADB7CB8AAAAAAJg9hA8AAAAAAMwewgcAAAAAAGYP4QMAAAAAALOH8AGA6aLDe85RAAAAWDssYQFgusSiYQ4CAADA2mEJCwDTJRYNcxAAAADWDktYAJguc4qFOT0WAACADGEJCwDTZU6xMKfHAgAAkCEsYQFguswpFub0WAAAADKEJSwATJc5xcKcHgsAwBwJ59NzccPYvEcMAPNhTjPvOT0WAIA5Es6n5+KGsXmPGADmw5xm3nN6LAAAcyScT8/FDWPzHjEAzIc5zbzn9FgAAObIXObTc3kcK7B5jxgA5sOcZt5zeiwAAHNkLvPpuTyOFdi8RwwA82FOM+85PRYAgDkyl/n0XB7HCmzeIwaA+TCnmfecHgsAwByZy3x6Lo9jBTbvEQPAfJjTzHtOjwUAYI7MZT49l8exApv3iNfImTNnyv+ZC7YcmkOHDm3ftnny5Ml66jjo9pv3SfczF8L7d/To0frcfgn/R5oOdR9mTfk8bjt15vRYAADmyFzm03N5HCuweY94Tezbt6/8f/nWIHZINGDW7YccOHBg636MFT82wNdPw+Isl/ix50gOFR0WWzkF4Kwon9ttp86cHgsAZIeWe1oeaVk4NOHy15wkut/mlJnL41iBzXvEa+DGG28s/1eqQb79PjYWHro/OaH71Iy0MbAZfvhzCAifnimf222nzpweCwBkQ3PLg6HDR+OS5tjE7svk0H02p8xcHscKbN4jXjO5hI8YY4bWhqInh/DRfdBrZSFC+MwEvffMqTOnxwIA2RAuh/Uzh3HC0B9Cro25zKfn8jhWYPMe8ZrJLXyan6qMSS5roWyTO0H4zAy9ruYa0f+sDQ40UNBrKG3w0As9PRYAACOX8JnssnEu8+m5PI4V2LxHvGZyCZ8cPz2xAWO4388YhDPXscKn6eQ+5cqV8rncdo3ofW3/v3oNDZ3uLX56eiwAAEZu4TO5ZWFP82kbSzYNlz9rpbzubTeMzXvEayaX8NF96G1AtiDN7Yjl2NETru0ROcxs7X+GtUBrQK+tuUbsNWoudOz/qZeFUU+PBQDAyCV8bB479hhhaQaaT+t16nVMN9DjyJHNe8RrJofw8QZpY6O40P0aayZrIRZGTg7hI/ScjP1/Mwv0HJprxHtf2/9PL9Ha02MBADByCB+bj2o+OzkGmE/b2KnXccoAjyNXNu8Rr5mxw8c+gc517YHdvzFCQ69N8xOTXMLHnpfJfdqVG3rvmWvEe19bTBM+ADBFcggf3YfY/HUSDDCf1nPT+2s0wOPIlc17xGtmzPCxTwVy/tRkzNCwmWvKscLD/m8In46Uz+G2a8R7X/f6/9zTYwEAMMYOH9vaQfPSSdLzfHqwsUHPjyNnNu8Rr5mxwscGYGN/ctOGrdnIZSY3ZoiFaOEjoSN675lrxN7Xzf/bXtfU9fRYAACMMcPH5qtjL3870eN82sYnvWxR0KTHx5E7m/eI18wY4WOb2+Q0cNYbtXl/coyzocNHj715W96geihi/z/NT+GGfu10X3R7FhQWGOECQKfl89Bpc43YayTtObHnrbfnxB6HBADogbHCJzZPnyQ9zqf1ugw2ruvxceTO5j3iNRAOippqWt+kbl+O9WmKDZ5Dc5vJDR0+dnuhg83YHAifduw9Jux2Za/vb92eCQDQA2OEj5a3vc8/lyR2n2w+b0RjTdPNNWL3Z7DxW0+PYwps3iMGgPnQ08w7DJ/B6OmxAMBmYx8sxRxioJ26fWkfeA1JbuET++D4Bbe9Tsrr3nbD2LxHDADzoaeZN+EDAAAvYC7z6bk8jhXYvEcMAPOhp5k34QMAAC9gLvPpuTyOFdi8RwwA86GnmTfhAwAAL2Au8+m5PI4V2LxHDADzYU4z7zk9FgCAOTKX+fRcHscKbN4jBoD5MKeZ95weCwDAHJnLfHouj2MFNu8RA8B8mNPMe06PBQBgjsxlPj2Xx7ECm/eIAWA+zGnmPafHAgAwR+Yyn57L41iBzXvEADAf5jTzntNjAQCYI+F8ei5uGJv3iAFgPsRm4nMQAADyIza/nrobxuY9YgCYD7GZ+BwEAID8iM2vp+6GsXmPGADmQ2wmPgcBAABg7bCEBQAAAACA2UP4AAAAAADA7CF8AAAAAABg9hA+AAAAABnz2//H14pf/8OvFm/86Lks/I3yvvzLY2ei08byFe/6cvT8sbylfH4Offjx6LQx/K0T54rfLN10CJ9vfq4o/u8nEKct/8fTEQBgSd5wVzmA/shXi/efejoLD5f35ab3PBKdNoa//5mnin/81i8W77n/qej0MfyF9z1a/GYZiLFpY/g//9GfbMXYprPZ4fPv/m1R/HH5FPzxv5eROd0fnhtf3RdeK1+eG9dP7KhnQAAAi3How18t7nrgmeKZ5/4qC48/+Ezxhj84G502hk9+4/xW+Dz+9F9Gp4/hoQ89Xhz77NPRaWP40YeeLX75f3+s/o/aXMoRwQbz//2/5UCkfAr+/KGi+Iuvj+/Z24vi8z8anzaG919RFE8ejU8b2qfuKop7vys+bQwfur4oHr05Pm1ov/nV+v/4dHz60J79lfL/+Mfj08bw/svL/+P3xacN7VMfKO/P99czIACAxSB80hI+7RI+FYQP4eNL+PgSPr6Ejy/hAwArQPikJXzaJXwqCB/Cx5fw8SV8fAkfX8IHAFaA8ElL+LRL+FQQPoSPL+HjS/j4Ej6+hA8ArADhk5bwaZfwqSB8CB9fwseX8PElfHwJHwBYAcInLeHTLuFTQfgQPr6Ejy/h40v4+BI+ALAChE9awqddwqeC8CF8fAkfX8LHl/DxJXwAYAUIn7SET7uETwXhQ/j4Ej6+hI8v4eNL+ADAChA+aQmfdgmfCsKH8PElfHwJH1/Cx5fwAYAVIHzSEj7tEj4VhA/h40v4+BI+voSPL+EDACtA+KQlfNolfComGz779u0rLrjgguLkyZP1OStA+KQlfHwJH1/Cx5fwAYAVIHzSEj7tEj4VkwufG2+8cSt4TMKnRwkfX8LHl/DxJXwAYAUIn7SET7uET8Wkwufo0aNbsaOf9jvh06OEjy/h40v4+BI+ALAChE9awqddwqdiUuETQvgMIOHjS/j4Ej6+hA8ArADhk5bwaZfwqSB8CB9fwseX8PElfHwJHwBYAcInLeHTLuFTQfgQPr6Ejy/h40v4+BI+ALAChE9awqddwqeC8CF8fAkfX8LHl/DxJXwAYAUIn7SET7uETwXhQ/j4Ej6+hI8v4eNL+ADAChA+aQmfdgmfCsKH8PElfHwJH1/Cx5fwAZg9hw4d2hqf6Os31gXhk5bwaZfwqSB8CB9fwseX8PElfHwJH4DZovGIxiUm4TOchE+7hE8F4UP4+BI+voSPL+HjS/gAzBaNSQ4cOLD9O+EznIRPu4RPBeFD+PgSPr6Ejy/h40v4AGwEhM+wEj7tEj4Vkwofi52Y+/btqy+1BIRPWsLHl/DxJXx8CR+AjUDjEsJnOAmfdgmfikmFz9ohfNISPr6Ejy/h40v4AGwEhM+wEj7tEj4VhA/h40v4+BI+voSPL+EDsBEQPsNK+LRL+FQQPoSPL+HjS/j4Ej6+hA/ARkD4DCvh0y7hU0H4ED6+hI8v4eNL+PgSPgAbAeEzrIRPu4RPBeFD+PgSPr6Ejy/h40v4AGwEhM+wEj7tEj4VhA/h40v4+BI+voSPL+EDsBEQPsNK+LRL+FQQPoSPL+HjS/j4Ej6+hA/ARkD4DCvh0y7hU0H4ED6+hI8v4eNL+PgSPgCzRbHj2enL1ksIn7SET7uETwXhQ/j4Ej6+hI8v4eNL+ADAChA+aQmfdgmfCsKH8PElfHwJH1/Cx5fwAYAVIHzSEj7tEj4VhA/h40v4+BI+voSPL+EDACtA+KQlfNolfCoIH8LHl/DxJXx8CR9fwgcAVoDwSUv4tEv4VBA+hI8v4eNL+PgSPr6EDwCsAOGTlvBpl/CpIHwIH1/Cx5fw8SV8fAkfAFgBwict4dMu4VNB+BA+voSPL+HjS/j4Ej4AsAK/Vg6i/9c//lrx8S99IwuPlPflte97NDptDP/o/3x2K3z+8At/Gp0+hrccO1P89sf+JDptDN/+ySeK13/wbP0ftbkQPoSPL+HjS/j4Ej6+hA8ArMDPv+fR4uCdDxc3veeRLNR9+Zk7vhSdNoq/98hW+Px8+TM6fQT/2ztOFzf+bj6v2SvK1+zn3vXl+j9qcyF8CB9fwseX8PElfHwJHwBYAW3q9q67nyi+cPa5LHx3eV9ed+wr0Wlj+MBX/mwrfD795W9Ep4/hL33gTPGOT34tOm0M33vfk2zqVkL4ED6+hI8v4eNL+PgSPgCwAoRPWsKnXcKngvAhfHwJH1/Cx5fw8SV8AGAFCJ+0hE+7hE8F4UP4+BI+voSPL+HjS/gAwAoQPmkJn3YJnwrCh/DxJXx8CR9fwseX8AGAFSB80hI+7RI+FYQP4eNL+PgSPr6Ejy/hAwArQPikJXzaJXwqCB8NGL/4T4vi9H83vqd+sCju+974tDH81LeXA9hr49OG9gvXFcXJi+PTxvD+v10Un/178WmD+/Lq//hLL4tMG8FT/1n5f7wvPm0MP/XiKsRi04b2Cz9RFHdfUs+AAAAWg/BJS/i0S/hUED4aMD74D8sByU+N76evLop7vis+bQxPvqgcxO6PTxvaz/2DovjkX4tPG8N7v698vV4Snza4/031f/z5/zoybQQ//XfL/+Pvjk8bw5PfVv7//FfxaUP7uR8hfABgaQiftIRPu4RPBeGjAeMTHymKpz4zvqdfW4bGD8enjeG9318UZ94Unza0j729HDB+Z3zaGD7wY0XxxVfEpw3t1++u/48/Fp8+tKdfUwVzbNoY3vu9RXH2zfFpQ3v2rWzqBgBLQ/ikJXzaJXwqCB/Cx5fw8SV8fAkfX8IHAFaA8ElL+LRL+FQQPoSPL+HjS/j4Ej6+hA8ArADhk5bwaZfwqSB8CB9fwseX8PElfHwJHwBYAcInLeHTLuFTQfgQPr6Ejy/h40v4+BI+ALAChE9awqddwqeC8CF8fAkfX8LHl/DxJXwAYAUIn7SET7uETwXhQ/j4Ej6+hI8v4eNL+ADAChA+aQmfdgmfCsKH8PElfHwJH1/Cx5fwAYAVIHzSEj7tEj4VhA/h40v4+BI+voSPL+EDACtA+KQlfNolfCoIH8LHl/DxJXx8CR9fwgcAVoDwSUv4tEv4VEwufPbt21dccMEF2+r0yhA+aQkfX8LHl/DxJXwmy7ve9a76N4DhIXzSEj7tEj4VkwqfAwcOFIcOHapPlWPyM2e6xQ/hk5bw8SV8fAkfX8JnsmhZc/LkyfoUwLAQPmkJn3YJn4pJhU8MhdDKCyTCJy3h40v4+BI+voTPZNFy5pJLLinOnTtXnwMwHIRPWsKnXcKnYvLhc/To0a0Fkn4uDeGTlvDxJXx8CR9fwmeyaDkjr7zyyvocgOEgfNISPu0SPhWzCR/W+PQg4eNL+PgSPr6Ez2Sx8LnwwguL6667rj4XYBgIn7SET7uET8Xkw0f7/WhhtBKET1rCx5fw8SV8fAmfyWLhI/fu3Vvccsst9RSA/iF80hI+7RI+FZMOH1vbEx7wYCkIn7SEjy/h40v4+BI+kyUMH7l79+7iyJEj9VSAfiF80hI+7RI+FZMOHy18OJx1jxI+voSPL+HjS/hMlmb4yB07dhQnTpyoLwHQH4RPWsKnXcKnYrLhY9/no0Narwzhk5bw8SV8fAkfX8JnsjSjx7z44ouL06dP15eCTcaOMhu6rkOgEz5pCZ92CZ+KSYaP7dfTeYZC+KQlfHwJH1/Cx5fwmSzNAW3o5ZdfXpw/f76+JGwi2vS+uQXK2sYqJYRPWsKnXcKnYnLhc+ONN27NSFY6fHUTwict4eNL+PgSPr6Ez2QJQ6fpzp07i/37y/95gAD7knWNW7pC+KQlfNolfComFT62Gnnlgxk0IXzSEj6+hI8v4eNL+EyWMHRi6mAHBw8erC8NUKH/Da356Qrhk5bwaZfwqZhU+DQXNE2XhvBJS/j4Ej6+hI8v4TNZYsucptrf5/Dhw/VfAFT/N6zx6V/Cp13Cp2JS4bN2CJ+0hI8v4eNL+PgSPpOlGTme+oLTY8eO1X8Fm4x95cY6Ns0nfNISPu0SPhWED+HjS/j4Ej6+hI8v4TNZmoGTUvFz6tSp+i9hU9H/Qqev3AggfNISPu0SPhWED+HjS/j4Ej6+hI8v4TNZmnHT5mWXXVY8++yz9V/DpmEHYuJw1sNI+LRL+FQQPoSPL+HjS/j4Ej6+hM9kaYZNm7t27Squueaa+q9hk1j7gZhKCJ+0hE+7hE8F4UP4+BI+voSPL+HjS/hMlmbYLKI2eXvpS19aXwNsArZfzzoOaBBC+KQlfNolfCoIH8LHl/DxJXx8CR9fwmeyNKNmUffs2VPcdttt9bXAnNFmbXrN13H46iaET1rCp13Cp4LwIXx8CR9fwseX8PElfCZLM2iWUZu93XnnnfU1wRyxLytd18EMmhA+aQmfdgmfCsKH8PElfHwJH1/Cx5fwmSzNmFnFde3oDvlhBzPw7HpIa8InLeHTLuFTQfgQPr6Ejy/h40v4+BI+kyU2mF3WSy65pDh37lx9jQCL83Pv+nLxsju+VLz8naezUPflp9+Wz/2RCp+XvyM+bQz1/Lzs7fk8Rz9Tvmb/7Hcerv+jNhfCh/DxJXx8CR9fwseX8JkssZBZxSuvvLK+RoDF0RqfO+95snjw8f8rC3VftMYnNm0MP3v2z7fC575Hn4tOH8Nf+uDZ4o6TT0SnjeF77n+KNT4lhA/h40v4+BI+voSPL+EzWWIRs4o60tt1111XXyvAYih87nrgmeKZ5/4qC48/+Ezxhj84G502hk9+4/xW+Dz+9F9Gp4/hoQ89Xhz77NPRaWP40YeeJXxKCB/Cx5fw8SV8fAkfX8JnssQiZlX37t1b3HLLLfU1A7RD+KQlfNolfCoIH8LHl/DxJXx8CR9fwmeyxAKmi7t37y6OHDlSXztAGsInLeHTLuFT0Sl8nn322eItb3nLluLBBx8srrrqquLFL35xcfPNN2+dZ7zqVa+qf8sIwict4eNL+PgSPr6Ez2SJxUtXd+zYUZw4caK+BQAfwict4dMu4VPRKXzs8I0WOTp+fThTP3To0Nb5Qqezg/BJS/j4Ej6+hI8v4TNZwmXbOr344ouL06dP17cCEIfwSUv4tEv4VHSqEa3Z0Yxba36OHz++9bvOsyAKv8hLp7OD8ElL+PgSPr6Ejy/hM1m0DOvLyy+/vDh//nx9SwAvhPBJS/i0S/hUdKoRm2mL66+/fut32+wtnCbC37OB8ElL+PgSPr6Ejy/hM1lsmdaHO3fuLPbvL98zAA6ET1rCp13Cp6JTjWh/Hs207ac8c+bM1hogO22Ev2cD4ZOW8PElfHwJH1/CZ7LYMq0vdbCDgwcP1rcG8HwIn7SET7uET0WnGtHanXDGbfv6aN8endZaIEOns4PwSUv4+BI+voSPL+EzWcJlXV9qf5/Dhw/XtwjwLQiftIRPu4RPRecaOXr0aHHgwIGt2NGaHqHg0Xk6ypuhmXp2ED5pCR9fwseX8PElfCZLM1L6Ul9weuzYsfpWwePkyZNb4w4bZ+iDV+1jrC1QwrHHHXfcUXz84x+vT00Xwict4dMu4VMxWI1ohp4dhE9awseX8PElfHwJn8nSDJQ+VfycOnWqvmVook3q9TwpdPS7PoANnz+dbx/EvvSlL92Kn6lD+KQlfNolfCo614g+WdFR3LSGxzZtC7/bx9DMKDu2w+dEOSj59Phuh09k2hhuhc//FJ82tI+9rQ6fyLQx3A6fyLSh/fqn6v/jP4pPH9rt8IlMG8Ot8Pnt+LShPXuE8Jko4cB6CC+77LLtwTs8H9vM3javt/2MNQaxr9VQDAnCpx8Jn3YJnzzpVCOKHjuktSkUQeGMR9i0rPh3/081YEREHMpP7KhnQDAlwuXcEO7atau45ppr6luHENuP2DZ10+8aizSnCcKnHwmfdgmfPCmXwqtjh7C20JHCZkQ637BpWWFrfP7040Xx3OfH99Gbi+KB/fFpY3jf5UVx7n+JTxvar/1uUdxzaXzaGH7+J4ri4X8enza0f/bZ6v/42ZPx6UP76P9Q/h//SHzaGN73feX/8Vvj04b2a+UAjDU+k8SWcUOqTd40cIfnE35voK3h0ZYnQmuBdJrw6VfCp13CJ0861YjNnL3DVzdPZ4eFz58/VBR/8fXxPXt7OaD+0fi0Mbz/iqJ48mh82tA+dVdR3Ptd8Wlj+ND1VajGpg3tN79a/x+fjk8f2rO/Uv4f/3h82hjeXwb8k++LTxvapz5A+EwUW6YN7Z49e4rbbrutvhcgNOaw4JG2r4/Ot61Q7AAHhE8/Ej7tEj550qlGbKbT/F3ETmcH4ZOW8PElfHwJH1/CZ7LYMm0MtdnbnXfeWd8TEAodreXRlic6wpvQmiBtaWL7/gjCpx8Jn3YJnzzpVCP2iYtt2iaF7Xio6YZNywrCJy3h40v4+BI+vhMOH5vH43jaAB8Wh/DpR8KnXcInTzrViO1EGB7gwI6uIm2bW6HT2UH4pCV8fAkfX8LHl/DBDl5yySXFuXPn6lcE9CGr1vBIre3Rh7B2wAOD8OlHwqddwidPOtWItqcNQydUa3vCQ3HqvOwgfNISPr6Ejy/h40v4YEevvPLK+hXZbPTBavi8KHi0Rky/h1ubED79SPi0S/jkyVpqRIet1na29smLPoUJo0doZpQdhE9awseX8PElfHwJH+yojvR23XXX1a/KZmKb12trE/vw1Y7iZkebtc0CCZ9+JHzaJXzyZLAa0YwoOwiftISPL+HjS/j4Ej64Bvfu3Vvccsst9Suzedhm9jqIgf1u4dM8Tfj0I+HTLuGTJ51rREdW0QzG09CMKDsIn7SEjy/h40v4+BI+uCZ3795dHDlypH51NguNLfQc2DjDfm9OE4RPPxI+7RI+edKpRuxLxFIa4e/ZQPikJXx8CR9fwseX8ME1umPHjuLEiRP1K7Q5aPN6PX5t1haGTvj9PrqMIHz6kfBpl/DJk041YjMYT21/a+h0dhA+aQkfX8LHl/DxJXxwzV588cXF6dPle3+DCL+o1H5qPBIeYVZbowjCpx8Jn3YJnzzpVCM2g9GanzZ0uXXQjK3w6C1LQ/ikJXx8CR9fwseX8MEevPzyy4vz58/Xr9RmYGt9YuoASwbh04+ET7uET550qhGLkEVY9HIpdMQ4225X6BMdXe/K8UP4pCV8fAkfX8LHl/DBHty5c2exf//++pXaHDQG0AEO7IiyOsR180teCZ9+JHzaJXzypFON2La14acrHrpcH9ix/Ff6RmvCJy3h40v4+BI+voQP9qQOdnDw4MH61QKD8OlHwqddwidPOtWINnGzbWrtE5dQ7Xho6DJ9YPFF+PQg4eNL+PgSPr6ED/ao9vc5fPhw/YrNH23upjFATL7Hp18Jn3YJnzzpVCOxGW9TI/x9nSiwVr5uwict4eNL+PgSPr6ED/asvuD02LFj9as2X+yLSz0VP4Lw6UfCp13CJ0861YjW6DTX8oT2vcZHM7ZwBrc0hE9awseX8PElfHwJHxxAxc+pU6fqV25+pA5sYNom+IRPPxI+7RI+ebL+GnHQjGgdKKjCmdvK0SMIn7SEjy/h40v4+BI+OJCXXXbZ1mGf54h96KnxQNtjJHz6kfBpl/DJk7XUiPb10YzIfPDBB+sp30IzqT6wmbwds38pCJ+0hI8v4eNL+PgSPjiQu3btKq655pr61ZsXtsZnkQ8+CZ9+JHzaJXzypFON6JOW5hoYU4eYDNF5fWCHtNb9WBrCJy3h40v4+BI+voQPDqg2edPAf27YF5jqqyxyWuNja6JCVzrwUgTCJy3h0y7hU9GpRmJv8lB9KmPodF9o5kf49CDh40v4+BI+voQPDuyePXuK2267rX4V54E+8LSvsrDlf1P7YvWhwkfjneZ3Cup+6D6uI34In7SET7uET0WnGtGbXG9qzYDsUxf9tBmSjrpi6HQf2Bof3ebSED5pCR9fwseX8PElfHAEtdnbnXfeWb+S06ftQ1dpm8GNuambgkf3ZaXxSQPCJy3h0y7hU9GpRmwG01zVrNM2zQh/XwULnOYnJxZf7OPTg4SPL+HjS/j4Ej44ouva7GpstDanuYan6dBrfGJ0+mC2AeGTlvBpl/CpWEv4xGhO8y63DLFDWDZXLS8F4ZOW8PElfHwJH1/CB0f0kksuKc6dO1e/opvBmOFjY5Zws/9VIXzSEj7tEj4VnWrE1rbY8fINndb5YZTodHYQPmkJH1/Cx5fw8SV8cGSvvPLK+hWdPlqjovGGNmuTCozmFihjhY+t7en04WwA4ZOW8GmX8KnoVCPhdrban0erl8NvUw5X7+p0dhA+aQkfX8LHl/DxJXxwZHWkt+uuu65+VaeLIkdHdms+PoVG+JUaQ4ZPc6uUdUWP+MUPnC1uu+ux4o6TT2Thr5b35ZXv/nJ02hi+7ZNPbIXPkT/+WnT6GL769x4pfrmMw9i0Mfy1MsR+4X1fqf+jNpdONaJPVsLQCdUMKfzkRedlB+GTlvDxJXx8CR9fwgczcO/evcUtt9xSv7LTQ2OLWPSYYXCMuambHejJDrTQhde9/2xxy+9/pfhXf/h4Fuq+3Pi7D0enjeFvffjxrfD5jQ89Fp0+hq+48+HiX/5vj0anjeGtx75S/AvCp1v4GFrVHO5UqDd5c3Wz3vzZQfikJXx8CR9fwseX8MFM3L17d3HkyJH61Z0WtmZF8RMesEG/WxDlcHADoTGR7s9KB2AK0KZu77r7ieILZ5/LwneX9+V15UA6Nm0MH/jKn22Fz6e//I3o9DH8pQ+cKd7xya9Fp43he+97kk3dSgarEb3xs4PwSUv4+BI+voSPL+GDGbljx47ixIkT9Ss8HWwz++YXpQudp2m2lmXs8LH7Svj0K+HTLuFTsVSN6FMWvYntk5Rwp8KY4UEP9MbPDsInLeHjS/j4Ej6+hA9m5sUXX1ycPl3OOyaExhe67/rZpDktlzU+XSF80hI+7RI+FUu9G21GaW/i8LSnEf6eDYRPWsLHl/DxJXx8CR/M0Msvv7w4f/58/Urnj23qpn15ws3q9bvO0zRdRgwVPgqc5vf1pAJtWQiftIRPu4RPxVI1YjMU23EwtXOh1HRDp7OD8ElL+PgSPr6Ejy/hgxm6c+fOYv/+/fUrnT/hwQ300/YvDscktmnZkGt87LZD1/WlsYRPWsKnXcKnYqka0cxGb+LmgQsWQTOA7CB80hI+voSPL+HjS/hgpupgBwcPHqxf7fxpHjo6NFzDMvambuuC8ElL+LRL+FR0rhGFUHjMfKHzmp9yaGaUHYRPWsLHl/DxJXx8CR/MWO3vc/jw4foVzx+NPbR5ma3xuf76618w9iB8+pHwaZfwyZNONWLbr+q7fEI089H54acuOp0dhE9awseX8PElfHwJn856WxzELivf9KY31Zf4Fh/84AdbLxubvgnqC06PHTtWPwvTh/DpR8KnXcInTzrViO3z0zxMo07rfNsXSOh0dhA+aQkfX8LHl/DxJXw6Kx555JHnnWcx9IM/+IPPO1+X886/9957n3deeL5QBDWnb4qKn1OnTm09DzmgMYU+SJV6rbWmx0572pYohE8/Ej7tEj550qlGbCYZoznNu9yoED5pCR9fwseX8PElfDormuGjsBFhzGitjmhGj6ddxytf+cqtwXXzNjbNyy67bKX9eftAIWP3y8ImvK8xdRlB+PQj4dMu4ZMnnWrEjqASfl+P0Gmb+Rjh79lA+KQlfHwJH1/Cx5fw6ayIRUkzVkRsrY6nhZJ+t7U+zctskrt27SquueaaredhbMIDGej3cIzhaeMSwqcfCZ92CZ886VQj2qnQZjLaz0c7F+qnnad9fQydzg7CJy3h40v4+BI+voRPZ0UsfMLzbV+dZTZXC8Nplb+fo9rkTeGQA9p0rXkgpUUgfPqR8GmX8MmTTjWiBUUYOqFaGxTOpHRedhA+aQkfX8LHl/DxJXw6K5rho83ThB20wNbe6Pzwcp62mVt40AMRC6xNc8+ePcVtt9229XzkhPb7aX69hp0X7ndM+PQj4dMu4ZMnnWtEMx2tUrbDScqbb775eTMeoRlodhA+aQkfX8LHl/DxJXw6K5pBIrQsstPL7t8TCyXdhlj0OuasNnu78847t56PHNBrbZvaHz9+vD63Wiuk8zTNgojw6UfCp13CJ08GqxHNjLKD8ElL+PgSPr6Ejy/h09kYzX15ll3jo0FyGE7SriNcC7Tp3n333VvPydjYPj/a3L6JbYKvywjCpx8Jn3YJnzzpXCNaWGjVstb62NFWTNu5UGhGlB2ET1rCx5fw8SV8fAmfzoq2TdCW2UfHNpNrxpOdz+Zu1eZuR44c2Xo+ckDjC90v/WzSnEb49CPh0y7hkyedakSrlW11s6cR/p4NhE9awseX8PElfHwJn86KthixfXYWOaqbrdlJscmbuyl6br311vqZyAM7qpu+K9A2aRP63b5fkPDpV8KnXcInTzrViI7aFs4gm2p/H0Ons4PwSUv4+BI+voSPL+HTWbHIWphF99GJbeZmbvrmbjqq2w033LD1HOSE9iG2+6gPX23/4vCDWDu4EuHTj4RPu4RPnnSqkXAGY78LW9WsgxwYNi0rLHweuakovvKL4/tgGT33/0B82hje/R1F8cV/HJ82tF/6maL41Ivi08bw0y8pigf2x6cN7i31//EvRKaN4IP/oIrm2LQxvPuS8v/4p+PThvaLLy2Ke76zngFNC5vHj61YdPMzoxk/+nutDbLN2VJhI7wwmrM6oMHVV1+99fhzJPxun6bhvj+ETz8SPu0SPnnyrSXDCthMpvm70O/69MUIp2WDhc+p/7IoPlcO1sb2vnKwqNiITRvDT15cDvCvik8b2s/8/fL+XBSfNoZ3/62iuPfy+LTB/ZH6/7gMsej0gb3v75TPz9+MTxvDT+4p/3/+bnza0H7m75XPzV+vZ0DTwubxYysWDR9pX0YaYqFj01JrhRa5zBy99NJLn7cZWY5o/2JFjq3x0VYodlADg/DpR8KnXcInTzrViM0gha1itmPoh9NE+Hs2WPg88ZGieOoz43v6teXg9Yfj08bw3u8vijNvik8b2sfeXg4YvzM+bQwf+LGi+OIr4tOG9ut31//HH4tPH9rTr6kiLDZtDO/93qI4++b4tKE9+1Y2dcPs3bFjR3Hq1Kn6lZ82hE8/Ej7tEj550qlG9AmLZpI6jn5sfx/tZGjodHYQPmkJH1/Cx5fw8SV8MHMvuuii4tixY/WrnjfazF7jD21e35R9fPqV8GmX8MmTTjViR1bRvjyxI7yFq5x1OjsIn7SEjy/h40v4+BI+mLG7d+8ubr/99voVzxv7vh5PxY8gfPqR8GmX8MmTtdaINnGzT1u0yVuIZkTZQfikJXx8CR9fwseX8MFMVfQcPHiwfrXzJjygUkx9CKs1QYLw6UfCp13CJ0861YhmMLYzYdtOkLpsdhA+aQkfX8LHl/DxJXwwQ3fu3Fns31++ZyeCPlzV/db4w37XT41DFD1SH8QKwqcfCZ92CZ886Rw+oakI0vTsIHzSEj6+hI8v4eNL+GBmap8e7Y97/vz5+pXOnzB2wt/DadoUXxA+/Uj4tEv45EmnGtGM5aqrrtqegZr6tEXb34abu+n87CB80hI+voSPL+HjS/hgZu7Zs6c4ffp0/SpPgzB2bF9jHWxJ2L4/FkKETz8SPu0SPnmylhrRGh6t6Ykd2c0If88Gwict4eNL+PgSPr6ED2akDlt94sSJ+hWeDvpQVfdfH7x6+/vYwZUIn34kfNolfPJk7TWiGZJWm9vMxwh/zwbCJy3h40v4+BI+voQPZqIOZnD48OH61Z0edhRZffDaPMKbgsg2uSd8+pHwaZfwyZO11Ig+cdEhrcPgMY3w92wgfNISPr6Ejy/h40v4YAbu3bu3uOmmm+pXdh5oDY9t+hbuZ0z49CPh0y7hkyedakQzmVjssI/PihI+voSPL+GTlvBZC835PE7TCy+8sLj22mvrV3Wa2NjDvkMwBeHTj4RPu4RPnnSqkeYMVbFjx85vounZQfikJXx8CR9fwseX8MER3bVrV3HFFVfUr+h0UfiEjysVQYRPPxI+7RI+edI5fPgenzVK+PgSPr6ET1rCZy2EA02cptoa49y5c/UrOl0UOPqg1fbzCdX+PeHmboRPPxI+7RI+edKpRjTz0eZsbdEjNEPKDsInLeHjS/j4Ej6+hA+OaLj5+Vzw9jHmcNb9Svi0S/jkSacasRkM4bMmCR9fwseX8ElL+KwFm9/j9NR39Rw5cqR+JeeJxiEKIHvMhE+/Ej7tEj550qlG7BOWM2fO1Of46HLZQfikJXx8CR9fwseX8MGBVfTceuut9as4LxQ73ncIEj79Svi0S/jkSaca0YEMNINRAOl3rUYPDXc01OWyg/BJS/j4Ej6+hI8v4YMDqiO43XDDDfUrOB80tojFjmQfn2EkfNolfPKkU40cOHAgunNhqBH+ng2ET1rCx5fw8SV8fAkfHEgdwe3qq6+uX715ETuqm2IntvUJ4dOPhE+7hE+edKqRcMbjaYS/ZwPhk5bw8SV8fAkfX8IHB/LSSy9daP/bKaLwSR3COmRO4XPk439SfOKLf5qFby3vy2vf92h02hh+/KFntsLnIw8+E50+hq/7/a8Ub/7Yuei0MbyjjDDCp2P42FHdPNnUbUkJH1/Cx5fwSUv4rIXmwBrzdceOHcWpU6fqV25+KOiaYwyPuYTPwTu/XPzTt32peNkdeaj78k/+zRej08ZS4fOyt8enjaGen6xes/K5+dnfebj+j9pcBqsRzYyzg/BJS/j4Ej6+hI8v4YM9e9FFFxXHjh2rX7V5Ypu6aY1PG3Na43PXA88Uzzz3V1l4/MFnijf8wdnotDF88hvnt8Ln8af/Mjp9DA996PHi2Gefjk4bw48+9CxrfEo614g+cdEXiWl/H+1sKLStrQzRTCo7CJ+0hI8v4eNL+PgSPtiju3fvLm6//fb6FZsvOpKbHq/GHm0QPv1I+LRL+ORJpxpR9DQPbiAUQfpdMyfDpmUF4ZOW8PElfHwJH1/CB3tS0XPw4MH61Zo/OnqbHrfW+jQ3s5dzPKob4eNL+LRL+FR0qhE7nKSFjhQKIjvfsGld0Kc7uh4LKs3cmrdj90XTWiF80hI+voSPL+HjS/hgD+7cubPYv798z20IGgNY+HjO8Xt8CB9fwqddwqeiU43YDEafrNjvRux0VwifgSV8fAkfX8LHl/DBNat9enSEs/Pnz9ev1PxpHs46JuHTr4RPu4RPnnSqEZvBNH8XsdPZQfikJXx8CR9fwseX8ME1u2fPnuL06dP1q7QZ2FHdUrKpW78SPu0SPnnSqUb0KZNmvLZpmxQ6sIF+13TDpmUF4ZOW8PElfHwJH1/CB9eoDlt94sSJ+hWCGIRPPxI+7RI+edKpRmx1c3iAg3C72/CIKzqdHYRPWsLHl/DxJXx8CR9ckzqYweHDh+tXZzPRh6zavF0eP35860NYjUv00yB8+pHwaZfwyZNONaJVyd4OhlrbY6uahc7LDsInLeHjS/j4Ej6+hA+uwb179xY33XRT/cpsJrbPr6ng0SZu+j3c2oTw6UfCp13CJ0/WUiM62ICO8GafvOhTmDB6hGZG2UH4pCV8fAkfX8LHl/DBjl544YXFtddeW78qm4ltXq+tTezDVzuYgR1tVhEkCJ9+JHzaJXzyZO01ouAJVzMbmhFlB+GTlvDxJXx8CR9fwgc7uGvXruKKK66oX5HNxTaz13f42O8WPs3ThE8/Ej7tEj550qlGFDj6dMX25dGaH5tB61MYNnVbUsLHl/DxJXzSEj5rwebtOJ5aw3Hu3Ln6Fdlcwrhphk7z9FDhY5vZaasXww4AdebMma3TNkYK939eFMInLeHTLuFT0alGbJWybdoWHuSg+ebW6ewgfNISPr6Ejy/h40v4YAdt861NxwJCY5AwdDQOsdiw7/sjfPqR8GmX8MmTTjWiN7AU9obWmh77XSFk2OWygvBJS/j4Ej6+hI/vhMNn07Hl3Rjqu3qOHDlS3xMIP2i1n4qM8MNXiw02detHwqddwidP1hI+mgnZDob2KYtNM8Lfs4HwSUv4+BI+voSPL+EzWWyZNrSKnltvvbW+F2DYB6wxtRWKQfj0I+HTLuGTJ51qRKt0w5mNPm1RBOmTFjtt6HR2ED5pCR9fwseX8PElfCZLuKwbSh3B7YYbbqjvATTRWEMHOLAjymoTsubmgIRPPxI+7RI+edKpRmybVtM+ZdHMR6fZx2dJCR9fwseX8ElL+MAaCJd1Q6gjuF199dX1rcMi6IBL+vA1hPDpR8KnXcInTzrXiD5x0U6F4acsOm07GhqakWcH4ZOW8PElfHwJH1/CZ7I0w6RvL7300hcM4uFbaIyhtTwae4Sb20vb5F4QPv1I+LRL+OTJ2mpEMx8Z+w4foZlRdhA+aQkfX8LHl/DxJXwmiw2qh3DHjh3FqVOn6luGJvYFpjqggaJHEdR8Djm4Qb8SPu0SPnnSuUa0fW14JBWp0+HOhULnZwfhk5bw8SV8fAkfX8JnsoTLuD696KKLimPHjtW3CjEsdPRT2GGjNe6wfY9tDEL49CPh0y7hkyedakTRYzPrmGH86HR2ED5pCR9fwseX8PElfCZLc/nWh7t37y5uv/32+hbBw8JHY5Djx49v/a74CadZFBE+/Uj4tEv45EmnGrE1PZrhKHK0qZt+2qcvNiMSOp0dhE9awseX8PElfHwJn8miZVifKnoOHjxY3xqk0Fij+fxZ6NjBlVjj06+ET7uET550qhGb4di2tIYdzloa4e/ZQPikJXx8CR9fwseX8Jkstkzrw507dxb795fvGViY8Os09CGr9vUJxx7s49OvhE+7hE+edKoRO4pK88gzOm0zI0Ons4PwSUv4+BI+voSPL+EzWWxAvW61T4+WlefPn69vCRZFR2/Tmh0bg2hNkNb8aPM3g/DpR8KnXcInTzrViG1bG35fj2iuahY6nR2ET1rCx5fw8SV8fAmfyWKhsm737NlTnD59ur4VWBat2bGjyjY/hBWETz8SPu0SPnmycI00j9zWpi5v29wKnZcdFj6f+uulf2N8P7mnKD5xYXzaGH7iPyyKk3vj04b25LeVr9W/H582hp/YWb5eu+PTBvfbM/s//mvV8xObNoaf+A+q/5/YtKHV/Th5UT0DginRXMatQx22+sSJE/UtwDLokNbhd/eY2gQu3Pye8OlHwqddwidPFq6R5sxlUY3w92yw8HnyvUXxzEfG9+H/vig+95/Hp43hvd9XFI/9anza0D7+r4vinu+ITxvDB36kKL70M/FpQ/v08er/+Ou/H58+tA8fLP+P/4v4tDG897Ly//jX49OG9vF/VRT3le8rmBzNZVtXdTCDw4cP19cOy6CwSX0Ya/v8CMKnHwmfdgmfPFm4RrTZmtbgLONkNnX784eK4i++Pr5nby+Kz/9ofNoY3n9FGYVH49OG9qm7ygHsd8WnjeFD1xfFozfHpw3tN79a/x+fjk8f2rO/Uv4f/3h82hjef3n5f/y++LShfeoDbOo2UZqD6y7u3bu3uOmmm+prhmXR2MKeS21ar83upW1mL7X/jyB8+pHwaZfwyZPBakQzouwgfNISPr6Ejy/h40v4TBYbUHf1wgsvLK699tr6WmEV9MGqnsvm/sXC4keXEYRPPxI+7RI+ebJSjWgVsj5xuf7667e2pzXty8RiaEaUHYRPWsLHl/DxJXx8CZ/JYuHSxV27dhVXXFHOV6ETdmAljTma2Bers8anXwmfdgmfPFm6RjTDaTvQgXY4DHcuFDo/OwiftISPL+HjS/j4Ej6TpbmcW0UtO8+dO1dfI3RB4ww9nzrIgaHfdR77+PQv4dMu4ZMnS9VI2w6FoZophYeW1HnZQfikJXx8CR9fwseX8JkszWXcKuqQy7Ac4f48i6qtUey5Jnz6kfBpl/DJk6VqxLadVfxoZtQ8Zr7CyLa9lbaNrdDp7CB80hI+voSPL+HjS/hMFluuraK+q+fIkSP1NcEyhGOKZWQfn34lfNolfPJkqRrR6mPNUGzbWQ/7hEZrfQydzg7CJy3h40v4+BI+voTPZLEB9bIqem699db6WmBZtPmaImZZbRM4wqcfCZ92CZ88WapGbEbehtYENS+7yN8NDuGTlvDxJXx8CR9fwmey2DJtGXUEtxtuuKG+BhgDwqcfCZ92CZ88WapGbGa+CM3LLvp3g0L4pCV8fAkfX8LHl/CZLLZMW1Qdwe3qq6+u/xrWhfbd0ZHbwiPKap8ebWnSPKiSIHz6kfBpl/DJk6VqxDZ1a9tBU6uYdTntC2TodHYQPmkJH1/Cx5fw8SV8JosFzaJeeumlL9gPFlZHz6UCJ/ZchyqAQgiffiR82iV88mSpGrGDG8QOV21o5qTpupxmUoZOZwfhk5bw8SV8fAkfX8JnstjAehF37NhRnDp1qv5LWAf2/TyLGO6HTPj0I+HTLuGTJ0vViGInnLloFXO4M6FCJzzcdTjz0ensIHzSEj6+hI8v4eNL+EwWW661edFFFxXHjh2r/wrWQTj20Lgj/O4eQ98xaB+6ahxia9sIn34kfNolfPJk6RpRzNgMKKXWDoXovOwgfNISPr6Ejy/h40v4TJbmMi7m7t27i9tvL+fjsFZs3KHN7VModmyTfIWQmEv43PTeR4tX/94jxS9+4EwW6r68/J2no9PG8Nb3n9kKn9cdi08fw5/9nYeLf340n9fs59/zSPHK8v5sOivViD5t8ba11ScuscNda1p2ED5pCR9fwseX8PElfCZLc1nXVNFz8ODB+tKwTrRFiZ5j/WzDNomzy84lfH71+OPFb3zo8eI99z6Zhb/54ceLV5eD6Ni0MTx6zxNb4XPnp56ITh/D15Sh8WvHH4tOG8M3/uHjxa1lAG06nWtEq6B1sIPYqucQzYiyg/BJS/j4Ej6+hI8v4TNZLHBi7ty5s9i/f399SVg3y4RP87Jz2tTtXXc/UXzh7HNZ+O7yvrzu2Fei08bwga/82Vb4fPrL34hOH8NfKiPjHZ/8WnTaGL73vifZ1K1ksBp54xvfWP+WEYRPWsLHl/DxJXx8CZ/JEoZOqPbp0eZV58+fry8J68Y2ddP+PW3Y1ih2dDfCpx8Jn3YJnzwZLHyyhPBJS/j4Ej6+hI8v4TNZwtgJ3bNnT3H6dPneg94ID27QPFx1SLgPsm2FQvj0I+HTLuGTJ4QP4eNL+PgSPr6Ejy/hszIPPPDA1gBWWw+8/vWv3/L9739/PbV/bEAdumPHjuLEiRP1JcbhuefKQV/53Oi5sOdFz5GeK02bC/Z1GlJr2HRam7NJ7ddjR3Sz6Qbh04+ET7uET54QPoSPL+HjS/j4Ej6+hM9SaOCugfxLXvKS7UFtU0177LHHio9//OP1X/VD83Z1MIPDhw/XU4dHj/dVr3pV8aIXvegF983UNAWRnkc9R1Mm/I7AlDqUdbjPMeHTj4RPu4RPnhA+hI8v4eNL+PgSPr6Ez8JosGqD+u/5nu/ZGuRrTYbWbthaDp0OB726fF+D3PB29u7dW9x00031lGHR4w5D8Id+6Ie24lAhpGkWgQoeu5w9j4qAqQeQ1vDYIatDFTxaC9T8cnXCpx8Jn3YJnzwhfAgfX8LHl/DxJXx8CZ+FsKDRgF2/pzbZsrUe+mmDYA12141d94UXXlhce+219bnDoedAz4Ueq1TsKHRSKHJ0nxVAek7sMcwhBISOKCvty0pjED79SPi0S/jkCeFD+PgSPr6Ejy/h40v4tKIBvQbnP/mTP5kMnhi6vP5Of681IetE17lr167iiivK+eIIWLgoYtqCJ0TPiT2P+jutPdP1KKI2Aa39mvpaLkH4pCV82iV8KggfwseX8PElfHwJH1/CJ4mttdEgf9noCbFIWGf86Pq0OdW5c+fqc4bD1oB1fV6E/t42gVNkwjQgfNISPu0SPhWTCh87qosOWSm0ilunw2P763edp2mtED5pCR9fwseX8PElfFy0T4rm3YqVroN7YfGzriO/LbxcWTMWPYqVdTwvIoyfdT0/0C+ET1rCp13Cp4LwIXx8CR9fwseX8PElfKLYQFz7rqxrsyRdpzbr0nWug3e/+931b8Ohx6D7r8exrugxwudn3dcN64fwSUv4tEv4VEwqfNYO4ZOW8PElfHwJH1/CJ4qt7Vn3pld2vVPdn8X2d+pr53x7frR2DPKG8ElL+LRL+FQQPoSPL+HjS/j4Ej6+hE8Ubd62zrU9IVqrIaeGre1Z90EamuhgEH0997A+CJ+0hE+7hE8F4UP4+BI+voSPL+HjS/i8AA3w17XWQUcta641sgMmTG1gb2tj+t4HR2uTdDubcpS3qUL4pCV82iV8KggfwseX8PElfHwJH1/C5wUoVtYx8Nb1aM2FrktrMYypbu5ma2KG2P9Ga8S0jxXkC+GTlvBpl/CpIHwIH1/Cx5fw8SV8fAmfF2BrHLqs2dB3tSgSZPNoZbZGKYyhKaAYGeo+26aGkC+ET1rCp13Cp4LwIXx8CR9fwseX8PElfF6AHa551U3R9PcWPYodhY7Fj33Rpx0xbkro/mszvSGwzQGHWLsEq0H4pCV82iV8KggfwseX8PElfHwJH1/C5wXYkcuWDR+t5dEaEf2twsYiR1j8KHZ0/tT287HN/8Lw0ePV6XUZHinOXoPwOYTliH29xr59+7bOO3PmzNZpfRWHTuurOZaF8ElL+LRL+FQQPoSPL+HjS/j4Ej6+hM8LsHhZNEp0OQ3cbS2PDooQW1Oh8+wyurxuYyr7+ShywvtrYbJu9bwI2w9KtwurQfiMK+HTLuFTQfgQPr6Ejy/h40v4+BI+L8C+RLMNhYwFjwaP2i+lbQ2FIskuLxe5nRxoho8dkluPR8/DOgyfdwufLvtZQb8QPmkJn3YJnwrCh/DxJXx8CR9fwseX8HkeGshrwJ3aid828QqDZ5kBuu24P+Xw0e/r/pJRXZ+uVxFE+OQP4ZOW8GmX8KkgfAgfX8LHl/DxJXx8CZ/nYZtwNQfcGoxr0G8HKZAKGJ2nacugv9PaDbHs346F7eND+IBB+KQlfNolfCoIH8LHl/DxJXx8CR9fwud5KGwUJRp8S63p0IA8XEOj0112ug/DZyoQPtCE8ElL+LRL+FQQPoSPL+HjS/j4Ej6+hM82NthW/DQ3R1t17U4MXb+cEoQPNCF80hI+7RI+FYQP4eNL+PgSPr6Ejy/hs40dzS10XbETorU9Cqkp0QwfxeC6v8zUnn9B+OQP4ZOW8GmX8KkgfAgfX8LHl/DxJXx8CZ9t9D0yOmiBbd6mgfeih7ReFEWUrnfda0v6phk+fay1UvjYJoB6LQifvCF80hI+7RI+FYQP4eNL+PgSPr6Ejy/hE8XWONj3yqyLqa7JaIaPwk1rfdaFglDRY2uRCJ/8IXzSEj7tEj4VhA/h40v4+BI+voSPL+ETxdbMrHNwL2zfoXVvPtc3zfCxMNHPdWBBqKPqCcInfwiftIRPu4RPBeFD+PgSPr6Ejy/h40v4uGhtzzoH34oGXd+6940ZAgsfCxMLw3UcnU7XpSDU9dmmhYRP/hA+aQmfdgmfCsKH8PElfHwJH1/Cx5fwcQnX+mjg3wUN6HU9U1zbI5rhIywMu24OaN+dFF6PhY/2t4I8IXzSEj7tEj4VhI8GjI/9WlGc++3x1WD6My+JTxvDe/5WUTz8c/FpQ/vIa4ri7m+PTxvDz/79cnD/E/FpQ/vVf13/H/9GfPrQPvSPyv/jK+PTxvCev1n+H78yPm1oH3l1GfD/UT0Dgia2CVaXNRsKHTtimW0qNjUUbrr/Yfjocel50fmrhqH+LhaEhE/+ED5pCZ92CZ8KwkcDxvvL2Pj0VeN7z2VFcfLF8Wlj+MmLykHa5fFpQ3vf3ymKT1wYnzaGn/obZYiVA9jYtMH9T6v/40//J43zR/Ke787v//i+vx2fNrT3/UD53OytZ0AQw9Zs6Chmyx7lTQN3/Z3+vuuakTGJhY+wNUEKl2X399Fzo3DS3zY3aSN88ofwSUv4tEv4VBA+GjA+8ZGieOoz43v6tUVx6ofj08bw3u8vijNvik8b2sfeXobGd8anjeEDP1YUX3xFfNrQfv3u+v/4Y/HpQ3v6NeX/8f74tDG893uL4uyb49OG9uxb2dRtAWxzrEUDRmsvdDkN6hf9m5zxwkdY/Egd7a1tUz5Nt8OFy9h+PLY/FOGTL4RPWsKnXcKngvAhfHwJH1/Cx5fw8SV8FsY26zK1+ZpCQINzhYECQIN4RY6t5ZGKn6mTCh/RfG4UNoqX5nNjh8G2y3nPDeGTP4RPWsKnXcKngvAhfHwJH1/Cx5fw8SV8FkaDex19TINyOwqZZ3i5TQkfPVaLm+bzEarLKWhSzw3hkz+ET1rCp13Cp2KY8ClnqLM0NrDpIuHjS/j4Ej5pCZ9JosF9eChqbbKlgb72R1EQ2BoOrd0wbHO3qbNo+BiLPDd6LtvCJ7w85AXhk5bwaZfwqShHSwMQxsKcjA1sukj4+BI+voRPWsJncthA3Bv4e9hO+sv+XW6kwkeB0+W50d83IXzyh/BJS/i0S/hUlKOlAShnqLM0NrDpIuHjS/j4Ej5pCZ9JYGstbH8d/Wzbcb+JLm9/rzUiGuxPEQuf8CANWoNja7S0xmfZSNFzo7/T9WrtTxhAhE/+ED5pCZ92CZ+KcrQ0AOUMdducWGUfn/CxxKZ3kfDxJXx8CZ+0hE/WaJBvA3oNvm3Av2z0hNj3+ITXp9uZChY+2n9Ha3bCgzco6FZ9LHpOw+dG16vr1/Oj04RPvvzq8ceLXz/+2FZw5OCvf6h83x79cnTaGN75qSe2wuedZWjEpo/hTb/3SHH7XWej08bwtz78ePG6D5yt/6M2l3K0NADlDHXbnCB80hI+voSPL+HjS/hsoQG41mBo4G3Bo7URtkZCaoCuNRGLBpAup8uH16lIaF7nFNYC2eZspq3lCR+HHuuiAbTIcyM5uEG+vOa9jxY3vefR4pf/4GwW6r787DtPR6eN4f/4wbNb4fP6cmAfmz6G/+x3Hi5eXcZPbNoY/ovyf+iVRx+p/6M2l3K0NADlDHXbnCB80hI+voSPL+Hju+HhowF4uAZDg3ANwMM1DRr067xwQK4Bus7TgF9rQbSGQuo8XVc4oJc6P4wmDejDo5/p+nJcC6T7aWtk7LnR82GPY5Xnphk3zedG1xk+N7qeKa0d2xS0qdtdDzxTPPPcX2Xh8QefKd5QDqZj08bwyW+c3wqfx5/+y+j0MTz0oceLY599OjptDD/60LNs6lZSjpYGoJyZbpsThE9awseX8PElfHw3OHy0psXiRINxBZANvmNomgboupwG5hqwh4N4XZfU4F6DdQ32dfm2zbV0mfB6dHpsdJ/D4NHvqcexyHOj0+Fzo+c/dZ2atjEBVD6+ORob7PYl4dMu4ZMn5btlAMI3Z04QPmkJH1/Cx5fw8d3A8AkH9RqIh2swVkUD8q7XofthsaD7NdYgPwxCBUwqThah63Ojvw8DKIcwXDvl45qjscFuXxI+7RI+eVK+WwYgfHPmBOGTlvDxJXx8CR/fDQofDb61psHWzGgA3TVW+kBrTWyQr/s7FHouLDAUXl2DZ93o/uh+6f4pyHJ87VZGy+8ZGhvs9iXh0y7hkyflu2UAwjdnThA+aQkfX8LHl/Dx3aDwsUH9OtZi9E1zkN83igjdjsVWzlGh+6f7qbVjs0HLb3MiePv4hI+lOa1PCZ92CZ88GeZdH7wxs4LwSUv4+BI+voSP74aEj9buTGFQ38Rire81P3Y7U9mMTJsF6v4OEYWDoOW3OREIn7SET7uET8Uw7/rgjZkVhE9awseX8PElfHw3IHx0ZDINkrUGZYqbR9mamL7WUllEDLlZ3TqwWJvql8I+Dy2/zYlA+KQlfNolfCqGedcHb8ysIHzSEj6+hI8v4eO7AeFja3u8gwWE398zljrYggIkhmJN91/7/vSBHeghFoW5Pzc2ffLYMlxOBMInLeHTLuFTMcy7PnhjZgXhk5bw8SV8fAkf3w0IHw2MNUCOoRiyAbbWrOiyQ2trdKS3Vkf7s3iPoSt2mOkmui+5Pzda69PX8zIoWn6bE4HwSUv4tEv4VAzzrg/emFlB+KQlfHwJH1/Cx3cDwkcDYw2iY9jaIG+NwlAowHQ/vLU6tkP/ujfVU0zoemObueXy3Nh9jD03dgQ8LxgnQ/kYtp0IhE9awqddwqdimHd98Mbswo033ljs27dv63fNfE2dvxKET1rCx5fw8SV8fGcePhYU3v4rfQXFKuh+aA1GjL4G+Lb/U2w/mSk8N7Z/0uT38ykfw7YTgfBJS/i0S/hUDPOuD96YXVDgaKYrz5w5s3XeyZMnt04fOnRo6/RSED5pCR9fwseX8PGdefjY2gJvYDyV8LEBvkJlnaTW6kzhubGwncrR6FzKx7DtRCB80hI+7RI+FcO864M3ZhcsfCx6jAMHDmyvCVoKwict4eNL+PgSPr4zDx8FjzewF1MLn3UP8G1NUuzAD1N4bnTfUs/bZCgfw7YTgfBJS/i0S/hUDPOuD96YXbDwaUL49CTh40v4+BI+vjMPH1ujERvYi6mEjw3wvX2AVkX7PsWWYWIqz01qH67JoNfAnAiET1rCp13Cp2KYd33wxuxCKny8hUkSwict4eNL+PgSPr4zDx8NljUvnnr4CE1f9wBfR03TUd1iTOW50RHpvMcwGcrHt+1EIHzSEj7tEj4Vw7zrgzdmFwifgSV8fAkfX8LHd+bho1BIDYqXHdxrnyFvPxutXdL1Gdo8bZmDEaQG98IOK71O9Nx41zmV50b3f/KHtNby25wIhE9awqddwqdimHd98MbsAuEzsISPL+HjS/j4zjx8vO+oMZYZ3GugrgG2jF1et2WRpTVMdtlFB/ipwb3oY4Cfus2pPDfLBlqWlPd/24lA+KQlfNolfCqGedcHb8wuED4DS/j4Ej6+hI/vBoRPavOwRQfN4cA+dqAEO/hAuA+OHSp60QG+LpsKH7uv60L3Sden640xleemr0N9D0p5/7edCIRPWsKnXcKnYph3ffDG7ALhM7CEjy/h40v4+M44fLRmQfNhb2AvFhnctw3sheJK05v7Ei0zwNflUuGTOgLbKth963Ko7xyeGwurSX+XT3n/t10T9tUa+mljFXMdED5pCZ92CZ+K9b3rUwRvzKwgfNISPr6Ejy/h4zvj8NFgWoO81CGg2wb3iwzsLbC8NUuLDvB1mVT42KG5dX3rwI545z2uqTw3dhup1zl7yvu/7Zqw8JHh9wrqiLMrHXW2AeGTlvBpl/CpWN+7PkXwxswKwict4eNL+PgSPr4zDp+27/ARbYN7na99hHQZb42CrYnxgkQDcg3sdT2ptTW6jlT42JqNdQ3w29YgTeW50f1ITZ8E5f3fdk14X6Z+9OjRrfM1vQuET1rCp13Cp2J97/oUwRszKwiftISPL+HjS/j4zjh8LBRSa0gW2ZwrNcDXNO1HpOkxFh3YC11/avBua7C8yFgWixLvsU/ludHtaLru72Qp7/+2a8LCR6ETQvgMI+HTLuFTsb53fYrgjZkVhE9awseX8PElfHzZ1G3rMqnBvfAG+BZXiogmywzsha5nkTU+qTVYy2DX54XUVJ4b3WbqcUyC8v5vuybawqd5/rIQPmkJn3YJn4r1vetTBG/MrCB80hI+voSPL+HjO+Pw0YBcaxw0wPb2H1l0cC9sgK/rs8G6HWK6+fd224sO7EVqcK+1VrodXeci93UR7PF40ZD7c6PrUVyt+3kZhfLxbbsmCJ9xJXzaJXwq1veuTxG8MbOC8ElL+PgSPr6Ej++Mw0doYK1BntQO9s3N3pYZ3Atdzq5Dv2twr+uIodhadGAvdD+ag3vdlu63pmmAn9psbxV0/xQNun6FSBhAOT83uh2LNj0vXthOhvJxbLsmCJ9xJXzaJXwq1veuTxG8MbOC8ElL+PgSPr6Ej+/Mw0doUKxBswZ7UgNyG6AvO7jvE90PG9zr/ul+hve5z8G9Nj2zALL7kOtzY6+lgkf3O4f715ny8Wy7JgifcSV82iV8Ktb3rk8RvDGzgvBJS/j4Ej6+hI/vBoSPoQGyBsoa9CkkRK6De90/DezDSBsCPT+5h4/WgM0meIzy8W27JgifcSV82iV8Ktb3rk8RvDGzgvBJS/j4Ej6+hI/vBoVPiB0gINfBve7f2Jtv5frczBItv82JQPikJXzaJXwqhnnXB2/MrCB80hI+voSPL+HjuyHho/1JtP9KU9ucLJfBve1n03SZ/WGWhecmA7T8NicC4ZOW8GmX8KkY5l0fvDGzgvBJS/j4Ej6+hI/vhoSPHVrZM5fBvacG+H3Bc5MB5ePYdiIQPmkJn3YJn4ph3vXBGzMrCJ+0hI8v4eNL+PhuWPho8y3tM9M0B2L3yzY3GyJ8eG5GRMtvcyIQPmkJn3YJn4ph3vXBG3NWxgY2XSR8fAkfX8InLeEzOFproUGyjlymgXJsIJ2bChI7ZHOfm3Px3GSAlt/mRCB80hI+7RI+FcO864M35qyMDWy6SPj4Ej6+hE9awmcU7IhuU1JHdtOajb7huRmZ8vFsOxEIn7SET7uET8Uw7/rgjTkrYwObLhI+voSPL+GTlvAZDa3d0FqNqTjkkd14bkYkXI5PBMInLeHTLuFTMZ13fR+sso9PnxI+voSPL+GTlvABgJAgFqYC4ZOW8GmX8KmYzru+DwiftISPL+HjS/j4Ej4A4xPEwlQgfNISPu0SPhXTedf3AeGTlvDxJXx8CR9fwgdgfIJYmAqET1rCp13Cp2I67/o+sPDRAP++HxjfT31HUZy8OD5tDD+xsyju+a74tKG957Ly/uyITxvDk99Wvl6XxKcN7uX1//F/HJk2gtn9H1+Y0f/xd5fPzZ56BgQAoxDEwpyMDXb7kvBpl/DJk/LdsuE89vqiePYujPnUO+Lnj+UTb46fj/wfp/z62+Lnj+U3PlzPfABgFCLRMAdjg92+JHzaJXzypHy3AAAAAGwIkWiYgz/9ti8N5j/5N18sfqoMjdi0sVT4xM4fy58qnyM9T7FpY6j78vJ3nq7fBJtL+W4BAAAAgJx59pv/FhM++vT56Pn4LYHwAQAAAACADYDwAQAAAACA2UP4AAAAAADA7CF8AAAAAABg9hA+AAAAAAAwewgfAAAAAACYPYQPAAAAAADMHsIHAAAAAABmD+EDAAAAAACzh/ABAAAAAIDZQ/gAAAAAAMDsIXwAAAAAAGD2ED4AAAAAADB7CB8AAAAAAJg9hA8AAAAAAMwewgcAAAAAAGYP4QMAAAAAALOH8AEAAAAAgNlD+AAAAAAAwOwhfAAAAAAAYPYQPgAAAAAAMHsIHwAAAAAAmD2EDwAAAAAAzB7CBwAAAAAAZg/hAwAAAAAAs4fwAQAAAACA2UP4AAAAAADA7CF8AAAAAABg9hA+AAAAAAAwewgfAAAAAACYPYQPAAAAAADMHsIHAAAAAABmD+EDAAAAAACzh/ABAAAAAIDZQ/gAAAAAAMDsIXwAAAAAAGD2ED4AAAAAADB7CB8AAAAAAJg9hA8AAAAAAMwewgcAAAAAAGYP4QMAAAAAALOH8AEAAAAAgNlD+AAAAAAAwOwhfAAAAAAAYPYQPgAAAAAAMHsIHwAAAAAAmD2EDwAAAAAAzB7CBwAAAAAAZg/hAwAAAAAAs4fwAQAAAACA2UP4AAAAAADA7CF8AAAAAABg9hA+AAAAAAAwewgfAAAAAACYOUXx/wND1gHz7XrwuQAAAABJRU5ErkJggg==)"
   ]
  },
  {
   "cell_type": "code",
   "execution_count": 3,
   "metadata": {
    "id": "GYC4HoEFTl0w"
   },
   "outputs": [],
   "source": [
    "# Tratamiento de datos\n",
    "# ==============================================================================\n",
    "import numpy as np\n",
    "import pandas as pd\n",
    "import statsmodels.api as sm\n",
    "\n",
    "# Preprocesado y modelado\n",
    "# ==============================================================================\n",
    "from sklearn.decomposition import PCA\n",
    "from sklearn.preprocessing import StandardScaler\n",
    "#from sklearn.preprocessing import scale\n",
    "\n",
    "# Configuración warnings\n",
    "# ==============================================================================\n",
    "import warnings\n",
    "warnings.filterwarnings('ignore')"
   ]
  },
  {
   "cell_type": "code",
   "execution_count": 4,
   "metadata": {
    "id": "aStczdGjTuc6"
   },
   "outputs": [
    {
     "ename": "URLError",
     "evalue": "<urlopen error [SSL: CERTIFICATE_VERIFY_FAILED] certificate verify failed: unable to get local issuer certificate (_ssl.c:997)>",
     "output_type": "error",
     "traceback": [
      "\u001b[0;31m---------------------------------------------------------------------------\u001b[0m",
      "\u001b[0;31mSSLCertVerificationError\u001b[0m                  Traceback (most recent call last)",
      "File \u001b[0;32m/Library/Frameworks/Python.framework/Versions/3.10/lib/python3.10/urllib/request.py:1348\u001b[0m, in \u001b[0;36mAbstractHTTPHandler.do_open\u001b[0;34m(self, http_class, req, **http_conn_args)\u001b[0m\n\u001b[1;32m   1347\u001b[0m \u001b[39mtry\u001b[39;00m:\n\u001b[0;32m-> 1348\u001b[0m     h\u001b[39m.\u001b[39;49mrequest(req\u001b[39m.\u001b[39;49mget_method(), req\u001b[39m.\u001b[39;49mselector, req\u001b[39m.\u001b[39;49mdata, headers,\n\u001b[1;32m   1349\u001b[0m               encode_chunked\u001b[39m=\u001b[39;49mreq\u001b[39m.\u001b[39;49mhas_header(\u001b[39m'\u001b[39;49m\u001b[39mTransfer-encoding\u001b[39;49m\u001b[39m'\u001b[39;49m))\n\u001b[1;32m   1350\u001b[0m \u001b[39mexcept\u001b[39;00m \u001b[39mOSError\u001b[39;00m \u001b[39mas\u001b[39;00m err: \u001b[39m# timeout error\u001b[39;00m\n",
      "File \u001b[0;32m/Library/Frameworks/Python.framework/Versions/3.10/lib/python3.10/http/client.py:1282\u001b[0m, in \u001b[0;36mHTTPConnection.request\u001b[0;34m(self, method, url, body, headers, encode_chunked)\u001b[0m\n\u001b[1;32m   1281\u001b[0m \u001b[39m\"\"\"Send a complete request to the server.\"\"\"\u001b[39;00m\n\u001b[0;32m-> 1282\u001b[0m \u001b[39mself\u001b[39;49m\u001b[39m.\u001b[39;49m_send_request(method, url, body, headers, encode_chunked)\n",
      "File \u001b[0;32m/Library/Frameworks/Python.framework/Versions/3.10/lib/python3.10/http/client.py:1328\u001b[0m, in \u001b[0;36mHTTPConnection._send_request\u001b[0;34m(self, method, url, body, headers, encode_chunked)\u001b[0m\n\u001b[1;32m   1327\u001b[0m     body \u001b[39m=\u001b[39m _encode(body, \u001b[39m'\u001b[39m\u001b[39mbody\u001b[39m\u001b[39m'\u001b[39m)\n\u001b[0;32m-> 1328\u001b[0m \u001b[39mself\u001b[39;49m\u001b[39m.\u001b[39;49mendheaders(body, encode_chunked\u001b[39m=\u001b[39;49mencode_chunked)\n",
      "File \u001b[0;32m/Library/Frameworks/Python.framework/Versions/3.10/lib/python3.10/http/client.py:1277\u001b[0m, in \u001b[0;36mHTTPConnection.endheaders\u001b[0;34m(self, message_body, encode_chunked)\u001b[0m\n\u001b[1;32m   1276\u001b[0m     \u001b[39mraise\u001b[39;00m CannotSendHeader()\n\u001b[0;32m-> 1277\u001b[0m \u001b[39mself\u001b[39;49m\u001b[39m.\u001b[39;49m_send_output(message_body, encode_chunked\u001b[39m=\u001b[39;49mencode_chunked)\n",
      "File \u001b[0;32m/Library/Frameworks/Python.framework/Versions/3.10/lib/python3.10/http/client.py:1037\u001b[0m, in \u001b[0;36mHTTPConnection._send_output\u001b[0;34m(self, message_body, encode_chunked)\u001b[0m\n\u001b[1;32m   1036\u001b[0m \u001b[39mdel\u001b[39;00m \u001b[39mself\u001b[39m\u001b[39m.\u001b[39m_buffer[:]\n\u001b[0;32m-> 1037\u001b[0m \u001b[39mself\u001b[39;49m\u001b[39m.\u001b[39;49msend(msg)\n\u001b[1;32m   1039\u001b[0m \u001b[39mif\u001b[39;00m message_body \u001b[39mis\u001b[39;00m \u001b[39mnot\u001b[39;00m \u001b[39mNone\u001b[39;00m:\n\u001b[1;32m   1040\u001b[0m \n\u001b[1;32m   1041\u001b[0m     \u001b[39m# create a consistent interface to message_body\u001b[39;00m\n",
      "File \u001b[0;32m/Library/Frameworks/Python.framework/Versions/3.10/lib/python3.10/http/client.py:975\u001b[0m, in \u001b[0;36mHTTPConnection.send\u001b[0;34m(self, data)\u001b[0m\n\u001b[1;32m    974\u001b[0m \u001b[39mif\u001b[39;00m \u001b[39mself\u001b[39m\u001b[39m.\u001b[39mauto_open:\n\u001b[0;32m--> 975\u001b[0m     \u001b[39mself\u001b[39;49m\u001b[39m.\u001b[39;49mconnect()\n\u001b[1;32m    976\u001b[0m \u001b[39melse\u001b[39;00m:\n",
      "File \u001b[0;32m/Library/Frameworks/Python.framework/Versions/3.10/lib/python3.10/http/client.py:1454\u001b[0m, in \u001b[0;36mHTTPSConnection.connect\u001b[0;34m(self)\u001b[0m\n\u001b[1;32m   1452\u001b[0m     server_hostname \u001b[39m=\u001b[39m \u001b[39mself\u001b[39m\u001b[39m.\u001b[39mhost\n\u001b[0;32m-> 1454\u001b[0m \u001b[39mself\u001b[39m\u001b[39m.\u001b[39msock \u001b[39m=\u001b[39m \u001b[39mself\u001b[39;49m\u001b[39m.\u001b[39;49m_context\u001b[39m.\u001b[39;49mwrap_socket(\u001b[39mself\u001b[39;49m\u001b[39m.\u001b[39;49msock,\n\u001b[1;32m   1455\u001b[0m                                       server_hostname\u001b[39m=\u001b[39;49mserver_hostname)\n",
      "File \u001b[0;32m/Library/Frameworks/Python.framework/Versions/3.10/lib/python3.10/ssl.py:513\u001b[0m, in \u001b[0;36mSSLContext.wrap_socket\u001b[0;34m(self, sock, server_side, do_handshake_on_connect, suppress_ragged_eofs, server_hostname, session)\u001b[0m\n\u001b[1;32m    507\u001b[0m \u001b[39mdef\u001b[39;00m \u001b[39mwrap_socket\u001b[39m(\u001b[39mself\u001b[39m, sock, server_side\u001b[39m=\u001b[39m\u001b[39mFalse\u001b[39;00m,\n\u001b[1;32m    508\u001b[0m                 do_handshake_on_connect\u001b[39m=\u001b[39m\u001b[39mTrue\u001b[39;00m,\n\u001b[1;32m    509\u001b[0m                 suppress_ragged_eofs\u001b[39m=\u001b[39m\u001b[39mTrue\u001b[39;00m,\n\u001b[1;32m    510\u001b[0m                 server_hostname\u001b[39m=\u001b[39m\u001b[39mNone\u001b[39;00m, session\u001b[39m=\u001b[39m\u001b[39mNone\u001b[39;00m):\n\u001b[1;32m    511\u001b[0m     \u001b[39m# SSLSocket class handles server_hostname encoding before it calls\u001b[39;00m\n\u001b[1;32m    512\u001b[0m     \u001b[39m# ctx._wrap_socket()\u001b[39;00m\n\u001b[0;32m--> 513\u001b[0m     \u001b[39mreturn\u001b[39;00m \u001b[39mself\u001b[39;49m\u001b[39m.\u001b[39;49msslsocket_class\u001b[39m.\u001b[39;49m_create(\n\u001b[1;32m    514\u001b[0m         sock\u001b[39m=\u001b[39;49msock,\n\u001b[1;32m    515\u001b[0m         server_side\u001b[39m=\u001b[39;49mserver_side,\n\u001b[1;32m    516\u001b[0m         do_handshake_on_connect\u001b[39m=\u001b[39;49mdo_handshake_on_connect,\n\u001b[1;32m    517\u001b[0m         suppress_ragged_eofs\u001b[39m=\u001b[39;49msuppress_ragged_eofs,\n\u001b[1;32m    518\u001b[0m         server_hostname\u001b[39m=\u001b[39;49mserver_hostname,\n\u001b[1;32m    519\u001b[0m         context\u001b[39m=\u001b[39;49m\u001b[39mself\u001b[39;49m,\n\u001b[1;32m    520\u001b[0m         session\u001b[39m=\u001b[39;49msession\n\u001b[1;32m    521\u001b[0m     )\n",
      "File \u001b[0;32m/Library/Frameworks/Python.framework/Versions/3.10/lib/python3.10/ssl.py:1071\u001b[0m, in \u001b[0;36mSSLSocket._create\u001b[0;34m(cls, sock, server_side, do_handshake_on_connect, suppress_ragged_eofs, server_hostname, context, session)\u001b[0m\n\u001b[1;32m   1070\u001b[0m             \u001b[39mraise\u001b[39;00m \u001b[39mValueError\u001b[39;00m(\u001b[39m\"\u001b[39m\u001b[39mdo_handshake_on_connect should not be specified for non-blocking sockets\u001b[39m\u001b[39m\"\u001b[39m)\n\u001b[0;32m-> 1071\u001b[0m         \u001b[39mself\u001b[39;49m\u001b[39m.\u001b[39;49mdo_handshake()\n\u001b[1;32m   1072\u001b[0m \u001b[39mexcept\u001b[39;00m (\u001b[39mOSError\u001b[39;00m, \u001b[39mValueError\u001b[39;00m):\n",
      "File \u001b[0;32m/Library/Frameworks/Python.framework/Versions/3.10/lib/python3.10/ssl.py:1342\u001b[0m, in \u001b[0;36mSSLSocket.do_handshake\u001b[0;34m(self, block)\u001b[0m\n\u001b[1;32m   1341\u001b[0m         \u001b[39mself\u001b[39m\u001b[39m.\u001b[39msettimeout(\u001b[39mNone\u001b[39;00m)\n\u001b[0;32m-> 1342\u001b[0m     \u001b[39mself\u001b[39;49m\u001b[39m.\u001b[39;49m_sslobj\u001b[39m.\u001b[39;49mdo_handshake()\n\u001b[1;32m   1343\u001b[0m \u001b[39mfinally\u001b[39;00m:\n",
      "\u001b[0;31mSSLCertVerificationError\u001b[0m: [SSL: CERTIFICATE_VERIFY_FAILED] certificate verify failed: unable to get local issuer certificate (_ssl.c:997)",
      "\nDuring handling of the above exception, another exception occurred:\n",
      "\u001b[0;31mURLError\u001b[0m                                  Traceback (most recent call last)",
      "\u001b[1;32m/Users/paulodavila/Downloads/Paulo POO/MTY.TC1030.12.2111.43311.Paulo/programaspython/PCA_Y_FA_IRIS_NUTRE.ipynb Cell 6\u001b[0m in \u001b[0;36m<cell line: 1>\u001b[0;34m()\u001b[0m\n\u001b[0;32m----> <a href='vscode-notebook-cell:/Users/paulodavila/Downloads/Paulo%20POO/MTY.TC1030.12.2111.43311.Paulo/programaspython/PCA_Y_FA_IRIS_NUTRE.ipynb#W5sZmlsZQ%3D%3D?line=0'>1</a>\u001b[0m iris \u001b[39m=\u001b[39m sm\u001b[39m.\u001b[39;49mdatasets\u001b[39m.\u001b[39;49mget_rdataset(\u001b[39m\"\u001b[39;49m\u001b[39miris\u001b[39;49m\u001b[39m\"\u001b[39;49m, \u001b[39m\"\u001b[39;49m\u001b[39mdatasets\u001b[39;49m\u001b[39m\"\u001b[39;49m)\n\u001b[1;32m      <a href='vscode-notebook-cell:/Users/paulodavila/Downloads/Paulo%20POO/MTY.TC1030.12.2111.43311.Paulo/programaspython/PCA_Y_FA_IRIS_NUTRE.ipynb#W5sZmlsZQ%3D%3D?line=1'>2</a>\u001b[0m datos \u001b[39m=\u001b[39m iris\u001b[39m.\u001b[39mdata\n",
      "File \u001b[0;32m~/Downloads/Paulo POO/MTY.TC1030.12.2111.43311.Paulo/programaspython/envclase/lib/python3.10/site-packages/statsmodels/datasets/utils.py:236\u001b[0m, in \u001b[0;36mget_rdataset\u001b[0;34m(dataname, package, cache)\u001b[0m\n\u001b[1;32m    233\u001b[0m docs_base_url \u001b[39m=\u001b[39m (\u001b[39m\"\u001b[39m\u001b[39mhttps://raw.githubusercontent.com/vincentarelbundock/Rdatasets/\u001b[39m\u001b[39m\"\u001b[39m\n\u001b[1;32m    234\u001b[0m                  \u001b[39m\"\u001b[39m\u001b[39mmaster/doc/\u001b[39m\u001b[39m\"\u001b[39m\u001b[39m+\u001b[39mpackage\u001b[39m+\u001b[39m\u001b[39m\"\u001b[39m\u001b[39m/rst/\u001b[39m\u001b[39m\"\u001b[39m)\n\u001b[1;32m    235\u001b[0m cache \u001b[39m=\u001b[39m _get_cache(cache)\n\u001b[0;32m--> 236\u001b[0m data, from_cache \u001b[39m=\u001b[39m _get_data(data_base_url, dataname, cache)\n\u001b[1;32m    237\u001b[0m data \u001b[39m=\u001b[39m read_csv(data, index_col\u001b[39m=\u001b[39m\u001b[39m0\u001b[39m)\n\u001b[1;32m    238\u001b[0m data \u001b[39m=\u001b[39m _maybe_reset_index(data)\n",
      "File \u001b[0;32m~/Downloads/Paulo POO/MTY.TC1030.12.2111.43311.Paulo/programaspython/envclase/lib/python3.10/site-packages/statsmodels/datasets/utils.py:165\u001b[0m, in \u001b[0;36m_get_data\u001b[0;34m(base_url, dataname, cache, extension)\u001b[0m\n\u001b[1;32m    163\u001b[0m url \u001b[39m=\u001b[39m base_url \u001b[39m+\u001b[39m (dataname \u001b[39m+\u001b[39m \u001b[39m\"\u001b[39m\u001b[39m.\u001b[39m\u001b[39m%s\u001b[39;00m\u001b[39m\"\u001b[39m) \u001b[39m%\u001b[39m extension\n\u001b[1;32m    164\u001b[0m \u001b[39mtry\u001b[39;00m:\n\u001b[0;32m--> 165\u001b[0m     data, from_cache \u001b[39m=\u001b[39m _urlopen_cached(url, cache)\n\u001b[1;32m    166\u001b[0m \u001b[39mexcept\u001b[39;00m HTTPError \u001b[39mas\u001b[39;00m err:\n\u001b[1;32m    167\u001b[0m     \u001b[39mif\u001b[39;00m \u001b[39m'\u001b[39m\u001b[39m404\u001b[39m\u001b[39m'\u001b[39m \u001b[39min\u001b[39;00m \u001b[39mstr\u001b[39m(err):\n",
      "File \u001b[0;32m~/Downloads/Paulo POO/MTY.TC1030.12.2111.43311.Paulo/programaspython/envclase/lib/python3.10/site-packages/statsmodels/datasets/utils.py:156\u001b[0m, in \u001b[0;36m_urlopen_cached\u001b[0;34m(url, cache)\u001b[0m\n\u001b[1;32m    154\u001b[0m \u001b[39m# not using the cache or did not find it in cache\u001b[39;00m\n\u001b[1;32m    155\u001b[0m \u001b[39mif\u001b[39;00m \u001b[39mnot\u001b[39;00m from_cache:\n\u001b[0;32m--> 156\u001b[0m     data \u001b[39m=\u001b[39m urlopen(url, timeout\u001b[39m=\u001b[39;49m\u001b[39m3\u001b[39;49m)\u001b[39m.\u001b[39mread()\n\u001b[1;32m    157\u001b[0m     \u001b[39mif\u001b[39;00m cache \u001b[39mis\u001b[39;00m \u001b[39mnot\u001b[39;00m \u001b[39mNone\u001b[39;00m:  \u001b[39m# then put it in the cache\u001b[39;00m\n\u001b[1;32m    158\u001b[0m         _cache_it(data, cache_path)\n",
      "File \u001b[0;32m/Library/Frameworks/Python.framework/Versions/3.10/lib/python3.10/urllib/request.py:216\u001b[0m, in \u001b[0;36murlopen\u001b[0;34m(url, data, timeout, cafile, capath, cadefault, context)\u001b[0m\n\u001b[1;32m    214\u001b[0m \u001b[39melse\u001b[39;00m:\n\u001b[1;32m    215\u001b[0m     opener \u001b[39m=\u001b[39m _opener\n\u001b[0;32m--> 216\u001b[0m \u001b[39mreturn\u001b[39;00m opener\u001b[39m.\u001b[39;49mopen(url, data, timeout)\n",
      "File \u001b[0;32m/Library/Frameworks/Python.framework/Versions/3.10/lib/python3.10/urllib/request.py:519\u001b[0m, in \u001b[0;36mOpenerDirector.open\u001b[0;34m(self, fullurl, data, timeout)\u001b[0m\n\u001b[1;32m    516\u001b[0m     req \u001b[39m=\u001b[39m meth(req)\n\u001b[1;32m    518\u001b[0m sys\u001b[39m.\u001b[39maudit(\u001b[39m'\u001b[39m\u001b[39murllib.Request\u001b[39m\u001b[39m'\u001b[39m, req\u001b[39m.\u001b[39mfull_url, req\u001b[39m.\u001b[39mdata, req\u001b[39m.\u001b[39mheaders, req\u001b[39m.\u001b[39mget_method())\n\u001b[0;32m--> 519\u001b[0m response \u001b[39m=\u001b[39m \u001b[39mself\u001b[39;49m\u001b[39m.\u001b[39;49m_open(req, data)\n\u001b[1;32m    521\u001b[0m \u001b[39m# post-process response\u001b[39;00m\n\u001b[1;32m    522\u001b[0m meth_name \u001b[39m=\u001b[39m protocol\u001b[39m+\u001b[39m\u001b[39m\"\u001b[39m\u001b[39m_response\u001b[39m\u001b[39m\"\u001b[39m\n",
      "File \u001b[0;32m/Library/Frameworks/Python.framework/Versions/3.10/lib/python3.10/urllib/request.py:536\u001b[0m, in \u001b[0;36mOpenerDirector._open\u001b[0;34m(self, req, data)\u001b[0m\n\u001b[1;32m    533\u001b[0m     \u001b[39mreturn\u001b[39;00m result\n\u001b[1;32m    535\u001b[0m protocol \u001b[39m=\u001b[39m req\u001b[39m.\u001b[39mtype\n\u001b[0;32m--> 536\u001b[0m result \u001b[39m=\u001b[39m \u001b[39mself\u001b[39;49m\u001b[39m.\u001b[39;49m_call_chain(\u001b[39mself\u001b[39;49m\u001b[39m.\u001b[39;49mhandle_open, protocol, protocol \u001b[39m+\u001b[39;49m\n\u001b[1;32m    537\u001b[0m                           \u001b[39m'\u001b[39;49m\u001b[39m_open\u001b[39;49m\u001b[39m'\u001b[39;49m, req)\n\u001b[1;32m    538\u001b[0m \u001b[39mif\u001b[39;00m result:\n\u001b[1;32m    539\u001b[0m     \u001b[39mreturn\u001b[39;00m result\n",
      "File \u001b[0;32m/Library/Frameworks/Python.framework/Versions/3.10/lib/python3.10/urllib/request.py:496\u001b[0m, in \u001b[0;36mOpenerDirector._call_chain\u001b[0;34m(self, chain, kind, meth_name, *args)\u001b[0m\n\u001b[1;32m    494\u001b[0m \u001b[39mfor\u001b[39;00m handler \u001b[39min\u001b[39;00m handlers:\n\u001b[1;32m    495\u001b[0m     func \u001b[39m=\u001b[39m \u001b[39mgetattr\u001b[39m(handler, meth_name)\n\u001b[0;32m--> 496\u001b[0m     result \u001b[39m=\u001b[39m func(\u001b[39m*\u001b[39;49margs)\n\u001b[1;32m    497\u001b[0m     \u001b[39mif\u001b[39;00m result \u001b[39mis\u001b[39;00m \u001b[39mnot\u001b[39;00m \u001b[39mNone\u001b[39;00m:\n\u001b[1;32m    498\u001b[0m         \u001b[39mreturn\u001b[39;00m result\n",
      "File \u001b[0;32m/Library/Frameworks/Python.framework/Versions/3.10/lib/python3.10/urllib/request.py:1391\u001b[0m, in \u001b[0;36mHTTPSHandler.https_open\u001b[0;34m(self, req)\u001b[0m\n\u001b[1;32m   1390\u001b[0m \u001b[39mdef\u001b[39;00m \u001b[39mhttps_open\u001b[39m(\u001b[39mself\u001b[39m, req):\n\u001b[0;32m-> 1391\u001b[0m     \u001b[39mreturn\u001b[39;00m \u001b[39mself\u001b[39;49m\u001b[39m.\u001b[39;49mdo_open(http\u001b[39m.\u001b[39;49mclient\u001b[39m.\u001b[39;49mHTTPSConnection, req,\n\u001b[1;32m   1392\u001b[0m         context\u001b[39m=\u001b[39;49m\u001b[39mself\u001b[39;49m\u001b[39m.\u001b[39;49m_context, check_hostname\u001b[39m=\u001b[39;49m\u001b[39mself\u001b[39;49m\u001b[39m.\u001b[39;49m_check_hostname)\n",
      "File \u001b[0;32m/Library/Frameworks/Python.framework/Versions/3.10/lib/python3.10/urllib/request.py:1351\u001b[0m, in \u001b[0;36mAbstractHTTPHandler.do_open\u001b[0;34m(self, http_class, req, **http_conn_args)\u001b[0m\n\u001b[1;32m   1348\u001b[0m         h\u001b[39m.\u001b[39mrequest(req\u001b[39m.\u001b[39mget_method(), req\u001b[39m.\u001b[39mselector, req\u001b[39m.\u001b[39mdata, headers,\n\u001b[1;32m   1349\u001b[0m                   encode_chunked\u001b[39m=\u001b[39mreq\u001b[39m.\u001b[39mhas_header(\u001b[39m'\u001b[39m\u001b[39mTransfer-encoding\u001b[39m\u001b[39m'\u001b[39m))\n\u001b[1;32m   1350\u001b[0m     \u001b[39mexcept\u001b[39;00m \u001b[39mOSError\u001b[39;00m \u001b[39mas\u001b[39;00m err: \u001b[39m# timeout error\u001b[39;00m\n\u001b[0;32m-> 1351\u001b[0m         \u001b[39mraise\u001b[39;00m URLError(err)\n\u001b[1;32m   1352\u001b[0m     r \u001b[39m=\u001b[39m h\u001b[39m.\u001b[39mgetresponse()\n\u001b[1;32m   1353\u001b[0m \u001b[39mexcept\u001b[39;00m:\n",
      "\u001b[0;31mURLError\u001b[0m: <urlopen error [SSL: CERTIFICATE_VERIFY_FAILED] certificate verify failed: unable to get local issuer certificate (_ssl.c:997)>"
     ]
    }
   ],
   "source": [
    "iris = sm.datasets.get_rdataset(\"iris\", \"datasets\")\n",
    "datos = iris.data\n"
   ]
  },
  {
   "cell_type": "code",
   "execution_count": 5,
   "metadata": {
    "colab": {
     "base_uri": "https://localhost:8080/"
    },
    "executionInfo": {
     "elapsed": 303,
     "status": "ok",
     "timestamp": 1616514951976,
     "user": {
      "displayName": "Ana Luisa Masetto Herrera",
      "photoUrl": "https://lh3.googleusercontent.com/a-/AOh14GiHaML-9F5te0HrNsLkfqwvcxF6fws3azlUl6bp=s64",
      "userId": "07058712827475709960"
     },
     "user_tz": 360
    },
    "id": "c3YBuTLWTzcr",
    "outputId": "15b6a1b0-42e4-4d31-a187-d2e74b8ab363"
   },
   "outputs": [
    {
     "ename": "NameError",
     "evalue": "name 'iris' is not defined",
     "output_type": "error",
     "traceback": [
      "\u001b[0;31m---------------------------------------------------------------------------\u001b[0m",
      "\u001b[0;31mNameError\u001b[0m                                 Traceback (most recent call last)",
      "\u001b[1;32m/Users/paulodavila/Downloads/Paulo POO/MTY.TC1030.12.2111.43311.Paulo/programaspython/PCA_Y_FA_IRIS_NUTRE.ipynb Cell 7\u001b[0m in \u001b[0;36m<cell line: 1>\u001b[0;34m()\u001b[0m\n\u001b[0;32m----> <a href='vscode-notebook-cell:/Users/paulodavila/Downloads/Paulo%20POO/MTY.TC1030.12.2111.43311.Paulo/programaspython/PCA_Y_FA_IRIS_NUTRE.ipynb#W6sZmlsZQ%3D%3D?line=0'>1</a>\u001b[0m iris\n",
      "\u001b[0;31mNameError\u001b[0m: name 'iris' is not defined"
     ]
    }
   ],
   "source": [
    "iris"
   ]
  },
  {
   "cell_type": "code",
   "execution_count": 5,
   "metadata": {
    "colab": {
     "base_uri": "https://localhost:8080/",
     "height": 424
    },
    "executionInfo": {
     "elapsed": 309,
     "status": "ok",
     "timestamp": 1616514953922,
     "user": {
      "displayName": "Ana Luisa Masetto Herrera",
      "photoUrl": "https://lh3.googleusercontent.com/a-/AOh14GiHaML-9F5te0HrNsLkfqwvcxF6fws3azlUl6bp=s64",
      "userId": "07058712827475709960"
     },
     "user_tz": 360
    },
    "id": "cEY-K0ukT2U0",
    "outputId": "b19beaa1-6ddf-46fa-ec79-58846ac2ae03"
   },
   "outputs": [
    {
     "data": {
      "text/html": [
       "<div>\n",
       "<style scoped>\n",
       "    .dataframe tbody tr th:only-of-type {\n",
       "        vertical-align: middle;\n",
       "    }\n",
       "\n",
       "    .dataframe tbody tr th {\n",
       "        vertical-align: top;\n",
       "    }\n",
       "\n",
       "    .dataframe thead th {\n",
       "        text-align: right;\n",
       "    }\n",
       "</style>\n",
       "<table border=\"1\" class=\"dataframe\">\n",
       "  <thead>\n",
       "    <tr style=\"text-align: right;\">\n",
       "      <th></th>\n",
       "      <th>Sepal.Length</th>\n",
       "      <th>Sepal.Width</th>\n",
       "      <th>Petal.Length</th>\n",
       "      <th>Petal.Width</th>\n",
       "      <th>Species</th>\n",
       "    </tr>\n",
       "  </thead>\n",
       "  <tbody>\n",
       "    <tr>\n",
       "      <th>0</th>\n",
       "      <td>5.1</td>\n",
       "      <td>3.5</td>\n",
       "      <td>1.4</td>\n",
       "      <td>0.2</td>\n",
       "      <td>setosa</td>\n",
       "    </tr>\n",
       "    <tr>\n",
       "      <th>1</th>\n",
       "      <td>4.9</td>\n",
       "      <td>3.0</td>\n",
       "      <td>1.4</td>\n",
       "      <td>0.2</td>\n",
       "      <td>setosa</td>\n",
       "    </tr>\n",
       "    <tr>\n",
       "      <th>2</th>\n",
       "      <td>4.7</td>\n",
       "      <td>3.2</td>\n",
       "      <td>1.3</td>\n",
       "      <td>0.2</td>\n",
       "      <td>setosa</td>\n",
       "    </tr>\n",
       "    <tr>\n",
       "      <th>3</th>\n",
       "      <td>4.6</td>\n",
       "      <td>3.1</td>\n",
       "      <td>1.5</td>\n",
       "      <td>0.2</td>\n",
       "      <td>setosa</td>\n",
       "    </tr>\n",
       "    <tr>\n",
       "      <th>4</th>\n",
       "      <td>5.0</td>\n",
       "      <td>3.6</td>\n",
       "      <td>1.4</td>\n",
       "      <td>0.2</td>\n",
       "      <td>setosa</td>\n",
       "    </tr>\n",
       "    <tr>\n",
       "      <th>...</th>\n",
       "      <td>...</td>\n",
       "      <td>...</td>\n",
       "      <td>...</td>\n",
       "      <td>...</td>\n",
       "      <td>...</td>\n",
       "    </tr>\n",
       "    <tr>\n",
       "      <th>145</th>\n",
       "      <td>6.7</td>\n",
       "      <td>3.0</td>\n",
       "      <td>5.2</td>\n",
       "      <td>2.3</td>\n",
       "      <td>virginica</td>\n",
       "    </tr>\n",
       "    <tr>\n",
       "      <th>146</th>\n",
       "      <td>6.3</td>\n",
       "      <td>2.5</td>\n",
       "      <td>5.0</td>\n",
       "      <td>1.9</td>\n",
       "      <td>virginica</td>\n",
       "    </tr>\n",
       "    <tr>\n",
       "      <th>147</th>\n",
       "      <td>6.5</td>\n",
       "      <td>3.0</td>\n",
       "      <td>5.2</td>\n",
       "      <td>2.0</td>\n",
       "      <td>virginica</td>\n",
       "    </tr>\n",
       "    <tr>\n",
       "      <th>148</th>\n",
       "      <td>6.2</td>\n",
       "      <td>3.4</td>\n",
       "      <td>5.4</td>\n",
       "      <td>2.3</td>\n",
       "      <td>virginica</td>\n",
       "    </tr>\n",
       "    <tr>\n",
       "      <th>149</th>\n",
       "      <td>5.9</td>\n",
       "      <td>3.0</td>\n",
       "      <td>5.1</td>\n",
       "      <td>1.8</td>\n",
       "      <td>virginica</td>\n",
       "    </tr>\n",
       "  </tbody>\n",
       "</table>\n",
       "<p>150 rows × 5 columns</p>\n",
       "</div>"
      ],
      "text/plain": [
       "     Sepal.Length  Sepal.Width  Petal.Length  Petal.Width    Species\n",
       "0             5.1          3.5           1.4          0.2     setosa\n",
       "1             4.9          3.0           1.4          0.2     setosa\n",
       "2             4.7          3.2           1.3          0.2     setosa\n",
       "3             4.6          3.1           1.5          0.2     setosa\n",
       "4             5.0          3.6           1.4          0.2     setosa\n",
       "..            ...          ...           ...          ...        ...\n",
       "145           6.7          3.0           5.2          2.3  virginica\n",
       "146           6.3          2.5           5.0          1.9  virginica\n",
       "147           6.5          3.0           5.2          2.0  virginica\n",
       "148           6.2          3.4           5.4          2.3  virginica\n",
       "149           5.9          3.0           5.1          1.8  virginica\n",
       "\n",
       "[150 rows x 5 columns]"
      ]
     },
     "execution_count": 5,
     "metadata": {},
     "output_type": "execute_result"
    }
   ],
   "source": [
    "datos"
   ]
  },
  {
   "cell_type": "code",
   "execution_count": 6,
   "metadata": {
    "colab": {
     "base_uri": "https://localhost:8080/"
    },
    "executionInfo": {
     "elapsed": 287,
     "status": "ok",
     "timestamp": 1616514957107,
     "user": {
      "displayName": "Ana Luisa Masetto Herrera",
      "photoUrl": "https://lh3.googleusercontent.com/a-/AOh14GiHaML-9F5te0HrNsLkfqwvcxF6fws3azlUl6bp=s64",
      "userId": "07058712827475709960"
     },
     "user_tz": 360
    },
    "id": "m1xRnl_nT5f1",
    "outputId": "4ef17aa8-6d7a-47aa-c381-71b75a9b01cc"
   },
   "outputs": [
    {
     "name": "stdout",
     "output_type": "stream",
     "text": [
      "<class 'pandas.core.frame.DataFrame'>\n",
      "RangeIndex: 150 entries, 0 to 149\n",
      "Data columns (total 5 columns):\n",
      " #   Column        Non-Null Count  Dtype  \n",
      "---  ------        --------------  -----  \n",
      " 0   Sepal.Length  150 non-null    float64\n",
      " 1   Sepal.Width   150 non-null    float64\n",
      " 2   Petal.Length  150 non-null    float64\n",
      " 3   Petal.Width   150 non-null    float64\n",
      " 4   Species       150 non-null    object \n",
      "dtypes: float64(4), object(1)\n",
      "memory usage: 6.0+ KB\n"
     ]
    }
   ],
   "source": [
    "datos.info()"
   ]
  },
  {
   "cell_type": "code",
   "execution_count": 7,
   "metadata": {
    "colab": {
     "base_uri": "https://localhost:8080/"
    },
    "executionInfo": {
     "elapsed": 274,
     "status": "ok",
     "timestamp": 1616514958987,
     "user": {
      "displayName": "Ana Luisa Masetto Herrera",
      "photoUrl": "https://lh3.googleusercontent.com/a-/AOh14GiHaML-9F5te0HrNsLkfqwvcxF6fws3azlUl6bp=s64",
      "userId": "07058712827475709960"
     },
     "user_tz": 360
    },
    "id": "0N5mmlxRUCNm",
    "outputId": "d9054f4b-01ce-4e0c-ae6b-53a2e60ba278"
   },
   "outputs": [
    {
     "name": "stdout",
     "output_type": "stream",
     "text": [
      "Media de cada variable\n"
     ]
    },
    {
     "data": {
      "text/plain": [
       "Sepal.Length    5.843333\n",
       "Sepal.Width     3.057333\n",
       "Petal.Length    3.758000\n",
       "Petal.Width     1.199333\n",
       "dtype: float64"
      ]
     },
     "execution_count": 7,
     "metadata": {},
     "output_type": "execute_result"
    }
   ],
   "source": [
    "print('Media de cada variable')\n",
    "datos.mean()"
   ]
  },
  {
   "cell_type": "code",
   "execution_count": 8,
   "metadata": {
    "colab": {
     "base_uri": "https://localhost:8080/"
    },
    "executionInfo": {
     "elapsed": 275,
     "status": "ok",
     "timestamp": 1616514960922,
     "user": {
      "displayName": "Ana Luisa Masetto Herrera",
      "photoUrl": "https://lh3.googleusercontent.com/a-/AOh14GiHaML-9F5te0HrNsLkfqwvcxF6fws3azlUl6bp=s64",
      "userId": "07058712827475709960"
     },
     "user_tz": 360
    },
    "id": "RFKcoILDms2Q",
    "outputId": "8d5d876a-6380-4142-dce7-5d763405477c"
   },
   "outputs": [
    {
     "name": "stdout",
     "output_type": "stream",
     "text": [
      "Desviación estándar de cada variable\n"
     ]
    },
    {
     "data": {
      "text/plain": [
       "Sepal.Length    0.828066\n",
       "Sepal.Width     0.435866\n",
       "Petal.Length    1.765298\n",
       "Petal.Width     0.762238\n",
       "dtype: float64"
      ]
     },
     "execution_count": 8,
     "metadata": {},
     "output_type": "execute_result"
    }
   ],
   "source": [
    "print('Desviación estándar de cada variable')\n",
    "datos.std()"
   ]
  },
  {
   "cell_type": "code",
   "execution_count": 9,
   "metadata": {
    "colab": {
     "base_uri": "https://localhost:8080/"
    },
    "executionInfo": {
     "elapsed": 288,
     "status": "ok",
     "timestamp": 1616514962614,
     "user": {
      "displayName": "Ana Luisa Masetto Herrera",
      "photoUrl": "https://lh3.googleusercontent.com/a-/AOh14GiHaML-9F5te0HrNsLkfqwvcxF6fws3azlUl6bp=s64",
      "userId": "07058712827475709960"
     },
     "user_tz": 360
    },
    "id": "fQbQk3XgUNLy",
    "outputId": "897d5f33-1ab1-4758-899b-c272b5e7d317"
   },
   "outputs": [
    {
     "data": {
      "text/plain": [
       "Sepal.Length    0.685694\n",
       "Sepal.Width     0.189979\n",
       "Petal.Length    3.116278\n",
       "Petal.Width     0.581006\n",
       "dtype: float64"
      ]
     },
     "execution_count": 9,
     "metadata": {},
     "output_type": "execute_result"
    }
   ],
   "source": [
    "datos.var()"
   ]
  },
  {
   "cell_type": "code",
   "execution_count": 10,
   "metadata": {
    "id": "pLpxSNDffbfk"
   },
   "outputs": [],
   "source": [
    "#para iris\n",
    "features = ['Sepal.Length', 'Sepal.Width', 'Petal.Length', 'Petal.Width']\n",
    "# Separating out the features\n",
    "x = datos.loc[:, features]\n",
    "# Separating out the target\n",
    "y = datos.loc[:,['Species']]"
   ]
  },
  {
   "cell_type": "code",
   "execution_count": 11,
   "metadata": {
    "colab": {
     "base_uri": "https://localhost:8080/",
     "height": 206
    },
    "executionInfo": {
     "elapsed": 423,
     "status": "ok",
     "timestamp": 1616514977885,
     "user": {
      "displayName": "Ana Luisa Masetto Herrera",
      "photoUrl": "https://lh3.googleusercontent.com/a-/AOh14GiHaML-9F5te0HrNsLkfqwvcxF6fws3azlUl6bp=s64",
      "userId": "07058712827475709960"
     },
     "user_tz": 360
    },
    "id": "_y_g84TjnI-8",
    "outputId": "27d1118d-996a-43fc-b0dd-a10f971b2898"
   },
   "outputs": [
    {
     "data": {
      "text/html": [
       "<div>\n",
       "<style scoped>\n",
       "    .dataframe tbody tr th:only-of-type {\n",
       "        vertical-align: middle;\n",
       "    }\n",
       "\n",
       "    .dataframe tbody tr th {\n",
       "        vertical-align: top;\n",
       "    }\n",
       "\n",
       "    .dataframe thead th {\n",
       "        text-align: right;\n",
       "    }\n",
       "</style>\n",
       "<table border=\"1\" class=\"dataframe\">\n",
       "  <thead>\n",
       "    <tr style=\"text-align: right;\">\n",
       "      <th></th>\n",
       "      <th>Sepal.Length</th>\n",
       "      <th>Sepal.Width</th>\n",
       "      <th>Petal.Length</th>\n",
       "      <th>Petal.Width</th>\n",
       "    </tr>\n",
       "  </thead>\n",
       "  <tbody>\n",
       "    <tr>\n",
       "      <th>0</th>\n",
       "      <td>5.1</td>\n",
       "      <td>3.5</td>\n",
       "      <td>1.4</td>\n",
       "      <td>0.2</td>\n",
       "    </tr>\n",
       "    <tr>\n",
       "      <th>1</th>\n",
       "      <td>4.9</td>\n",
       "      <td>3.0</td>\n",
       "      <td>1.4</td>\n",
       "      <td>0.2</td>\n",
       "    </tr>\n",
       "    <tr>\n",
       "      <th>2</th>\n",
       "      <td>4.7</td>\n",
       "      <td>3.2</td>\n",
       "      <td>1.3</td>\n",
       "      <td>0.2</td>\n",
       "    </tr>\n",
       "    <tr>\n",
       "      <th>3</th>\n",
       "      <td>4.6</td>\n",
       "      <td>3.1</td>\n",
       "      <td>1.5</td>\n",
       "      <td>0.2</td>\n",
       "    </tr>\n",
       "    <tr>\n",
       "      <th>4</th>\n",
       "      <td>5.0</td>\n",
       "      <td>3.6</td>\n",
       "      <td>1.4</td>\n",
       "      <td>0.2</td>\n",
       "    </tr>\n",
       "  </tbody>\n",
       "</table>\n",
       "</div>"
      ],
      "text/plain": [
       "   Sepal.Length  Sepal.Width  Petal.Length  Petal.Width\n",
       "0           5.1          3.5           1.4          0.2\n",
       "1           4.9          3.0           1.4          0.2\n",
       "2           4.7          3.2           1.3          0.2\n",
       "3           4.6          3.1           1.5          0.2\n",
       "4           5.0          3.6           1.4          0.2"
      ]
     },
     "execution_count": 11,
     "metadata": {},
     "output_type": "execute_result"
    }
   ],
   "source": [
    "x.head()"
   ]
  },
  {
   "cell_type": "code",
   "execution_count": 12,
   "metadata": {
    "colab": {
     "base_uri": "https://localhost:8080/",
     "height": 206
    },
    "executionInfo": {
     "elapsed": 289,
     "status": "ok",
     "timestamp": 1616514979767,
     "user": {
      "displayName": "Ana Luisa Masetto Herrera",
      "photoUrl": "https://lh3.googleusercontent.com/a-/AOh14GiHaML-9F5te0HrNsLkfqwvcxF6fws3azlUl6bp=s64",
      "userId": "07058712827475709960"
     },
     "user_tz": 360
    },
    "id": "PEtCEBf2nLuO",
    "outputId": "8211d5c5-f349-4a0e-a8c0-cce479233395"
   },
   "outputs": [
    {
     "data": {
      "text/html": [
       "<div>\n",
       "<style scoped>\n",
       "    .dataframe tbody tr th:only-of-type {\n",
       "        vertical-align: middle;\n",
       "    }\n",
       "\n",
       "    .dataframe tbody tr th {\n",
       "        vertical-align: top;\n",
       "    }\n",
       "\n",
       "    .dataframe thead th {\n",
       "        text-align: right;\n",
       "    }\n",
       "</style>\n",
       "<table border=\"1\" class=\"dataframe\">\n",
       "  <thead>\n",
       "    <tr style=\"text-align: right;\">\n",
       "      <th></th>\n",
       "      <th>Species</th>\n",
       "    </tr>\n",
       "  </thead>\n",
       "  <tbody>\n",
       "    <tr>\n",
       "      <th>0</th>\n",
       "      <td>setosa</td>\n",
       "    </tr>\n",
       "    <tr>\n",
       "      <th>1</th>\n",
       "      <td>setosa</td>\n",
       "    </tr>\n",
       "    <tr>\n",
       "      <th>2</th>\n",
       "      <td>setosa</td>\n",
       "    </tr>\n",
       "    <tr>\n",
       "      <th>3</th>\n",
       "      <td>setosa</td>\n",
       "    </tr>\n",
       "    <tr>\n",
       "      <th>4</th>\n",
       "      <td>setosa</td>\n",
       "    </tr>\n",
       "  </tbody>\n",
       "</table>\n",
       "</div>"
      ],
      "text/plain": [
       "  Species\n",
       "0  setosa\n",
       "1  setosa\n",
       "2  setosa\n",
       "3  setosa\n",
       "4  setosa"
      ]
     },
     "execution_count": 12,
     "metadata": {},
     "output_type": "execute_result"
    }
   ],
   "source": [
    "y.head()"
   ]
  },
  {
   "cell_type": "code",
   "execution_count": 13,
   "metadata": {
    "colab": {
     "base_uri": "https://localhost:8080/"
    },
    "executionInfo": {
     "elapsed": 390,
     "status": "ok",
     "timestamp": 1616514984118,
     "user": {
      "displayName": "Ana Luisa Masetto Herrera",
      "photoUrl": "https://lh3.googleusercontent.com/a-/AOh14GiHaML-9F5te0HrNsLkfqwvcxF6fws3azlUl6bp=s64",
      "userId": "07058712827475709960"
     },
     "user_tz": 360
    },
    "id": "izB9igFqUklk",
    "outputId": "d08db8c5-b0b2-40a5-8ccd-2c0d1db15b63"
   },
   "outputs": [
    {
     "data": {
      "text/plain": [
       "array([[-9.00681170e-01,  1.01900435e+00, -1.34022653e+00,\n",
       "        -1.31544430e+00],\n",
       "       [-1.14301691e+00, -1.31979479e-01, -1.34022653e+00,\n",
       "        -1.31544430e+00],\n",
       "       [-1.38535265e+00,  3.28414053e-01, -1.39706395e+00,\n",
       "        -1.31544430e+00],\n",
       "       [-1.50652052e+00,  9.82172869e-02, -1.28338910e+00,\n",
       "        -1.31544430e+00],\n",
       "       [-1.02184904e+00,  1.24920112e+00, -1.34022653e+00,\n",
       "        -1.31544430e+00],\n",
       "       [-5.37177559e-01,  1.93979142e+00, -1.16971425e+00,\n",
       "        -1.05217993e+00],\n",
       "       [-1.50652052e+00,  7.88807586e-01, -1.34022653e+00,\n",
       "        -1.18381211e+00],\n",
       "       [-1.02184904e+00,  7.88807586e-01, -1.28338910e+00,\n",
       "        -1.31544430e+00],\n",
       "       [-1.74885626e+00, -3.62176246e-01, -1.34022653e+00,\n",
       "        -1.31544430e+00],\n",
       "       [-1.14301691e+00,  9.82172869e-02, -1.28338910e+00,\n",
       "        -1.44707648e+00],\n",
       "       [-5.37177559e-01,  1.47939788e+00, -1.28338910e+00,\n",
       "        -1.31544430e+00],\n",
       "       [-1.26418478e+00,  7.88807586e-01, -1.22655167e+00,\n",
       "        -1.31544430e+00],\n",
       "       [-1.26418478e+00, -1.31979479e-01, -1.34022653e+00,\n",
       "        -1.44707648e+00],\n",
       "       [-1.87002413e+00, -1.31979479e-01, -1.51073881e+00,\n",
       "        -1.44707648e+00],\n",
       "       [-5.25060772e-02,  2.16998818e+00, -1.45390138e+00,\n",
       "        -1.31544430e+00],\n",
       "       [-1.73673948e-01,  3.09077525e+00, -1.28338910e+00,\n",
       "        -1.05217993e+00],\n",
       "       [-5.37177559e-01,  1.93979142e+00, -1.39706395e+00,\n",
       "        -1.05217993e+00],\n",
       "       [-9.00681170e-01,  1.01900435e+00, -1.34022653e+00,\n",
       "        -1.18381211e+00],\n",
       "       [-1.73673948e-01,  1.70959465e+00, -1.16971425e+00,\n",
       "        -1.18381211e+00],\n",
       "       [-9.00681170e-01,  1.70959465e+00, -1.28338910e+00,\n",
       "        -1.18381211e+00],\n",
       "       [-5.37177559e-01,  7.88807586e-01, -1.16971425e+00,\n",
       "        -1.31544430e+00],\n",
       "       [-9.00681170e-01,  1.47939788e+00, -1.28338910e+00,\n",
       "        -1.05217993e+00],\n",
       "       [-1.50652052e+00,  1.24920112e+00, -1.56757623e+00,\n",
       "        -1.31544430e+00],\n",
       "       [-9.00681170e-01,  5.58610819e-01, -1.16971425e+00,\n",
       "        -9.20547742e-01],\n",
       "       [-1.26418478e+00,  7.88807586e-01, -1.05603939e+00,\n",
       "        -1.31544430e+00],\n",
       "       [-1.02184904e+00, -1.31979479e-01, -1.22655167e+00,\n",
       "        -1.31544430e+00],\n",
       "       [-1.02184904e+00,  7.88807586e-01, -1.22655167e+00,\n",
       "        -1.05217993e+00],\n",
       "       [-7.79513300e-01,  1.01900435e+00, -1.28338910e+00,\n",
       "        -1.31544430e+00],\n",
       "       [-7.79513300e-01,  7.88807586e-01, -1.34022653e+00,\n",
       "        -1.31544430e+00],\n",
       "       [-1.38535265e+00,  3.28414053e-01, -1.22655167e+00,\n",
       "        -1.31544430e+00],\n",
       "       [-1.26418478e+00,  9.82172869e-02, -1.22655167e+00,\n",
       "        -1.31544430e+00],\n",
       "       [-5.37177559e-01,  7.88807586e-01, -1.28338910e+00,\n",
       "        -1.05217993e+00],\n",
       "       [-7.79513300e-01,  2.40018495e+00, -1.28338910e+00,\n",
       "        -1.44707648e+00],\n",
       "       [-4.16009689e-01,  2.63038172e+00, -1.34022653e+00,\n",
       "        -1.31544430e+00],\n",
       "       [-1.14301691e+00,  9.82172869e-02, -1.28338910e+00,\n",
       "        -1.31544430e+00],\n",
       "       [-1.02184904e+00,  3.28414053e-01, -1.45390138e+00,\n",
       "        -1.31544430e+00],\n",
       "       [-4.16009689e-01,  1.01900435e+00, -1.39706395e+00,\n",
       "        -1.31544430e+00],\n",
       "       [-1.14301691e+00,  1.24920112e+00, -1.34022653e+00,\n",
       "        -1.44707648e+00],\n",
       "       [-1.74885626e+00, -1.31979479e-01, -1.39706395e+00,\n",
       "        -1.31544430e+00],\n",
       "       [-9.00681170e-01,  7.88807586e-01, -1.28338910e+00,\n",
       "        -1.31544430e+00],\n",
       "       [-1.02184904e+00,  1.01900435e+00, -1.39706395e+00,\n",
       "        -1.18381211e+00],\n",
       "       [-1.62768839e+00, -1.74335684e+00, -1.39706395e+00,\n",
       "        -1.18381211e+00],\n",
       "       [-1.74885626e+00,  3.28414053e-01, -1.39706395e+00,\n",
       "        -1.31544430e+00],\n",
       "       [-1.02184904e+00,  1.01900435e+00, -1.22655167e+00,\n",
       "        -7.88915558e-01],\n",
       "       [-9.00681170e-01,  1.70959465e+00, -1.05603939e+00,\n",
       "        -1.05217993e+00],\n",
       "       [-1.26418478e+00, -1.31979479e-01, -1.34022653e+00,\n",
       "        -1.18381211e+00],\n",
       "       [-9.00681170e-01,  1.70959465e+00, -1.22655167e+00,\n",
       "        -1.31544430e+00],\n",
       "       [-1.50652052e+00,  3.28414053e-01, -1.34022653e+00,\n",
       "        -1.31544430e+00],\n",
       "       [-6.58345429e-01,  1.47939788e+00, -1.28338910e+00,\n",
       "        -1.31544430e+00],\n",
       "       [-1.02184904e+00,  5.58610819e-01, -1.34022653e+00,\n",
       "        -1.31544430e+00],\n",
       "       [ 1.40150837e+00,  3.28414053e-01,  5.35408562e-01,\n",
       "         2.64141916e-01],\n",
       "       [ 6.74501145e-01,  3.28414053e-01,  4.21733708e-01,\n",
       "         3.95774101e-01],\n",
       "       [ 1.28034050e+00,  9.82172869e-02,  6.49083415e-01,\n",
       "         3.95774101e-01],\n",
       "       [-4.16009689e-01, -1.74335684e+00,  1.37546573e-01,\n",
       "         1.32509732e-01],\n",
       "       [ 7.95669016e-01, -5.92373012e-01,  4.78571135e-01,\n",
       "         3.95774101e-01],\n",
       "       [-1.73673948e-01, -5.92373012e-01,  4.21733708e-01,\n",
       "         1.32509732e-01],\n",
       "       [ 5.53333275e-01,  5.58610819e-01,  5.35408562e-01,\n",
       "         5.27406285e-01],\n",
       "       [-1.14301691e+00, -1.51316008e+00, -2.60315415e-01,\n",
       "        -2.62386821e-01],\n",
       "       [ 9.16836886e-01, -3.62176246e-01,  4.78571135e-01,\n",
       "         1.32509732e-01],\n",
       "       [-7.79513300e-01, -8.22569778e-01,  8.07091462e-02,\n",
       "         2.64141916e-01],\n",
       "       [-1.02184904e+00, -2.43394714e+00, -1.46640561e-01,\n",
       "        -2.62386821e-01],\n",
       "       [ 6.86617933e-02, -1.31979479e-01,  2.51221427e-01,\n",
       "         3.95774101e-01],\n",
       "       [ 1.89829664e-01, -1.97355361e+00,  1.37546573e-01,\n",
       "        -2.62386821e-01],\n",
       "       [ 3.10997534e-01, -3.62176246e-01,  5.35408562e-01,\n",
       "         2.64141916e-01],\n",
       "       [-2.94841818e-01, -3.62176246e-01, -8.98031345e-02,\n",
       "         1.32509732e-01],\n",
       "       [ 1.03800476e+00,  9.82172869e-02,  3.64896281e-01,\n",
       "         2.64141916e-01],\n",
       "       [-2.94841818e-01, -1.31979479e-01,  4.21733708e-01,\n",
       "         3.95774101e-01],\n",
       "       [-5.25060772e-02, -8.22569778e-01,  1.94384000e-01,\n",
       "        -2.62386821e-01],\n",
       "       [ 4.32165405e-01, -1.97355361e+00,  4.21733708e-01,\n",
       "         3.95774101e-01],\n",
       "       [-2.94841818e-01, -1.28296331e+00,  8.07091462e-02,\n",
       "        -1.30754636e-01],\n",
       "       [ 6.86617933e-02,  3.28414053e-01,  5.92245988e-01,\n",
       "         7.90670654e-01],\n",
       "       [ 3.10997534e-01, -5.92373012e-01,  1.37546573e-01,\n",
       "         1.32509732e-01],\n",
       "       [ 5.53333275e-01, -1.28296331e+00,  6.49083415e-01,\n",
       "         3.95774101e-01],\n",
       "       [ 3.10997534e-01, -5.92373012e-01,  5.35408562e-01,\n",
       "         8.77547895e-04],\n",
       "       [ 6.74501145e-01, -3.62176246e-01,  3.08058854e-01,\n",
       "         1.32509732e-01],\n",
       "       [ 9.16836886e-01, -1.31979479e-01,  3.64896281e-01,\n",
       "         2.64141916e-01],\n",
       "       [ 1.15917263e+00, -5.92373012e-01,  5.92245988e-01,\n",
       "         2.64141916e-01],\n",
       "       [ 1.03800476e+00, -1.31979479e-01,  7.05920842e-01,\n",
       "         6.59038469e-01],\n",
       "       [ 1.89829664e-01, -3.62176246e-01,  4.21733708e-01,\n",
       "         3.95774101e-01],\n",
       "       [-1.73673948e-01, -1.05276654e+00, -1.46640561e-01,\n",
       "        -2.62386821e-01],\n",
       "       [-4.16009689e-01, -1.51316008e+00,  2.38717193e-02,\n",
       "        -1.30754636e-01],\n",
       "       [-4.16009689e-01, -1.51316008e+00, -3.29657076e-02,\n",
       "        -2.62386821e-01],\n",
       "       [-5.25060772e-02, -8.22569778e-01,  8.07091462e-02,\n",
       "         8.77547895e-04],\n",
       "       [ 1.89829664e-01, -8.22569778e-01,  7.62758269e-01,\n",
       "         5.27406285e-01],\n",
       "       [-5.37177559e-01, -1.31979479e-01,  4.21733708e-01,\n",
       "         3.95774101e-01],\n",
       "       [ 1.89829664e-01,  7.88807586e-01,  4.21733708e-01,\n",
       "         5.27406285e-01],\n",
       "       [ 1.03800476e+00,  9.82172869e-02,  5.35408562e-01,\n",
       "         3.95774101e-01],\n",
       "       [ 5.53333275e-01, -1.74335684e+00,  3.64896281e-01,\n",
       "         1.32509732e-01],\n",
       "       [-2.94841818e-01, -1.31979479e-01,  1.94384000e-01,\n",
       "         1.32509732e-01],\n",
       "       [-4.16009689e-01, -1.28296331e+00,  1.37546573e-01,\n",
       "         1.32509732e-01],\n",
       "       [-4.16009689e-01, -1.05276654e+00,  3.64896281e-01,\n",
       "         8.77547895e-04],\n",
       "       [ 3.10997534e-01, -1.31979479e-01,  4.78571135e-01,\n",
       "         2.64141916e-01],\n",
       "       [-5.25060772e-02, -1.05276654e+00,  1.37546573e-01,\n",
       "         8.77547895e-04],\n",
       "       [-1.02184904e+00, -1.74335684e+00, -2.60315415e-01,\n",
       "        -2.62386821e-01],\n",
       "       [-2.94841818e-01, -8.22569778e-01,  2.51221427e-01,\n",
       "         1.32509732e-01],\n",
       "       [-1.73673948e-01, -1.31979479e-01,  2.51221427e-01,\n",
       "         8.77547895e-04],\n",
       "       [-1.73673948e-01, -3.62176246e-01,  2.51221427e-01,\n",
       "         1.32509732e-01],\n",
       "       [ 4.32165405e-01, -3.62176246e-01,  3.08058854e-01,\n",
       "         1.32509732e-01],\n",
       "       [-9.00681170e-01, -1.28296331e+00, -4.30827696e-01,\n",
       "        -1.30754636e-01],\n",
       "       [-1.73673948e-01, -5.92373012e-01,  1.94384000e-01,\n",
       "         1.32509732e-01],\n",
       "       [ 5.53333275e-01,  5.58610819e-01,  1.27429511e+00,\n",
       "         1.71209594e+00],\n",
       "       [-5.25060772e-02, -8.22569778e-01,  7.62758269e-01,\n",
       "         9.22302838e-01],\n",
       "       [ 1.52267624e+00, -1.31979479e-01,  1.21745768e+00,\n",
       "         1.18556721e+00],\n",
       "       [ 5.53333275e-01, -3.62176246e-01,  1.04694540e+00,\n",
       "         7.90670654e-01],\n",
       "       [ 7.95669016e-01, -1.31979479e-01,  1.16062026e+00,\n",
       "         1.31719939e+00],\n",
       "       [ 2.12851559e+00, -1.31979479e-01,  1.61531967e+00,\n",
       "         1.18556721e+00],\n",
       "       [-1.14301691e+00, -1.28296331e+00,  4.21733708e-01,\n",
       "         6.59038469e-01],\n",
       "       [ 1.76501198e+00, -3.62176246e-01,  1.44480739e+00,\n",
       "         7.90670654e-01],\n",
       "       [ 1.03800476e+00, -1.28296331e+00,  1.16062026e+00,\n",
       "         7.90670654e-01],\n",
       "       [ 1.64384411e+00,  1.24920112e+00,  1.33113254e+00,\n",
       "         1.71209594e+00],\n",
       "       [ 7.95669016e-01,  3.28414053e-01,  7.62758269e-01,\n",
       "         1.05393502e+00],\n",
       "       [ 6.74501145e-01, -8.22569778e-01,  8.76433123e-01,\n",
       "         9.22302838e-01],\n",
       "       [ 1.15917263e+00, -1.31979479e-01,  9.90107977e-01,\n",
       "         1.18556721e+00],\n",
       "       [-1.73673948e-01, -1.28296331e+00,  7.05920842e-01,\n",
       "         1.05393502e+00],\n",
       "       [-5.25060772e-02, -5.92373012e-01,  7.62758269e-01,\n",
       "         1.58046376e+00],\n",
       "       [ 6.74501145e-01,  3.28414053e-01,  8.76433123e-01,\n",
       "         1.44883158e+00],\n",
       "       [ 7.95669016e-01, -1.31979479e-01,  9.90107977e-01,\n",
       "         7.90670654e-01],\n",
       "       [ 2.24968346e+00,  1.70959465e+00,  1.67215710e+00,\n",
       "         1.31719939e+00],\n",
       "       [ 2.24968346e+00, -1.05276654e+00,  1.78583195e+00,\n",
       "         1.44883158e+00],\n",
       "       [ 1.89829664e-01, -1.97355361e+00,  7.05920842e-01,\n",
       "         3.95774101e-01],\n",
       "       [ 1.28034050e+00,  3.28414053e-01,  1.10378283e+00,\n",
       "         1.44883158e+00],\n",
       "       [-2.94841818e-01, -5.92373012e-01,  6.49083415e-01,\n",
       "         1.05393502e+00],\n",
       "       [ 2.24968346e+00, -5.92373012e-01,  1.67215710e+00,\n",
       "         1.05393502e+00],\n",
       "       [ 5.53333275e-01, -8.22569778e-01,  6.49083415e-01,\n",
       "         7.90670654e-01],\n",
       "       [ 1.03800476e+00,  5.58610819e-01,  1.10378283e+00,\n",
       "         1.18556721e+00],\n",
       "       [ 1.64384411e+00,  3.28414053e-01,  1.27429511e+00,\n",
       "         7.90670654e-01],\n",
       "       [ 4.32165405e-01, -5.92373012e-01,  5.92245988e-01,\n",
       "         7.90670654e-01],\n",
       "       [ 3.10997534e-01, -1.31979479e-01,  6.49083415e-01,\n",
       "         7.90670654e-01],\n",
       "       [ 6.74501145e-01, -5.92373012e-01,  1.04694540e+00,\n",
       "         1.18556721e+00],\n",
       "       [ 1.64384411e+00, -1.31979479e-01,  1.16062026e+00,\n",
       "         5.27406285e-01],\n",
       "       [ 1.88617985e+00, -5.92373012e-01,  1.33113254e+00,\n",
       "         9.22302838e-01],\n",
       "       [ 2.49201920e+00,  1.70959465e+00,  1.50164482e+00,\n",
       "         1.05393502e+00],\n",
       "       [ 6.74501145e-01, -5.92373012e-01,  1.04694540e+00,\n",
       "         1.31719939e+00],\n",
       "       [ 5.53333275e-01, -5.92373012e-01,  7.62758269e-01,\n",
       "         3.95774101e-01],\n",
       "       [ 3.10997534e-01, -1.05276654e+00,  1.04694540e+00,\n",
       "         2.64141916e-01],\n",
       "       [ 2.24968346e+00, -1.31979479e-01,  1.33113254e+00,\n",
       "         1.44883158e+00],\n",
       "       [ 5.53333275e-01,  7.88807586e-01,  1.04694540e+00,\n",
       "         1.58046376e+00],\n",
       "       [ 6.74501145e-01,  9.82172869e-02,  9.90107977e-01,\n",
       "         7.90670654e-01],\n",
       "       [ 1.89829664e-01, -1.31979479e-01,  5.92245988e-01,\n",
       "         7.90670654e-01],\n",
       "       [ 1.28034050e+00,  9.82172869e-02,  9.33270550e-01,\n",
       "         1.18556721e+00],\n",
       "       [ 1.03800476e+00,  9.82172869e-02,  1.04694540e+00,\n",
       "         1.58046376e+00],\n",
       "       [ 1.28034050e+00,  9.82172869e-02,  7.62758269e-01,\n",
       "         1.44883158e+00],\n",
       "       [-5.25060772e-02, -8.22569778e-01,  7.62758269e-01,\n",
       "         9.22302838e-01],\n",
       "       [ 1.15917263e+00,  3.28414053e-01,  1.21745768e+00,\n",
       "         1.44883158e+00],\n",
       "       [ 1.03800476e+00,  5.58610819e-01,  1.10378283e+00,\n",
       "         1.71209594e+00],\n",
       "       [ 1.03800476e+00, -1.31979479e-01,  8.19595696e-01,\n",
       "         1.44883158e+00],\n",
       "       [ 5.53333275e-01, -1.28296331e+00,  7.05920842e-01,\n",
       "         9.22302838e-01],\n",
       "       [ 7.95669016e-01, -1.31979479e-01,  8.19595696e-01,\n",
       "         1.05393502e+00],\n",
       "       [ 4.32165405e-01,  7.88807586e-01,  9.33270550e-01,\n",
       "         1.44883158e+00],\n",
       "       [ 6.86617933e-02, -1.31979479e-01,  7.62758269e-01,\n",
       "         7.90670654e-01]])"
      ]
     },
     "execution_count": 13,
     "metadata": {},
     "output_type": "execute_result"
    }
   ],
   "source": [
    "#datos_escalados = escalar.fit(datos)\n",
    "#datos_escalados = escalar.transform(datos)\n",
    "escalar = StandardScaler() #\"z = (x - media) / std\"\n",
    "datos_escalados = escalar.fit(x) #Compute the mean and std to be used for later scaling.\n",
    "datos_escalados = escalar.transform(x) #Fit to data, then transform it.\n",
    "datos_escalados "
   ]
  },
  {
   "cell_type": "code",
   "execution_count": 14,
   "metadata": {},
   "outputs": [
    {
     "data": {
      "text/plain": [
       "Column_A    -2.775558e-16\n",
       "Column_B    -9.695948e-16\n",
       "Column_C    -8.652338e-16\n",
       "Columna_D   -4.662937e-16\n",
       "dtype: float64"
      ]
     },
     "execution_count": 14,
     "metadata": {},
     "output_type": "execute_result"
    }
   ],
   "source": [
    "revisar = pd.DataFrame(datos_escalados, columns = ['Column_A','Column_B','Column_C', 'Columna_D'])\n",
    "revisar.std() #desv 1\n",
    "revisar.mean() #media 0"
   ]
  },
  {
   "cell_type": "code",
   "execution_count": 15,
   "metadata": {
    "id": "hfI5YP3BVP05"
   },
   "outputs": [],
   "source": [
    "pca_model = PCA(n_components = 4)"
   ]
  },
  {
   "cell_type": "code",
   "execution_count": 16,
   "metadata": {
    "colab": {
     "base_uri": "https://localhost:8080/"
    },
    "executionInfo": {
     "elapsed": 500,
     "status": "ok",
     "timestamp": 1616514991999,
     "user": {
      "displayName": "Ana Luisa Masetto Herrera",
      "photoUrl": "https://lh3.googleusercontent.com/a-/AOh14GiHaML-9F5te0HrNsLkfqwvcxF6fws3azlUl6bp=s64",
      "userId": "07058712827475709960"
     },
     "user_tz": 360
    },
    "id": "O3MkiDffVV0G",
    "outputId": "c569b40b-3386-40c8-a7b2-505953733e9b"
   },
   "outputs": [
    {
     "data": {
      "text/html": [
       "<style>#sk-container-id-1 {color: black;background-color: white;}#sk-container-id-1 pre{padding: 0;}#sk-container-id-1 div.sk-toggleable {background-color: white;}#sk-container-id-1 label.sk-toggleable__label {cursor: pointer;display: block;width: 100%;margin-bottom: 0;padding: 0.3em;box-sizing: border-box;text-align: center;}#sk-container-id-1 label.sk-toggleable__label-arrow:before {content: \"▸\";float: left;margin-right: 0.25em;color: #696969;}#sk-container-id-1 label.sk-toggleable__label-arrow:hover:before {color: black;}#sk-container-id-1 div.sk-estimator:hover label.sk-toggleable__label-arrow:before {color: black;}#sk-container-id-1 div.sk-toggleable__content {max-height: 0;max-width: 0;overflow: hidden;text-align: left;background-color: #f0f8ff;}#sk-container-id-1 div.sk-toggleable__content pre {margin: 0.2em;color: black;border-radius: 0.25em;background-color: #f0f8ff;}#sk-container-id-1 input.sk-toggleable__control:checked~div.sk-toggleable__content {max-height: 200px;max-width: 100%;overflow: auto;}#sk-container-id-1 input.sk-toggleable__control:checked~label.sk-toggleable__label-arrow:before {content: \"▾\";}#sk-container-id-1 div.sk-estimator input.sk-toggleable__control:checked~label.sk-toggleable__label {background-color: #d4ebff;}#sk-container-id-1 div.sk-label input.sk-toggleable__control:checked~label.sk-toggleable__label {background-color: #d4ebff;}#sk-container-id-1 input.sk-hidden--visually {border: 0;clip: rect(1px 1px 1px 1px);clip: rect(1px, 1px, 1px, 1px);height: 1px;margin: -1px;overflow: hidden;padding: 0;position: absolute;width: 1px;}#sk-container-id-1 div.sk-estimator {font-family: monospace;background-color: #f0f8ff;border: 1px dotted black;border-radius: 0.25em;box-sizing: border-box;margin-bottom: 0.5em;}#sk-container-id-1 div.sk-estimator:hover {background-color: #d4ebff;}#sk-container-id-1 div.sk-parallel-item::after {content: \"\";width: 100%;border-bottom: 1px solid gray;flex-grow: 1;}#sk-container-id-1 div.sk-label:hover label.sk-toggleable__label {background-color: #d4ebff;}#sk-container-id-1 div.sk-serial::before {content: \"\";position: absolute;border-left: 1px solid gray;box-sizing: border-box;top: 0;bottom: 0;left: 50%;z-index: 0;}#sk-container-id-1 div.sk-serial {display: flex;flex-direction: column;align-items: center;background-color: white;padding-right: 0.2em;padding-left: 0.2em;position: relative;}#sk-container-id-1 div.sk-item {position: relative;z-index: 1;}#sk-container-id-1 div.sk-parallel {display: flex;align-items: stretch;justify-content: center;background-color: white;position: relative;}#sk-container-id-1 div.sk-item::before, #sk-container-id-1 div.sk-parallel-item::before {content: \"\";position: absolute;border-left: 1px solid gray;box-sizing: border-box;top: 0;bottom: 0;left: 50%;z-index: -1;}#sk-container-id-1 div.sk-parallel-item {display: flex;flex-direction: column;z-index: 1;position: relative;background-color: white;}#sk-container-id-1 div.sk-parallel-item:first-child::after {align-self: flex-end;width: 50%;}#sk-container-id-1 div.sk-parallel-item:last-child::after {align-self: flex-start;width: 50%;}#sk-container-id-1 div.sk-parallel-item:only-child::after {width: 0;}#sk-container-id-1 div.sk-dashed-wrapped {border: 1px dashed gray;margin: 0 0.4em 0.5em 0.4em;box-sizing: border-box;padding-bottom: 0.4em;background-color: white;}#sk-container-id-1 div.sk-label label {font-family: monospace;font-weight: bold;display: inline-block;line-height: 1.2em;}#sk-container-id-1 div.sk-label-container {text-align: center;}#sk-container-id-1 div.sk-container {/* jupyter's `normalize.less` sets `[hidden] { display: none; }` but bootstrap.min.css set `[hidden] { display: none !important; }` so we also need the `!important` here to be able to override the default hidden behavior on the sphinx rendered scikit-learn.org. See: https://github.com/scikit-learn/scikit-learn/issues/21755 */display: inline-block !important;position: relative;}#sk-container-id-1 div.sk-text-repr-fallback {display: none;}</style><div id=\"sk-container-id-1\" class=\"sk-top-container\"><div class=\"sk-text-repr-fallback\"><pre>PCA(n_components=4)</pre><b>In a Jupyter environment, please rerun this cell to show the HTML representation or trust the notebook. <br />On GitHub, the HTML representation is unable to render, please try loading this page with nbviewer.org.</b></div><div class=\"sk-container\" hidden><div class=\"sk-item\"><div class=\"sk-estimator sk-toggleable\"><input class=\"sk-toggleable__control sk-hidden--visually\" id=\"sk-estimator-id-1\" type=\"checkbox\" checked><label for=\"sk-estimator-id-1\" class=\"sk-toggleable__label sk-toggleable__label-arrow\">PCA</label><div class=\"sk-toggleable__content\"><pre>PCA(n_components=4)</pre></div></div></div></div></div>"
      ],
      "text/plain": [
       "PCA(n_components=4)"
      ]
     },
     "execution_count": 16,
     "metadata": {},
     "output_type": "execute_result"
    }
   ],
   "source": [
    "pca_model.fit(revisar)"
   ]
  },
  {
   "cell_type": "code",
   "execution_count": 17,
   "metadata": {
    "colab": {
     "base_uri": "https://localhost:8080/"
    },
    "executionInfo": {
     "elapsed": 372,
     "status": "ok",
     "timestamp": 1616514994113,
     "user": {
      "displayName": "Ana Luisa Masetto Herrera",
      "photoUrl": "https://lh3.googleusercontent.com/a-/AOh14GiHaML-9F5te0HrNsLkfqwvcxF6fws3azlUl6bp=s64",
      "userId": "07058712827475709960"
     },
     "user_tz": 360
    },
    "id": "YnwTXRcqglBd",
    "outputId": "bd52e1da-8171-44e8-c2f4-cf26cd0032c3"
   },
   "outputs": [
    {
     "data": {
      "text/plain": [
       "array([[ 0.52106591, -0.26934744,  0.5804131 ,  0.56485654],\n",
       "       [ 0.37741762,  0.92329566,  0.02449161,  0.06694199],\n",
       "       [-0.71956635,  0.24438178,  0.14212637,  0.63427274],\n",
       "       [-0.26128628,  0.12350962,  0.80144925, -0.52359713]])"
      ]
     },
     "execution_count": 17,
     "metadata": {},
     "output_type": "execute_result"
    }
   ],
   "source": [
    "pca_model.components_"
   ]
  },
  {
   "cell_type": "code",
   "execution_count": 18,
   "metadata": {
    "colab": {
     "base_uri": "https://localhost:8080/",
     "height": 143
    },
    "executionInfo": {
     "elapsed": 271,
     "status": "ok",
     "timestamp": 1616515000899,
     "user": {
      "displayName": "Ana Luisa Masetto Herrera",
      "photoUrl": "https://lh3.googleusercontent.com/a-/AOh14GiHaML-9F5te0HrNsLkfqwvcxF6fws3azlUl6bp=s64",
      "userId": "07058712827475709960"
     },
     "user_tz": 360
    },
    "id": "UHBQiOI8VgA9",
    "outputId": "327b4ea4-6709-45a2-f9ec-59da620483a8"
   },
   "outputs": [
    {
     "data": {
      "text/html": [
       "<div>\n",
       "<style scoped>\n",
       "    .dataframe tbody tr th:only-of-type {\n",
       "        vertical-align: middle;\n",
       "    }\n",
       "\n",
       "    .dataframe tbody tr th {\n",
       "        vertical-align: top;\n",
       "    }\n",
       "\n",
       "    .dataframe thead th {\n",
       "        text-align: right;\n",
       "    }\n",
       "</style>\n",
       "<table border=\"1\" class=\"dataframe\">\n",
       "  <thead>\n",
       "    <tr style=\"text-align: right;\">\n",
       "      <th></th>\n",
       "      <th>Sepal.Length</th>\n",
       "      <th>Sepal.Width</th>\n",
       "      <th>Petal.Length</th>\n",
       "      <th>Petal.Width</th>\n",
       "    </tr>\n",
       "  </thead>\n",
       "  <tbody>\n",
       "    <tr>\n",
       "      <th>PC1</th>\n",
       "      <td>0.521066</td>\n",
       "      <td>-0.269347</td>\n",
       "      <td>0.580413</td>\n",
       "      <td>0.564857</td>\n",
       "    </tr>\n",
       "    <tr>\n",
       "      <th>PC2</th>\n",
       "      <td>0.377418</td>\n",
       "      <td>0.923296</td>\n",
       "      <td>0.024492</td>\n",
       "      <td>0.066942</td>\n",
       "    </tr>\n",
       "    <tr>\n",
       "      <th>PC3</th>\n",
       "      <td>-0.719566</td>\n",
       "      <td>0.244382</td>\n",
       "      <td>0.142126</td>\n",
       "      <td>0.634273</td>\n",
       "    </tr>\n",
       "    <tr>\n",
       "      <th>PC4</th>\n",
       "      <td>-0.261286</td>\n",
       "      <td>0.123510</td>\n",
       "      <td>0.801449</td>\n",
       "      <td>-0.523597</td>\n",
       "    </tr>\n",
       "  </tbody>\n",
       "</table>\n",
       "</div>"
      ],
      "text/plain": [
       "     Sepal.Length  Sepal.Width  Petal.Length  Petal.Width\n",
       "PC1      0.521066    -0.269347      0.580413     0.564857\n",
       "PC2      0.377418     0.923296      0.024492     0.066942\n",
       "PC3     -0.719566     0.244382      0.142126     0.634273\n",
       "PC4     -0.261286     0.123510      0.801449    -0.523597"
      ]
     },
     "execution_count": 18,
     "metadata": {},
     "output_type": "execute_result"
    }
   ],
   "source": [
    "# Se combierte el array a dataframe para añadir nombres a los ejes. #vector de loadings, cargas\n",
    "pd.DataFrame(\n",
    "    data    = pca_model.components_,\n",
    "    columns = x.columns,\n",
    "    index   = ['PC1', 'PC2', 'PC3', 'PC4']\n",
    ")"
   ]
  },
  {
   "cell_type": "code",
   "execution_count": 19,
   "metadata": {
    "colab": {
     "base_uri": "https://localhost:8080/"
    },
    "executionInfo": {
     "elapsed": 307,
     "status": "ok",
     "timestamp": 1616515018897,
     "user": {
      "displayName": "Ana Luisa Masetto Herrera",
      "photoUrl": "https://lh3.googleusercontent.com/a-/AOh14GiHaML-9F5te0HrNsLkfqwvcxF6fws3azlUl6bp=s64",
      "userId": "07058712827475709960"
     },
     "user_tz": 360
    },
    "id": "B8Cs4Lp6XGg4",
    "outputId": "5ac7664a-d4f9-46c9-e00b-27f64c5d3899"
   },
   "outputs": [
    {
     "name": "stdout",
     "output_type": "stream",
     "text": [
      "------------------------------------------\n",
      "Porcentaje de varianza explicada acumulada\n",
      "------------------------------------------\n",
      "[0.72962445 0.95813207 0.99482129 1.        ]\n"
     ]
    }
   ],
   "source": [
    "# Porcentaje de varianza explicada acumulada\n",
    "# ==============================================================================\n",
    "prop_varianza_acum = pca_model.explained_variance_ratio_.cumsum()\n",
    "print('------------------------------------------')\n",
    "print('Porcentaje de varianza explicada acumulada')\n",
    "print('------------------------------------------')\n",
    "print(prop_varianza_acum)"
   ]
  },
  {
   "cell_type": "code",
   "execution_count": 20,
   "metadata": {
    "colab": {
     "base_uri": "https://localhost:8080/",
     "height": 424
    },
    "executionInfo": {
     "elapsed": 589,
     "status": "ok",
     "timestamp": 1616515051540,
     "user": {
      "displayName": "Ana Luisa Masetto Herrera",
      "photoUrl": "https://lh3.googleusercontent.com/a-/AOh14GiHaML-9F5te0HrNsLkfqwvcxF6fws3azlUl6bp=s64",
      "userId": "07058712827475709960"
     },
     "user_tz": 360
    },
    "id": "CeNN4ZF5X0XW",
    "outputId": "b056a138-80e1-48d7-e78d-64c105196908"
   },
   "outputs": [
    {
     "data": {
      "text/html": [
       "<div>\n",
       "<style scoped>\n",
       "    .dataframe tbody tr th:only-of-type {\n",
       "        vertical-align: middle;\n",
       "    }\n",
       "\n",
       "    .dataframe tbody tr th {\n",
       "        vertical-align: top;\n",
       "    }\n",
       "\n",
       "    .dataframe thead th {\n",
       "        text-align: right;\n",
       "    }\n",
       "</style>\n",
       "<table border=\"1\" class=\"dataframe\">\n",
       "  <thead>\n",
       "    <tr style=\"text-align: right;\">\n",
       "      <th></th>\n",
       "      <th>PC1</th>\n",
       "      <th>PC2</th>\n",
       "      <th>PC3</th>\n",
       "      <th>PC4</th>\n",
       "    </tr>\n",
       "  </thead>\n",
       "  <tbody>\n",
       "    <tr>\n",
       "      <th>0</th>\n",
       "      <td>-2.264703</td>\n",
       "      <td>0.480027</td>\n",
       "      <td>-0.127706</td>\n",
       "      <td>-0.024168</td>\n",
       "    </tr>\n",
       "    <tr>\n",
       "      <th>1</th>\n",
       "      <td>-2.080961</td>\n",
       "      <td>-0.674134</td>\n",
       "      <td>-0.234609</td>\n",
       "      <td>-0.103007</td>\n",
       "    </tr>\n",
       "    <tr>\n",
       "      <th>2</th>\n",
       "      <td>-2.364229</td>\n",
       "      <td>-0.341908</td>\n",
       "      <td>0.044201</td>\n",
       "      <td>-0.028377</td>\n",
       "    </tr>\n",
       "    <tr>\n",
       "      <th>3</th>\n",
       "      <td>-2.299384</td>\n",
       "      <td>-0.597395</td>\n",
       "      <td>0.091290</td>\n",
       "      <td>0.065956</td>\n",
       "    </tr>\n",
       "    <tr>\n",
       "      <th>4</th>\n",
       "      <td>-2.389842</td>\n",
       "      <td>0.646835</td>\n",
       "      <td>0.015738</td>\n",
       "      <td>0.035923</td>\n",
       "    </tr>\n",
       "    <tr>\n",
       "      <th>...</th>\n",
       "      <td>...</td>\n",
       "      <td>...</td>\n",
       "      <td>...</td>\n",
       "      <td>...</td>\n",
       "    </tr>\n",
       "    <tr>\n",
       "      <th>145</th>\n",
       "      <td>1.870503</td>\n",
       "      <td>0.386966</td>\n",
       "      <td>0.256274</td>\n",
       "      <td>-0.389257</td>\n",
       "    </tr>\n",
       "    <tr>\n",
       "      <th>146</th>\n",
       "      <td>1.564580</td>\n",
       "      <td>-0.896687</td>\n",
       "      <td>-0.026371</td>\n",
       "      <td>-0.220192</td>\n",
       "    </tr>\n",
       "    <tr>\n",
       "      <th>147</th>\n",
       "      <td>1.521170</td>\n",
       "      <td>0.269069</td>\n",
       "      <td>0.180178</td>\n",
       "      <td>-0.119171</td>\n",
       "    </tr>\n",
       "    <tr>\n",
       "      <th>148</th>\n",
       "      <td>1.372788</td>\n",
       "      <td>1.011254</td>\n",
       "      <td>0.933395</td>\n",
       "      <td>-0.026129</td>\n",
       "    </tr>\n",
       "    <tr>\n",
       "      <th>149</th>\n",
       "      <td>0.960656</td>\n",
       "      <td>-0.024332</td>\n",
       "      <td>0.528249</td>\n",
       "      <td>0.163078</td>\n",
       "    </tr>\n",
       "  </tbody>\n",
       "</table>\n",
       "<p>150 rows × 4 columns</p>\n",
       "</div>"
      ],
      "text/plain": [
       "          PC1       PC2       PC3       PC4\n",
       "0   -2.264703  0.480027 -0.127706 -0.024168\n",
       "1   -2.080961 -0.674134 -0.234609 -0.103007\n",
       "2   -2.364229 -0.341908  0.044201 -0.028377\n",
       "3   -2.299384 -0.597395  0.091290  0.065956\n",
       "4   -2.389842  0.646835  0.015738  0.035923\n",
       "..        ...       ...       ...       ...\n",
       "145  1.870503  0.386966  0.256274 -0.389257\n",
       "146  1.564580 -0.896687 -0.026371 -0.220192\n",
       "147  1.521170  0.269069  0.180178 -0.119171\n",
       "148  1.372788  1.011254  0.933395 -0.026129\n",
       "149  0.960656 -0.024332  0.528249  0.163078\n",
       "\n",
       "[150 rows x 4 columns]"
      ]
     },
     "execution_count": 20,
     "metadata": {},
     "output_type": "execute_result"
    }
   ],
   "source": [
    "#proyecciones = np.dot(pca_model.components_, scale(datos).T)\n",
    "#proyecciones = pd.DataFrame(proyecciones, index = ['PC1', 'PC2', 'PC3', 'PC4'])\n",
    "#proyecciones = proyecciones.transpose().set_index(datos.index)\n",
    "#proyecciones\n",
    "\n",
    "proyecciones = np.dot(pca_model.components_, datos_escalados.T)\n",
    "proyecciones = pd.DataFrame(proyecciones, index = ['PC1', 'PC2', 'PC3', 'PC4'])\n",
    "proyecciones = proyecciones.transpose().set_index(x.index)\n",
    "proyecciones"
   ]
  },
  {
   "cell_type": "code",
   "execution_count": 21,
   "metadata": {
    "colab": {
     "base_uri": "https://localhost:8080/",
     "height": 206
    },
    "executionInfo": {
     "elapsed": 299,
     "status": "ok",
     "timestamp": 1616515055658,
     "user": {
      "displayName": "Ana Luisa Masetto Herrera",
      "photoUrl": "https://lh3.googleusercontent.com/a-/AOh14GiHaML-9F5te0HrNsLkfqwvcxF6fws3azlUl6bp=s64",
      "userId": "07058712827475709960"
     },
     "user_tz": 360
    },
    "id": "MgFVVUrIzMf8",
    "outputId": "b79b0b5a-6296-4d55-e303-431bc64179b0"
   },
   "outputs": [
    {
     "data": {
      "text/html": [
       "<div>\n",
       "<style scoped>\n",
       "    .dataframe tbody tr th:only-of-type {\n",
       "        vertical-align: middle;\n",
       "    }\n",
       "\n",
       "    .dataframe tbody tr th {\n",
       "        vertical-align: top;\n",
       "    }\n",
       "\n",
       "    .dataframe thead th {\n",
       "        text-align: right;\n",
       "    }\n",
       "</style>\n",
       "<table border=\"1\" class=\"dataframe\">\n",
       "  <thead>\n",
       "    <tr style=\"text-align: right;\">\n",
       "      <th></th>\n",
       "      <th>PC1</th>\n",
       "      <th>PC2</th>\n",
       "    </tr>\n",
       "  </thead>\n",
       "  <tbody>\n",
       "    <tr>\n",
       "      <th>0</th>\n",
       "      <td>-2.264703</td>\n",
       "      <td>0.480027</td>\n",
       "    </tr>\n",
       "    <tr>\n",
       "      <th>1</th>\n",
       "      <td>-2.080961</td>\n",
       "      <td>-0.674134</td>\n",
       "    </tr>\n",
       "    <tr>\n",
       "      <th>2</th>\n",
       "      <td>-2.364229</td>\n",
       "      <td>-0.341908</td>\n",
       "    </tr>\n",
       "    <tr>\n",
       "      <th>3</th>\n",
       "      <td>-2.299384</td>\n",
       "      <td>-0.597395</td>\n",
       "    </tr>\n",
       "    <tr>\n",
       "      <th>4</th>\n",
       "      <td>-2.389842</td>\n",
       "      <td>0.646835</td>\n",
       "    </tr>\n",
       "  </tbody>\n",
       "</table>\n",
       "</div>"
      ],
      "text/plain": [
       "        PC1       PC2\n",
       "0 -2.264703  0.480027\n",
       "1 -2.080961 -0.674134\n",
       "2 -2.364229 -0.341908\n",
       "3 -2.299384 -0.597395\n",
       "4 -2.389842  0.646835"
      ]
     },
     "execution_count": 21,
     "metadata": {},
     "output_type": "execute_result"
    }
   ],
   "source": [
    "conjunto_1 = proyecciones[[\"PC1\",\"PC2\"]]\n",
    "conjunto_1.head()"
   ]
  },
  {
   "cell_type": "code",
   "execution_count": 22,
   "metadata": {
    "colab": {
     "base_uri": "https://localhost:8080/",
     "height": 206
    },
    "executionInfo": {
     "elapsed": 284,
     "status": "ok",
     "timestamp": 1616515060250,
     "user": {
      "displayName": "Ana Luisa Masetto Herrera",
      "photoUrl": "https://lh3.googleusercontent.com/a-/AOh14GiHaML-9F5te0HrNsLkfqwvcxF6fws3azlUl6bp=s64",
      "userId": "07058712827475709960"
     },
     "user_tz": 360
    },
    "id": "SmmyeQLmzmeu",
    "outputId": "01cec68c-9d35-410d-abf2-4ca46aad536a"
   },
   "outputs": [
    {
     "data": {
      "text/html": [
       "<div>\n",
       "<style scoped>\n",
       "    .dataframe tbody tr th:only-of-type {\n",
       "        vertical-align: middle;\n",
       "    }\n",
       "\n",
       "    .dataframe tbody tr th {\n",
       "        vertical-align: top;\n",
       "    }\n",
       "\n",
       "    .dataframe thead th {\n",
       "        text-align: right;\n",
       "    }\n",
       "</style>\n",
       "<table border=\"1\" class=\"dataframe\">\n",
       "  <thead>\n",
       "    <tr style=\"text-align: right;\">\n",
       "      <th></th>\n",
       "      <th>PC1</th>\n",
       "      <th>PC2</th>\n",
       "      <th>PC3</th>\n",
       "    </tr>\n",
       "  </thead>\n",
       "  <tbody>\n",
       "    <tr>\n",
       "      <th>0</th>\n",
       "      <td>-2.264703</td>\n",
       "      <td>0.480027</td>\n",
       "      <td>-0.127706</td>\n",
       "    </tr>\n",
       "    <tr>\n",
       "      <th>1</th>\n",
       "      <td>-2.080961</td>\n",
       "      <td>-0.674134</td>\n",
       "      <td>-0.234609</td>\n",
       "    </tr>\n",
       "    <tr>\n",
       "      <th>2</th>\n",
       "      <td>-2.364229</td>\n",
       "      <td>-0.341908</td>\n",
       "      <td>0.044201</td>\n",
       "    </tr>\n",
       "    <tr>\n",
       "      <th>3</th>\n",
       "      <td>-2.299384</td>\n",
       "      <td>-0.597395</td>\n",
       "      <td>0.091290</td>\n",
       "    </tr>\n",
       "    <tr>\n",
       "      <th>4</th>\n",
       "      <td>-2.389842</td>\n",
       "      <td>0.646835</td>\n",
       "      <td>0.015738</td>\n",
       "    </tr>\n",
       "  </tbody>\n",
       "</table>\n",
       "</div>"
      ],
      "text/plain": [
       "        PC1       PC2       PC3\n",
       "0 -2.264703  0.480027 -0.127706\n",
       "1 -2.080961 -0.674134 -0.234609\n",
       "2 -2.364229 -0.341908  0.044201\n",
       "3 -2.299384 -0.597395  0.091290\n",
       "4 -2.389842  0.646835  0.015738"
      ]
     },
     "execution_count": 22,
     "metadata": {},
     "output_type": "execute_result"
    }
   ],
   "source": [
    "conjunto_2 = proyecciones[[\"PC1\",\"PC2\",\"PC3\"]]\n",
    "conjunto_2.head()"
   ]
  },
  {
   "cell_type": "code",
   "execution_count": 23,
   "metadata": {
    "colab": {
     "base_uri": "https://localhost:8080/",
     "height": 424
    },
    "executionInfo": {
     "elapsed": 345,
     "status": "ok",
     "timestamp": 1616515063514,
     "user": {
      "displayName": "Ana Luisa Masetto Herrera",
      "photoUrl": "https://lh3.googleusercontent.com/a-/AOh14GiHaML-9F5te0HrNsLkfqwvcxF6fws3azlUl6bp=s64",
      "userId": "07058712827475709960"
     },
     "user_tz": 360
    },
    "id": "U_91OZb72vD4",
    "outputId": "7842ede8-b4a6-4139-99af-d61c03d3594d"
   },
   "outputs": [
    {
     "data": {
      "text/html": [
       "<div>\n",
       "<style scoped>\n",
       "    .dataframe tbody tr th:only-of-type {\n",
       "        vertical-align: middle;\n",
       "    }\n",
       "\n",
       "    .dataframe tbody tr th {\n",
       "        vertical-align: top;\n",
       "    }\n",
       "\n",
       "    .dataframe thead th {\n",
       "        text-align: right;\n",
       "    }\n",
       "</style>\n",
       "<table border=\"1\" class=\"dataframe\">\n",
       "  <thead>\n",
       "    <tr style=\"text-align: right;\">\n",
       "      <th></th>\n",
       "      <th>PC1</th>\n",
       "      <th>PC2</th>\n",
       "      <th>PC3</th>\n",
       "      <th>Species</th>\n",
       "    </tr>\n",
       "  </thead>\n",
       "  <tbody>\n",
       "    <tr>\n",
       "      <th>0</th>\n",
       "      <td>-2.264703</td>\n",
       "      <td>0.480027</td>\n",
       "      <td>-0.127706</td>\n",
       "      <td>setosa</td>\n",
       "    </tr>\n",
       "    <tr>\n",
       "      <th>1</th>\n",
       "      <td>-2.080961</td>\n",
       "      <td>-0.674134</td>\n",
       "      <td>-0.234609</td>\n",
       "      <td>setosa</td>\n",
       "    </tr>\n",
       "    <tr>\n",
       "      <th>2</th>\n",
       "      <td>-2.364229</td>\n",
       "      <td>-0.341908</td>\n",
       "      <td>0.044201</td>\n",
       "      <td>setosa</td>\n",
       "    </tr>\n",
       "    <tr>\n",
       "      <th>3</th>\n",
       "      <td>-2.299384</td>\n",
       "      <td>-0.597395</td>\n",
       "      <td>0.091290</td>\n",
       "      <td>setosa</td>\n",
       "    </tr>\n",
       "    <tr>\n",
       "      <th>4</th>\n",
       "      <td>-2.389842</td>\n",
       "      <td>0.646835</td>\n",
       "      <td>0.015738</td>\n",
       "      <td>setosa</td>\n",
       "    </tr>\n",
       "    <tr>\n",
       "      <th>...</th>\n",
       "      <td>...</td>\n",
       "      <td>...</td>\n",
       "      <td>...</td>\n",
       "      <td>...</td>\n",
       "    </tr>\n",
       "    <tr>\n",
       "      <th>145</th>\n",
       "      <td>1.870503</td>\n",
       "      <td>0.386966</td>\n",
       "      <td>0.256274</td>\n",
       "      <td>virginica</td>\n",
       "    </tr>\n",
       "    <tr>\n",
       "      <th>146</th>\n",
       "      <td>1.564580</td>\n",
       "      <td>-0.896687</td>\n",
       "      <td>-0.026371</td>\n",
       "      <td>virginica</td>\n",
       "    </tr>\n",
       "    <tr>\n",
       "      <th>147</th>\n",
       "      <td>1.521170</td>\n",
       "      <td>0.269069</td>\n",
       "      <td>0.180178</td>\n",
       "      <td>virginica</td>\n",
       "    </tr>\n",
       "    <tr>\n",
       "      <th>148</th>\n",
       "      <td>1.372788</td>\n",
       "      <td>1.011254</td>\n",
       "      <td>0.933395</td>\n",
       "      <td>virginica</td>\n",
       "    </tr>\n",
       "    <tr>\n",
       "      <th>149</th>\n",
       "      <td>0.960656</td>\n",
       "      <td>-0.024332</td>\n",
       "      <td>0.528249</td>\n",
       "      <td>virginica</td>\n",
       "    </tr>\n",
       "  </tbody>\n",
       "</table>\n",
       "<p>150 rows × 4 columns</p>\n",
       "</div>"
      ],
      "text/plain": [
       "          PC1       PC2       PC3    Species\n",
       "0   -2.264703  0.480027 -0.127706     setosa\n",
       "1   -2.080961 -0.674134 -0.234609     setosa\n",
       "2   -2.364229 -0.341908  0.044201     setosa\n",
       "3   -2.299384 -0.597395  0.091290     setosa\n",
       "4   -2.389842  0.646835  0.015738     setosa\n",
       "..        ...       ...       ...        ...\n",
       "145  1.870503  0.386966  0.256274  virginica\n",
       "146  1.564580 -0.896687 -0.026371  virginica\n",
       "147  1.521170  0.269069  0.180178  virginica\n",
       "148  1.372788  1.011254  0.933395  virginica\n",
       "149  0.960656 -0.024332  0.528249  virginica\n",
       "\n",
       "[150 rows x 4 columns]"
      ]
     },
     "execution_count": 23,
     "metadata": {},
     "output_type": "execute_result"
    }
   ],
   "source": [
    "conjunto_2 = pd.concat([conjunto_2, datos[['Species']]], axis = 1)\n",
    "conjunto_2"
   ]
  }
 ],
 "metadata": {
  "colab": {
   "collapsed_sections": [],
   "name": "PCA_Y_FA_IRIS_NUTRE.ipynb",
   "provenance": []
  },
  "kernelspec": {
   "display_name": "Python 3.10.6 ('envclase': venv)",
   "language": "python",
   "name": "python3"
  },
  "language_info": {
   "codemirror_mode": {
    "name": "ipython",
    "version": 3
   },
   "file_extension": ".py",
   "mimetype": "text/x-python",
   "name": "python",
   "nbconvert_exporter": "python",
   "pygments_lexer": "ipython3",
   "version": "3.10.6"
  },
  "vscode": {
   "interpreter": {
    "hash": "27f74661cc8bbc964b1055bc995e3692522a2b4b8bb8df4efa29a34c4b67d3f5"
   }
  }
 },
 "nbformat": 4,
 "nbformat_minor": 1
}
