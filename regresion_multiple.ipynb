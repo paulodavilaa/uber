{
 "cells": [
  {
   "cell_type": "code",
   "execution_count": 158,
   "metadata": {},
   "outputs": [
    {
     "data": {
      "text/html": [
       "<div>\n",
       "<style scoped>\n",
       "    .dataframe tbody tr th:only-of-type {\n",
       "        vertical-align: middle;\n",
       "    }\n",
       "\n",
       "    .dataframe tbody tr th {\n",
       "        vertical-align: top;\n",
       "    }\n",
       "\n",
       "    .dataframe thead th {\n",
       "        text-align: right;\n",
       "    }\n",
       "</style>\n",
       "<table border=\"1\" class=\"dataframe\">\n",
       "  <thead>\n",
       "    <tr style=\"text-align: right;\">\n",
       "      <th></th>\n",
       "      <th>Survived</th>\n",
       "      <th>Name</th>\n",
       "      <th>Sex</th>\n",
       "      <th>Age</th>\n",
       "      <th>Marital Status</th>\n",
       "    </tr>\n",
       "  </thead>\n",
       "  <tbody>\n",
       "    <tr>\n",
       "      <th>0</th>\n",
       "      <td>1</td>\n",
       "      <td>Patrick Breen</td>\n",
       "      <td>M</td>\n",
       "      <td>51.0</td>\n",
       "      <td>M</td>\n",
       "    </tr>\n",
       "    <tr>\n",
       "      <th>1</th>\n",
       "      <td>1</td>\n",
       "      <td>Margaret Breen</td>\n",
       "      <td>F</td>\n",
       "      <td>40.0</td>\n",
       "      <td>M</td>\n",
       "    </tr>\n",
       "    <tr>\n",
       "      <th>2</th>\n",
       "      <td>1</td>\n",
       "      <td>John Breen</td>\n",
       "      <td>M</td>\n",
       "      <td>14.0</td>\n",
       "      <td>S</td>\n",
       "    </tr>\n",
       "    <tr>\n",
       "      <th>3</th>\n",
       "      <td>1</td>\n",
       "      <td>Patrick Breen Jr.</td>\n",
       "      <td>M</td>\n",
       "      <td>9.0</td>\n",
       "      <td>S</td>\n",
       "    </tr>\n",
       "    <tr>\n",
       "      <th>4</th>\n",
       "      <td>1</td>\n",
       "      <td>Simon Preston Breen</td>\n",
       "      <td>M</td>\n",
       "      <td>8.0</td>\n",
       "      <td>S</td>\n",
       "    </tr>\n",
       "  </tbody>\n",
       "</table>\n",
       "</div>"
      ],
      "text/plain": [
       "   Survived                 Name Sex   Age Marital Status\n",
       "0         1        Patrick Breen   M  51.0              M\n",
       "1         1       Margaret Breen   F  40.0              M\n",
       "2         1           John Breen   M  14.0              S\n",
       "3         1    Patrick Breen Jr.   M   9.0              S\n",
       "4         1  Simon Preston Breen   M   8.0              S"
      ]
     },
     "execution_count": 158,
     "metadata": {},
     "output_type": "execute_result"
    }
   ],
   "source": [
    "import numpy as np\n",
    "import pandas as pd\n",
    "\n",
    "df = pd.read_csv(\"donner_party1.csv\")\n",
    "df = df.dropna()\n",
    "df.head()"
   ]
  },
  {
   "cell_type": "code",
   "execution_count": 159,
   "metadata": {},
   "outputs": [
    {
     "data": {
      "text/plain": [
       "([<matplotlib.axis.XTick at 0x1fd1864b670>,\n",
       "  <matplotlib.axis.XTick at 0x1fd1864b640>],\n",
       " [Text(1, 0, 'Murio'), Text(2, 0, 'Sobrevivio')])"
      ]
     },
     "execution_count": 159,
     "metadata": {},
     "output_type": "execute_result"
    },
    {
     "data": {
      "image/png": "[encoded data removed]",
      "text/plain": [
       "<Figure size 432x288 with 1 Axes>"
      ]
     },
     "metadata": {
      "needs_background": "light"
     },
     "output_type": "display_data"
    }
   ],
   "source": [
    "import numpy as np\n",
    "import matplotlib.pyplot as plt\n",
    "\n",
    "df.boxplot(\"Age\",\"Survived\")\n",
    "plt.xticks([1, 2], ['Murio', 'Sobrevivio'])\n"
   ]
  },
  {
   "cell_type": "code",
   "execution_count": 160,
   "metadata": {},
   "outputs": [
    {
     "data": {
      "text/plain": [
       "Text(0.5, 1.0, 'Edad vs Sexo')"
      ]
     },
     "execution_count": 160,
     "metadata": {},
     "output_type": "execute_result"
    },
    {
     "data": {
      "image/png": "[encoded data removed]",
      "text/plain": [
       "<Figure size 432x288 with 1 Axes>"
      ]
     },
     "metadata": {
      "needs_background": "light"
     },
     "output_type": "display_data"
    }
   ],
   "source": [
    "df.boxplot(\"Age\",\"Sex\")\n",
    "plt.xticks([1, 2], ['Hombre', 'Mujer'])\n",
    "plt.title('Edad vs Sexo')"
   ]
  },
  {
   "cell_type": "code",
   "execution_count": 161,
   "metadata": {},
   "outputs": [
    {
     "name": "stdout",
     "output_type": "stream",
     "text": [
      "                 Generalized Linear Model Regression Results                  \n",
      "==============================================================================\n",
      "Dep. Variable:               Survived   No. Observations:                   86\n",
      "Model:                            GLM   Df Residuals:                       83\n",
      "Model Family:                Binomial   Df Model:                            2\n",
      "Link Function:                  Logit   Scale:                          1.0000\n",
      "Method:                          IRLS   Log-Likelihood:                -54.154\n",
      "Date:                Wed, 05 Oct 2022   Deviance:                       108.31\n",
      "Time:                        12:39:06   Pearson chi2:                     87.1\n",
      "No. Iterations:                     4   Pseudo R-squ. (CS):             0.1072\n",
      "Covariance Type:            nonrobust                                         \n",
      "==============================================================================\n",
      "                 coef    std err          z      P>|z|      [0.025      0.975]\n",
      "------------------------------------------------------------------------------\n",
      "Intercept      1.5069      0.504      2.991      0.003       0.520       2.494\n",
      "Sex[T.M]      -0.8934      0.484     -1.845      0.065      -1.843       0.056\n",
      "Age           -0.0339      0.015     -2.237      0.025      -0.064      -0.004\n",
      "==============================================================================\n"
     ]
    }
   ],
   "source": [
    "import statsmodels.api as sm\n",
    "import statsmodels.formula.api as smf\n",
    "\n",
    "formula = 'Survived ~ Age + Sex'\n",
    "\n",
    "# Instantiate a gamma family model with the default link function.\n",
    "model = smf.glm(formula = formula, data=df, family=sm.families.Binomial()).fit()\n",
    "\n",
    "print(model.summary())"
   ]
  },
  {
   "cell_type": "code",
   "execution_count": 162,
   "metadata": {},
   "outputs": [
    {
     "data": {
      "image/png": "[encoded data removed]",
      "text/plain": [
       "<Figure size 432x288 with 1 Axes>"
      ]
     },
     "metadata": {
      "needs_background": "light"
     },
     "output_type": "display_data"
    }
   ],
   "source": [
    "scatter_plot=df.plot.scatter(x='Age',y='Survived',c=\"Red\")\n",
    "scatter_plot.plot()\n",
    "plt.show()"
   ]
  },
  {
   "cell_type": "code",
   "execution_count": 163,
   "metadata": {},
   "outputs": [],
   "source": [
    "groups = df.groupby(df.Sex)\n",
    "\n",
    "mujeres_df = groups.get_group('F')\n",
    "hombres_df = groups.get_group('M')"
   ]
  },
  {
   "cell_type": "code",
   "execution_count": 164,
   "metadata": {},
   "outputs": [],
   "source": [
    "import pandas as pd\n",
    "import numpy as np\n",
    "\n",
    "# Gráficos\n",
    "# ==============================================================================\n",
    "import matplotlib.pyplot as plt\n",
    "from matplotlib import style\n",
    "import seaborn as sns\n",
    "\n",
    "# Preprocesado y modelado\n",
    "# ==============================================================================\n",
    "from sklearn.linear_model import LogisticRegression\n",
    "from sklearn.model_selection import train_test_split\n",
    "from sklearn.metrics import accuracy_score\n",
    "import statsmodels.api as sm\n",
    "import statsmodels.formula.api as smf\n",
    "from statsmodels.stats.weightstats import ttest_ind\n",
    "# División de los datos en train y test\n",
    "# ==============================================================================\n",
    "\n",
    "X_h = hombres_df[['Age']]\n",
    "y_h = hombres_df['Survived']\n",
    "\n",
    "X_m = mujeres_df[['Age']]\n",
    "y_m = mujeres_df['Survived']\n",
    "\n",
    "X_train_h, X_test_h, y_train_h, y_test_h = train_test_split(\n",
    "                                        X_h.values.reshape(-1,1),\n",
    "                                        y_h.values.reshape(-1,1),\n",
    "                                        train_size   = 0.8,\n",
    "                                        random_state = 1234,\n",
    "                                        shuffle      = True\n",
    "                                    )\n",
    "X_train_m, X_test_m, y_train_m, y_test_m = train_test_split(\n",
    "                                        X_m.values.reshape(-1,1),\n",
    "                                        y_m.values.reshape(-1,1),\n",
    "                                        train_size   = 0.8,\n",
    "                                        random_state = 1234,\n",
    "                                        shuffle      = True\n",
    "                                    )"
   ]
  },
  {
   "cell_type": "code",
   "execution_count": 165,
   "metadata": {},
   "outputs": [
    {
     "name": "stdout",
     "output_type": "stream",
     "text": [
      "Optimization terminated successfully.\n",
      "         Current function value: 0.620168\n",
      "         Iterations 5\n",
      "                           Logit Regression Results                           \n",
      "==============================================================================\n",
      "Dep. Variable:                      y   No. Observations:                   42\n",
      "Model:                          Logit   Df Residuals:                       40\n",
      "Method:                           MLE   Df Model:                            1\n",
      "Date:                Wed, 05 Oct 2022   Pseudo R-squ.:                 0.09187\n",
      "Time:                        12:39:06   Log-Likelihood:                -26.047\n",
      "converged:                       True   LL-Null:                       -28.682\n",
      "Covariance Type:            nonrobust   LLR p-value:                   0.02169\n",
      "==============================================================================\n",
      "                 coef    std err          z      P>|z|      [0.025      0.975]\n",
      "------------------------------------------------------------------------------\n",
      "const          0.7900      0.593      1.333      0.183      -0.372       1.952\n",
      "x1            -0.0546      0.027     -2.039      0.041      -0.107      -0.002\n",
      "==============================================================================\n",
      "Optimization terminated successfully.\n",
      "         Current function value: 0.633425\n",
      "         Iterations 5\n",
      "                           Logit Regression Results                           \n",
      "==============================================================================\n",
      "Dep. Variable:                      y   No. Observations:                   26\n",
      "Model:                          Logit   Df Residuals:                       24\n",
      "Method:                           MLE   Df Model:                            1\n",
      "Date:                Wed, 05 Oct 2022   Pseudo R-squ.:                 0.01800\n",
      "Time:                        12:39:06   Log-Likelihood:                -16.469\n",
      "converged:                       True   LL-Null:                       -16.771\n",
      "Covariance Type:            nonrobust   LLR p-value:                    0.4372\n",
      "==============================================================================\n",
      "                 coef    std err          z      P>|z|      [0.025      0.975]\n",
      "------------------------------------------------------------------------------\n",
      "const          1.0333      0.674      1.532      0.125      -0.288       2.355\n",
      "x1            -0.0184      0.024     -0.771      0.441      -0.065       0.028\n",
      "==============================================================================\n"
     ]
    }
   ],
   "source": [
    "X_train_h = sm.add_constant(X_train_h, prepend=True)\n",
    "modelo_h = sm.Logit(endog=y_train_h, exog=X_train_h,)\n",
    "modelo_h = modelo_h.fit()\n",
    "print(modelo_h.summary())\n",
    "\n",
    "X_train_m = sm.add_constant(X_train_m, prepend=True)\n",
    "modelo_m = sm.Logit(endog=y_train_m, exog=X_train_m,)\n",
    "modelo_m = modelo_m.fit()\n",
    "print(modelo_m.summary())"
   ]
  },
  {
   "cell_type": "code",
   "execution_count": 166,
   "metadata": {},
   "outputs": [
    {
     "name": "stdout",
     "output_type": "stream",
     "text": [
      "       2.5%     97.5%\n",
      "0 -0.371513  1.951504\n",
      "1 -0.107130 -0.002111\n",
      "       2.5%     97.5%\n",
      "0 -0.288466  2.355118\n",
      "1 -0.065316  0.028428\n"
     ]
    }
   ],
   "source": [
    "# Intervalos de confianza para los coeficientes del modelo\n",
    "# ==============================================================================\n",
    "intervalos_ci_h = modelo_h.conf_int(alpha=0.05)\n",
    "intervalos_ci_h = pd.DataFrame(intervalos_ci_h)\n",
    "intervalos_ci_h.columns = ['2.5%', '97.5%']\n",
    "print(intervalos_ci_h)\n",
    "\n",
    "intervalos_ci_m = modelo_m.conf_int(alpha=0.05)\n",
    "intervalos_ci_m = pd.DataFrame(intervalos_ci_m)\n",
    "intervalos_ci_m.columns = ['2.5%', '97.5%']\n",
    "print(intervalos_ci_m)"
   ]
  },
  {
   "cell_type": "code",
   "execution_count": 167,
   "metadata": {},
   "outputs": [],
   "source": [
    "# Predicción de probabilidades\n",
    "# ==============================================================================\n",
    "predicciones_h = modelo_h.predict(exog = X_train_h)\n",
    "predicciones_m = modelo_m.predict(exog = X_train_m)"
   ]
  },
  {
   "cell_type": "code",
   "execution_count": 168,
   "metadata": {},
   "outputs": [],
   "source": [
    "# Clasificación predicha\n",
    "# ==============================================================================\n",
    "clasificacion_h = np.where(predicciones_h<0.5, 0, 1)\n",
    "clasificacion_m = np.where(predicciones_m<0.5, 0, 1)"
   ]
  },
  {
   "cell_type": "code",
   "execution_count": 169,
   "metadata": {},
   "outputs": [],
   "source": [
    "# Predicciones en todo el rango de X\n",
    "# ==============================================================================\n",
    "# Se crea un vector con nuevos valores interpolados en el rango de observaciones.\n",
    "grid_X_h = np.linspace(\n",
    "            start = min(hombres_df.Age),\n",
    "            stop  = max(hombres_df.Age),\n",
    "            num   = 200\n",
    "         ).reshape(-1,1)\n",
    "\n",
    "grid_X_h = sm.add_constant(grid_X_h, prepend=True)\n",
    "predicciones_h = modelo_h.predict(exog = grid_X_h)\n",
    "\n",
    "grid_X_m = np.linspace(\n",
    "            start = min(mujeres_df.Age),\n",
    "            stop  = max(mujeres_df.Age),\n",
    "            num   = 200\n",
    "         ).reshape(-1,1)\n",
    "\n",
    "grid_X_m = sm.add_constant(grid_X_m, prepend=True)\n",
    "predicciones_m = modelo_m.predict(exog = grid_X_m)"
   ]
  },
  {
   "cell_type": "code",
   "execution_count": 170,
   "metadata": {},
   "outputs": [
    {
     "data": {
      "text/plain": [
       "Text(0.5, 0, 'Nota matemáticas')"
      ]
     },
     "execution_count": 170,
     "metadata": {},
     "output_type": "execute_result"
    },
    {
     "data": {
      "image/png": "[encoded data removed]",
      "text/plain": [
       "<Figure size 432x276.48 with 1 Axes>"
      ]
     },
     "metadata": {
      "needs_background": "light"
     },
     "output_type": "display_data"
    }
   ],
   "source": [
    "# Gráfico del modelo\n",
    "# ==============================================================================\n",
    "fig, ax = plt.subplots(figsize=(6, 3.84))\n",
    "\n",
    "ax.scatter(\n",
    "    X_train_h[(y_train_h == 1).flatten(), 1],\n",
    "    y_train_h[(y_train_h == 1).flatten()].flatten()\n",
    ")\n",
    "ax.scatter(\n",
    "    X_train_h[(y_train_h == 0).flatten(), 1],\n",
    "    y_train_h[(y_train_h == 0).flatten()].flatten()\n",
    ")\n",
    "ax.plot(grid_X_h[:, 1], predicciones_h, color = \"gray\")\n",
    "\n",
    "ax.scatter(\n",
    "    X_train_m[(y_train_m == 1).flatten(), 1],\n",
    "    y_train_m[(y_train_m == 1).flatten()].flatten()\n",
    ")\n",
    "ax.scatter(\n",
    "    X_train_m[(y_train_m == 0).flatten(), 1],\n",
    "    y_train_m[(y_train_m == 0).flatten()].flatten()\n",
    ")\n",
    "ax.plot(grid_X_m[:, 1], predicciones_m, color = \"red\")\n",
    "\n",
    "\n",
    "ax.set_title(\"Modelo regresión logística\")\n",
    "ax.set_ylabel(\"P(matrícula = 1 | matemáticas)\")\n",
    "ax.set_xlabel(\"Nota matemáticas\")"
   ]
  }
 ],
 "metadata": {
  "kernelspec": {
   "display_name": "Python 3.9.1 64-bit",
   "language": "python",
   "name": "python3"
  },
  "language_info": {
   "codemirror_mode": {
    "name": "ipython",
    "version": 3
   },
   "file_extension": ".py",
   "mimetype": "text/x-python",
   "name": "python",
   "nbconvert_exporter": "python",
   "pygments_lexer": "ipython3",
   "version": "3.9.1"
  },
  "orig_nbformat": 4,
  "vscode": {
   "interpreter": {
    "hash": "11938c6bc6919ae2720b4d5011047913343b08a43b18698fd82dedb0d4417594"
   }
  }
 },
 "nbformat": 4,
 "nbformat_minor": 2
}
