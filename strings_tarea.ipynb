{
 "cells": [
  {
   "cell_type": "code",
   "execution_count": 1,
   "id": "1c52a758-3d8a-4c22-89b4-8a083ee3b205",
   "metadata": {},
   "outputs": [
    {
     "name": "stdout",
     "output_type": "stream",
     "text": [
      "5\n"
     ]
    }
   ],
   "source": [
    "while True:\n",
    "    x = input(\"Ingresa el string: \")\n",
    "    if x[0] == \".\":\n",
    "        break\n",
    "    elif x == str:\n",
    "        print(x.split())\n",
    "print(len(x))"
   ]
  },
  {
   "cell_type": "code",
   "execution_count": 19,
   "id": "317f87aa-f518-411b-944b-d7a6c2a08ff2",
   "metadata": {},
   "outputs": [
    {
     "name": "stdout",
     "output_type": "stream",
     "text": [
      "['a', 'a', 'a', 'a', 'aaaa']\n",
      "['a', 'a', 'a', 'a', 'aaaa']\n"
     ]
    },
    {
     "ename": "UnboundLocalError",
     "evalue": "local variable 'x' referenced before assignment",
     "output_type": "error",
     "traceback": [
      "\u001b[0;31m---------------------------------------------------------------------------\u001b[0m",
      "\u001b[0;31mUnboundLocalError\u001b[0m                         Traceback (most recent call last)",
      "\u001b[1;32m/Users/paulodavila/Downloads/Paulo POO/MTY.TC1030.12.2111.43311.Paulo/programaspython/strings_tarea.ipynb Cell 2\u001b[0m in \u001b[0;36m<cell line: 15>\u001b[0;34m()\u001b[0m\n\u001b[1;32m     <a href='vscode-notebook-cell:/Users/paulodavila/Downloads/Paulo%20POO/MTY.TC1030.12.2111.43311.Paulo/programaspython/strings_tarea.ipynb#W1sZmlsZQ%3D%3D?line=12'>13</a>\u001b[0m     \u001b[39melse\u001b[39;00m:\n\u001b[1;32m     <a href='vscode-notebook-cell:/Users/paulodavila/Downloads/Paulo%20POO/MTY.TC1030.12.2111.43311.Paulo/programaspython/strings_tarea.ipynb#W1sZmlsZQ%3D%3D?line=13'>14</a>\u001b[0m         \u001b[39mprint\u001b[39m(x\u001b[39m.\u001b[39msplit())\n\u001b[0;32m---> <a href='vscode-notebook-cell:/Users/paulodavila/Downloads/Paulo%20POO/MTY.TC1030.12.2111.43311.Paulo/programaspython/strings_tarea.ipynb#W1sZmlsZQ%3D%3D?line=14'>15</a>\u001b[0m cpalabras()\n\u001b[1;32m     <a href='vscode-notebook-cell:/Users/paulodavila/Downloads/Paulo%20POO/MTY.TC1030.12.2111.43311.Paulo/programaspython/strings_tarea.ipynb#W1sZmlsZQ%3D%3D?line=15'>16</a>\u001b[0m promedio()\n",
      "\u001b[1;32m/Users/paulodavila/Downloads/Paulo POO/MTY.TC1030.12.2111.43311.Paulo/programaspython/strings_tarea.ipynb Cell 2\u001b[0m in \u001b[0;36mcpalabras\u001b[0;34m()\u001b[0m\n\u001b[1;32m      <a href='vscode-notebook-cell:/Users/paulodavila/Downloads/Paulo%20POO/MTY.TC1030.12.2111.43311.Paulo/programaspython/strings_tarea.ipynb#W1sZmlsZQ%3D%3D?line=1'>2</a>\u001b[0m \u001b[39mdef\u001b[39;00m \u001b[39mcpalabras\u001b[39m():\n\u001b[0;32m----> <a href='vscode-notebook-cell:/Users/paulodavila/Downloads/Paulo%20POO/MTY.TC1030.12.2111.43311.Paulo/programaspython/strings_tarea.ipynb#W1sZmlsZQ%3D%3D?line=2'>3</a>\u001b[0m     x \u001b[39m=\u001b[39m \u001b[39mlen\u001b[39m(x)\n\u001b[1;32m      <a href='vscode-notebook-cell:/Users/paulodavila/Downloads/Paulo%20POO/MTY.TC1030.12.2111.43311.Paulo/programaspython/strings_tarea.ipynb#W1sZmlsZQ%3D%3D?line=3'>4</a>\u001b[0m     \u001b[39mreturn\u001b[39;00m x\n",
      "\u001b[0;31mUnboundLocalError\u001b[0m: local variable 'x' referenced before assignment"
     ]
    }
   ],
   "source": [
    "import statistics\n",
    "def cpalabras():\n",
    "    x = len(x)\n",
    "    return x\n",
    "\n",
    "def promedio():\n",
    "    x = statistics.mean\n",
    "\n",
    "while True:\n",
    "    x = input(\"Ingresa el string: \")\n",
    "    if x[0] == \".\":\n",
    "        break\n",
    "    else:\n",
    "        print(x.split())\n",
    "cpalabras()\n",
    "promedio()\n",
    "\n",
    "#Número de palabras.\n",
    "#Tamaño promedio de las palabras."
   ]
  },
  {
   "cell_type": "code",
   "execution_count": 2,
   "id": "8bb175b4-4f65-49ff-91e6-a565355abce9",
   "metadata": {},
   "outputs": [],
   "source": [
    "print(len(x.split()))\n"
   ]
  }
 ],
 "metadata": {
  "kernelspec": {
   "display_name": "Python 3.10.6 ('envclase': venv)",
   "language": "python",
   "name": "python3"
  },
  "language_info": {
   "codemirror_mode": {
    "name": "ipython",
    "version": 3
   },
   "file_extension": ".py",
   "mimetype": "text/x-python",
   "name": "python",
   "nbconvert_exporter": "python",
   "pygments_lexer": "ipython3",
   "version": "3.10.6"
  },
  "vscode": {
   "interpreter": {
    "hash": "27f74661cc8bbc964b1055bc995e3692522a2b4b8bb8df4efa29a34c4b67d3f5"
   }
  }
 },
 "nbformat": 4,
 "nbformat_minor": 5
}
