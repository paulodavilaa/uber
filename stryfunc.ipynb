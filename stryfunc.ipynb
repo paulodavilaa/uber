{
 "cells": [
  {
   "cell_type": "code",
   "execution_count": 2,
   "metadata": {},
   "outputs": [],
   "source": [
    "while True:\n",
    "    x=str(input(\"Ingresa el string:\"))    \n",
    "    if x[0] == '.':\n",
    "        break\n",
    "    elif x == str:\n",
    "        lista.append(x)"
   ]
  },
  {
   "cell_type": "code",
   "execution_count": null,
   "metadata": {},
   "outputs": [],
   "source": []
  }
 ],
 "metadata": {
  "kernelspec": {
   "display_name": "Python 3.10.6 ('envclase': venv)",
   "language": "python",
   "name": "python3"
  },
  "language_info": {
   "codemirror_mode": {
    "name": "ipython",
    "version": 3
   },
   "file_extension": ".py",
   "mimetype": "text/x-python",
   "name": "python",
   "nbconvert_exporter": "python",
   "pygments_lexer": "ipython3",
   "version": "3.10.6"
  },
  "orig_nbformat": 4,
  "vscode": {
   "interpreter": {
    "hash": "27f74661cc8bbc964b1055bc995e3692522a2b4b8bb8df4efa29a34c4b67d3f5"
   }
  }
 },
 "nbformat": 4,
 "nbformat_minor": 2
}
